{
  "nbformat": 4,
  "nbformat_minor": 0,
  "metadata": {
    "colab": {
      "provenance": []
    },
    "kernelspec": {
      "name": "python3",
      "display_name": "Python 3"
    },
    "language_info": {
      "name": "python"
    }
  },
  "cells": [
    {
      "cell_type": "markdown",
      "source": [
        "# **Tugas Individu Modul 3 Praktikum ABD**\n",
        "Nama : Claudhea Angeliani\n",
        "\n",
        "NIM : 121450124\n",
        "\n",
        "Kelas : RB"
      ],
      "metadata": {
        "id": "cYnVUzpaS4E7"
      }
    },
    {
      "cell_type": "markdown",
      "source": [
        "### Instalasi pyspark\n",
        "pyspark atau Apache Spark adalah Python API yang digunakan untuk proses data berskala besar *(Big Data)* yang *realtime*."
      ],
      "metadata": {
        "id": "TnefGGpB91Ce"
      }
    },
    {
      "cell_type": "code",
      "source": [
        "pip install pyspark"
      ],
      "metadata": {
        "colab": {
          "base_uri": "https://localhost:8080/"
        },
        "id": "rNSucA_DS-_A",
        "outputId": "b3f1f928-8362-41e6-99ff-5abaac5a9553"
      },
      "execution_count": 1,
      "outputs": [
        {
          "output_type": "stream",
          "name": "stdout",
          "text": [
            "Collecting pyspark\n",
            "  Downloading pyspark-3.5.1.tar.gz (317.0 MB)\n",
            "\u001b[2K     \u001b[90m━━━━━━━━━━━━━━━━━━━━━━━━━━━━━━━━━━━━━━━━\u001b[0m \u001b[32m317.0/317.0 MB\u001b[0m \u001b[31m4.6 MB/s\u001b[0m eta \u001b[36m0:00:00\u001b[0m\n",
            "\u001b[?25h  Preparing metadata (setup.py) ... \u001b[?25l\u001b[?25hdone\n",
            "Requirement already satisfied: py4j==0.10.9.7 in /usr/local/lib/python3.10/dist-packages (from pyspark) (0.10.9.7)\n",
            "Building wheels for collected packages: pyspark\n",
            "  Building wheel for pyspark (setup.py) ... \u001b[?25l\u001b[?25hdone\n",
            "  Created wheel for pyspark: filename=pyspark-3.5.1-py2.py3-none-any.whl size=317488491 sha256=96d51616d52b16370598dd7f065356cd6e387155fe9a715c5997f895b9059888\n",
            "  Stored in directory: /root/.cache/pip/wheels/80/1d/60/2c256ed38dddce2fdd93be545214a63e02fbd8d74fb0b7f3a6\n",
            "Successfully built pyspark\n",
            "Installing collected packages: pyspark\n",
            "Successfully installed pyspark-3.5.1\n"
          ]
        }
      ]
    },
    {
      "cell_type": "markdown",
      "source": [
        "### Import Library\n",
        "\n",
        "Pada pemrosesan *big data* ini, digunakan 3 *library* yaitu numpy, pandas dan ast.\n",
        "\n",
        "*   Numpy digunakan untuk proses manipulasi dan analisis data dalam bentuk numerik, array, matriks dan fungsi matematika.\n",
        "*   Pandas digunakan untuk memanipulasi data berbasis tabel atau *dataframe*\n",
        "*   ast atau *Abstract Syntax Tree* digunakan untuk membantu menganalisis, mengubah, dan mengoptimalkan kode Python."
      ],
      "metadata": {
        "id": "_6OmcZOq-YqG"
      }
    },
    {
      "cell_type": "code",
      "execution_count": 2,
      "metadata": {
        "id": "tY-AfrdOS0Vv"
      },
      "outputs": [],
      "source": [
        "# Mengimport library numpy, pandas, ast(Abstract Syntax Trees)\n",
        "import numpy as np\n",
        "import pandas as pd\n",
        "import ast"
      ]
    },
    {
      "cell_type": "markdown",
      "source": [
        "### Dataset"
      ],
      "metadata": {
        "id": "9z3TgQy9_vdD"
      }
    },
    {
      "cell_type": "markdown",
      "source": [
        "Dataset yang digunakan pada modul ini adalah movie data part 1. File berformat csv dan di baca dengan kode `spark.read`. Lalu ditampilkan skemanya dengan `printSchema` lalu mencetak dataframnya dengan `df.show(20)` artinya menampilkan 20 baris paling atas dari dataset.\n",
        "\n",
        "Dataset ini berisi tentang berbagai judul film beserta metadatanya. Metadata tersebut dibuat menjadi tabel dengan variabel sebagai berikut:\n",
        "\n",
        "*   belongs_to_collections: kategori apakah film tersebut adalah koleksi dari sebuah produksi film series atau koleksi khusus\n",
        "*   budget: biaya yang dihabiskan untuk produksi film\n",
        "*   id: nomor registrasi film\n",
        "*   original_language: bahasa asli yang digunakan dalam film\n",
        "*   original_title: title asli/terdahulu\n",
        "*   overview: sinopsis atau rangkuman pendek film\n",
        "*   popularity : nilai kumulative dari jumlah rating, votes, view, dsb.\n",
        "*   production_companies : company atau perusahaan yang memproduksi film\n",
        "*   production_countries: asal negara perusahaan yang memproduksi film\n",
        "*   release_data : tanggal rilis film\n",
        "*   revenue: nilai keuntungan yang dihasilkan saat film tayang\n",
        "*   runtime: panjang durasi film\n",
        "*   status: keterangan atau status film\n",
        "*   tagline: kalimat ikonik yang digunakan untuk promosi film\n",
        "*   title: judul final film\n",
        "*   vote_averange: jumlah rata-rata vote yang didapatkan film. Vote ini biasanya didapatkan dari penilaian penonton.\n",
        "\n",
        "**Tujuan** dibuatnya dataset ini adalah mendapatkan informasi penting terkait preferensi penonton, budget hingga teknis perfilman, sehingga rumah produksi dapat merancang produksi film dengan lebih strategis dan efisien. Hal ini menanggulangi terciptanya film-film yang overbudget namun revenue atau keuntungannya tidak sebanyak biaya awalnya."
      ],
      "metadata": {
        "id": "rYtcg99S_-dO"
      }
    },
    {
      "cell_type": "code",
      "source": [
        "from pyspark.sql import SparkSession\n",
        "\n",
        "# Inisialisasi SparkSession\n",
        "spark = SparkSession.builder \\\n",
        "    .appName(\"Create Spark DataFrame\") \\\n",
        "    .getOrCreate()\n",
        "\n",
        "# Memuat file CSV ke Pandas DataFrames\n",
        "df = spark.read.options(header='True', inferSchema='True', delimiter='|') \\\n",
        "    .csv('/content/movie_data_part1.csv')\n",
        "df.printSchema()\n",
        "\n",
        "# Menampilkan beberapa baris pertama dari Spark DataFrame\n",
        "df.show(20)"
      ],
      "metadata": {
        "colab": {
          "base_uri": "https://localhost:8080/"
        },
        "id": "lecjrRUvo3FO",
        "outputId": "904495b9-889e-4008-ea6c-59c58b916656"
      },
      "execution_count": 3,
      "outputs": [
        {
          "output_type": "stream",
          "name": "stdout",
          "text": [
            "root\n",
            " |-- belongs_to_collection: string (nullable = true)\n",
            " |-- budget: double (nullable = true)\n",
            " |-- id: string (nullable = true)\n",
            " |-- original_language: string (nullable = true)\n",
            " |-- original_title: string (nullable = true)\n",
            " |-- overview: string (nullable = true)\n",
            " |-- popularity: double (nullable = true)\n",
            " |-- production_companies: string (nullable = true)\n",
            " |-- production_countries: string (nullable = true)\n",
            " |-- release_date: string (nullable = true)\n",
            " |-- revenue: double (nullable = true)\n",
            " |-- runtime: integer (nullable = true)\n",
            " |-- status: string (nullable = true)\n",
            " |-- tagline: string (nullable = true)\n",
            " |-- title: string (nullable = true)\n",
            " |-- vote_average: double (nullable = true)\n",
            "\n",
            "+---------------------+---------+-----+-----------------+--------------------+--------------------+------------------+--------------------+--------------------+------------+---------+-------+--------+--------------------+--------------------+------------+\n",
            "|belongs_to_collection|   budget|   id|original_language|      original_title|            overview|        popularity|production_companies|production_countries|release_date|  revenue|runtime|  status|             tagline|               title|vote_average|\n",
            "+---------------------+---------+-----+-----------------+--------------------+--------------------+------------------+--------------------+--------------------+------------+---------+-------+--------+--------------------+--------------------+------------+\n",
            "|                 NULL|      0.0|43000|               fr|  Le Caporal épinglé|The story serves ...|             2.503|[{'id': 16059, 'l...|[{'iso_3166_1': '...|  1962-05-23|      0.0|     90|Released|                NULL|The Elusive Corporal|         5.9|\n",
            "|                 NULL|      0.0|43001|               fr|Cybèle ou les dim...|The tragic story ...|              5.51|[{'id': 7808, 'lo...|[{'iso_3166_1': '...|  1962-11-12|      0.0|    110|Released|                NULL|  Sundays and Cybele|         7.4|\n",
            "|                 NULL|      0.0|43002|               en|Lonely Are the Brave|A fiercely indepe...|              5.62|[{'id': 3810, 'lo...|[{'iso_3166_1': '...|  1962-05-24|      0.0|    107|Released|Life can never ca...|Lonely Are the Brave|         7.5|\n",
            "|                 NULL|      0.0|43003|               fr|Vérités et Mensonges|Documents the liv...|             7.159|[{'id': 36547, 'l...|[{'iso_3166_1': '...|  1975-03-12|      0.0|     89|Released|                NULL|          F for Fake|         7.5|\n",
            "|                 NULL| 500000.0|43004|               en|Long Day's Journe...|The film follows ...|             3.988|[{'id': 77598, 'l...|[{'iso_3166_1': '...|  1962-10-09|      0.0|    174|Released|PRIDE...POWER...P...|Long Day's Journe...|         6.8|\n",
            "|                 NULL|      0.0|43006|               en|           My Geisha|\"A director's (Yv...|             3.194|[{'id': 82939, 'l...|[{'iso_3166_1': '...|  1962-03-09|      0.0|    119|Released|                NULL|           My Geisha|         6.1|\n",
            "|                 NULL|      0.0|43007|               en|Period of Adjustment|George Haverstick...|             2.689|[{'id': 13359, 'l...|[{'iso_3166_1': '...|  1962-10-31|      0.0|    112|Released|The agonizing pau...|Period of Adjustment|         6.4|\n",
            "|                 NULL|      0.0|43008|               en|    The Hanging Tree|Character study o...|             6.537|[{'id': 14248, 'l...|[{'iso_3166_1': '...|  1959-03-13|      0.0|    107|Released|From The Prize No...|    The Hanging Tree|         6.6|\n",
            "|                 NULL|      0.0|43010|               de|Sherlock Holmes u...|Sherlock Holmes a...|             4.297|[{'id': 1787, 'lo...|[{'iso_3166_1': '...|  1962-01-01|      0.0|     87|Released|                NULL|Sherlock Holmes a...|         5.5|\n",
            "|                 NULL|      0.0|43011|               en|  Sodom and Gomorrah|Sex, torture and ...|             4.417|[{'id': 8894, 'lo...|[{'iso_3166_1': '...|  1962-01-01|      0.0|    154|Released|The cities that m...|  Sodom and Gomorrah|         5.4|\n",
            "|                 NULL|7000000.0|43012|               en|         Taras Bulba|Ukraine, 16th cen...|4.7219999999999995|[{'id': 5940, 'lo...|[{'iso_3166_1': '...|  1962-11-21|4000000.0|    119|Released|A love story of f...|         Taras Bulba|         6.7|\n",
            "|                 NULL|      0.0|43013|               en|The Counterfeit T...|Blacklisted in mo...|             2.543|[{'id': 5015, 'lo...|[{'iso_3166_1': '...|  1962-04-17|      0.0|    140|Released|                NULL|The Counterfeit T...|         6.6|\n",
            "|                 NULL|      0.0|43014|               en|     Tower of London|The twisted Richa...|             4.303|[{'id': 13479, 'l...|[{'iso_3166_1': '...|  1962-10-24|      0.0|     80|Released|Do you have the c...|     Tower of London|         6.1|\n",
            "|                 NULL|      0.0|43015|               en|Varan the Unbelie...|In an effort to f...|             3.493|[{'id': 86054, 'l...|[{'iso_3166_1': '...|  1962-12-07|      0.0|     70|Released|From a world belo...|Varan the Unbelie...|         5.0|\n",
            "|                 NULL|      0.0|43016|               en|Waltz of the Tore...|General Fitzhugh,...|             2.851|[{'id': 35265, 'l...|[{'iso_3166_1': '...|  1962-01-01|      0.0|    105|Released|                NULL|Waltz of the Tore...|         5.6|\n",
            "|                 NULL|      0.0|43017|               en|         Back Street|Ambitious but thw...|             4.047|[{'id': 1830, 'lo...|[{'iso_3166_1': '...|  1961-10-11|      0.0|    107|Released|                NULL|         Back Street|         6.2|\n",
            "| {'id': 145494, 'n...|      0.0|43018|               en|Gidget Goes Hawaiian|\"Francis is despe...|             2.661|[{'id': 5, 'logo_...|[{'iso_3166_1': '...|  1961-06-02|      0.0|    101|Released|\"Get Happy! Get w...|Gidget Goes Hawaiian|         4.4|\n",
            "|                 NULL|      0.0|43019|               en|Schuks Tshabalala...|Leon Schuster or ...|             3.225|                  []|[{'iso_3166_1': '...|  2010-05-28|      0.0|     91|Released|                NULL|Schuks Tshabalala...|         5.3|\n",
            "|                 NULL|      0.0|43020|               it|  Il colosso di Rodi|While on holiday ...|              5.72|[{'id': 4745, 'lo...|[{'iso_3166_1': '...|  1961-06-15|      0.0|    127|Released|A monster statue ...|The Colossus of R...|         6.0|\n",
            "|                 NULL|      0.0|43021|               en|          Sex Galaxy|One hundred years...|             3.292|[{'id': 21794, 'l...|[{'iso_3166_1': '...|  2008-08-22|      0.0|     78|Released|The world's first...|          Sex Galaxy|         2.6|\n",
            "+---------------------+---------+-----+-----------------+--------------------+--------------------+------------------+--------------------+--------------------+------------+---------+-------+--------+--------------------+--------------------+------------+\n",
            "only showing top 20 rows\n",
            "\n"
          ]
        }
      ]
    },
    {
      "cell_type": "markdown",
      "source": [
        "### Eksplorasi Data"
      ],
      "metadata": {
        "id": "go1ui1yQv9Gf"
      }
    },
    {
      "cell_type": "markdown",
      "source": [
        "Setelah itu, kita melakukan eksplorasi data. Pertama, kita lihat tipe data dari masing-masing kolom. Ada beberapa tipe, diantaranya: string yaitu tipe data berupa kumpulan karakter, simbol atau nomor yang diperlakukan sebagai teks. Double adalah tipe data pecahan dengan tingkat ketelitian secara ganda atau double precision dengan menggunakan ruang penyimpanan 64-bit dalam menyimpan nilainya. Sedangkan integer adalah tipe data bilangan bulat atau numerik umum. Berikut kategori tipe data beserta kolomnya.\n",
        "*  String: belongs_to_collections, id, original_language, original_title, overview, production_companies. production_countries, release_date, status, dan title\n",
        "*  Double: budget, popularity, revenue dan vote_average\n",
        "*  Integer: runtime"
      ],
      "metadata": {
        "id": "wJsre58CuEcL"
      }
    },
    {
      "cell_type": "code",
      "source": [
        "# Memeriksa tipe data dari setiap kolom dalam dataframe\n",
        "df.dtypes"
      ],
      "metadata": {
        "colab": {
          "base_uri": "https://localhost:8080/"
        },
        "id": "hJPMpT1rTZ0u",
        "outputId": "26b8c881-36f2-449f-ea58-544307a3bfda"
      },
      "execution_count": 4,
      "outputs": [
        {
          "output_type": "execute_result",
          "data": {
            "text/plain": [
              "[('belongs_to_collection', 'string'),\n",
              " ('budget', 'double'),\n",
              " ('id', 'string'),\n",
              " ('original_language', 'string'),\n",
              " ('original_title', 'string'),\n",
              " ('overview', 'string'),\n",
              " ('popularity', 'double'),\n",
              " ('production_companies', 'string'),\n",
              " ('production_countries', 'string'),\n",
              " ('release_date', 'string'),\n",
              " ('revenue', 'double'),\n",
              " ('runtime', 'int'),\n",
              " ('status', 'string'),\n",
              " ('tagline', 'string'),\n",
              " ('title', 'string'),\n",
              " ('vote_average', 'double')]"
            ]
          },
          "metadata": {},
          "execution_count": 4
        }
      ]
    },
    {
      "cell_type": "markdown",
      "source": [
        "Lalu, digunakan `df.count` untuk menghitung jumlah baris pada tiap kolom df. Didapatkan bahwa ada 43.998 baris dengan nilai NULL. Disini saya tidak mereduksi data dalam dataframe ini, karena jika direduksi dengan menghilangkan tiap baris dengan nilai NULL, hanya tersisa 2000an baris saja, sehingga sudah tidak bisa terbilang big data. Maka dari itu sini tetap digunakan data semula."
      ],
      "metadata": {
        "id": "8OAICE7GwHno"
      }
    },
    {
      "cell_type": "code",
      "source": [
        "# Menghitung jumlah baris yang tidak mengandung nilai null dalam setiap kolom\n",
        "df.count()"
      ],
      "metadata": {
        "colab": {
          "base_uri": "https://localhost:8080/"
        },
        "id": "bMbcqwF8TZyJ",
        "outputId": "b21b9c3f-df2a-46cf-ec85-fc78441fd49c"
      },
      "execution_count": 5,
      "outputs": [
        {
          "output_type": "execute_result",
          "data": {
            "text/plain": [
              "43998"
            ]
          },
          "metadata": {},
          "execution_count": 5
        }
      ]
    },
    {
      "cell_type": "markdown",
      "source": [
        "Dengan didapatkan 43.998 data, maka data sejumlah itulah yang akan direcord atau dianggap sebagai dataset yang akan dieksplorasi dengan Spark."
      ],
      "metadata": {
        "id": "R9uDCqE-w9W6"
      }
    },
    {
      "cell_type": "code",
      "source": [
        "# Menampilkan total jumlah record dalam dataset movie\n",
        "print('The total number of records in the movie dataset is ' +str(df.count()))"
      ],
      "metadata": {
        "colab": {
          "base_uri": "https://localhost:8080/"
        },
        "id": "LPWjwM6iTZwD",
        "outputId": "d6494f34-c968-4a65-84ff-565606e48fa0"
      },
      "execution_count": 6,
      "outputs": [
        {
          "output_type": "stream",
          "name": "stdout",
          "text": [
            "The total number of records in the movie dataset is 43998\n"
          ]
        }
      ]
    },
    {
      "cell_type": "markdown",
      "source": [
        "Dari banyak kolom yang ada, kita memilih beberapa kolom untuk ditampilkan dan dieksplorasi. Disini dipilih kolom id, budget, popularity, release_date, revenue dan title dengan `select_colums = ['coloumns']` lalu menyimpan kolom yang dipilih dalam dataset df. Kemudian dataframe tersebut ditampilkan sebnayak 20 baris pertama.\n",
        "\n"
      ],
      "metadata": {
        "id": "USmV9w9yxzmV"
      }
    },
    {
      "cell_type": "code",
      "source": [
        "# Memilih kolom-kolom yang akan ditampilkan\n",
        "select_columns=['id','budget','popularity','release_date','revenue','title']\n",
        "df=df.select(select_columns)\n",
        "# Menampilkan 20 baris pertama dari dataframe\n",
        "df.show()"
      ],
      "metadata": {
        "colab": {
          "base_uri": "https://localhost:8080/"
        },
        "id": "W-79zH_dyXBW",
        "outputId": "8e4e0303-dcad-42ee-f7a8-8447c59e89d3"
      },
      "execution_count": 7,
      "outputs": [
        {
          "output_type": "stream",
          "name": "stdout",
          "text": [
            "+-----+---------+------------------+------------+---------+--------------------+\n",
            "|   id|   budget|        popularity|release_date|  revenue|               title|\n",
            "+-----+---------+------------------+------------+---------+--------------------+\n",
            "|43000|      0.0|             2.503|  1962-05-23|      0.0|The Elusive Corporal|\n",
            "|43001|      0.0|              5.51|  1962-11-12|      0.0|  Sundays and Cybele|\n",
            "|43002|      0.0|              5.62|  1962-05-24|      0.0|Lonely Are the Brave|\n",
            "|43003|      0.0|             7.159|  1975-03-12|      0.0|          F for Fake|\n",
            "|43004| 500000.0|             3.988|  1962-10-09|      0.0|Long Day's Journe...|\n",
            "|43006|      0.0|             3.194|  1962-03-09|      0.0|           My Geisha|\n",
            "|43007|      0.0|             2.689|  1962-10-31|      0.0|Period of Adjustment|\n",
            "|43008|      0.0|             6.537|  1959-03-13|      0.0|    The Hanging Tree|\n",
            "|43010|      0.0|             4.297|  1962-01-01|      0.0|Sherlock Holmes a...|\n",
            "|43011|      0.0|             4.417|  1962-01-01|      0.0|  Sodom and Gomorrah|\n",
            "|43012|7000000.0|4.7219999999999995|  1962-11-21|4000000.0|         Taras Bulba|\n",
            "|43013|      0.0|             2.543|  1962-04-17|      0.0|The Counterfeit T...|\n",
            "|43014|      0.0|             4.303|  1962-10-24|      0.0|     Tower of London|\n",
            "|43015|      0.0|             3.493|  1962-12-07|      0.0|Varan the Unbelie...|\n",
            "|43016|      0.0|             2.851|  1962-01-01|      0.0|Waltz of the Tore...|\n",
            "|43017|      0.0|             4.047|  1961-10-11|      0.0|         Back Street|\n",
            "|43018|      0.0|             2.661|  1961-06-02|      0.0|Gidget Goes Hawaiian|\n",
            "|43019|      0.0|             3.225|  2010-05-28|      0.0|Schuks Tshabalala...|\n",
            "|43020|      0.0|              5.72|  1961-06-15|      0.0|The Colossus of R...|\n",
            "|43021|      0.0|             3.292|  2008-08-22|      0.0|          Sex Galaxy|\n",
            "+-----+---------+------------------+------------+---------+--------------------+\n",
            "only showing top 20 rows\n",
            "\n"
          ]
        }
      ]
    },
    {
      "cell_type": "markdown",
      "source": [
        "Kode ini menampilkan output yang sama dengan kode diatas, hanya saja lebih tingkas dan tidak menyimpan dataset baru ke dataset df."
      ],
      "metadata": {
        "id": "HY0XgGB1zJgn"
      }
    },
    {
      "cell_type": "code",
      "source": [
        "# Menampilkan kolom yang dipilih dari data frame\n",
        "df.select('id','budget','popularity','release_date','revenue','title').show()"
      ],
      "metadata": {
        "colab": {
          "base_uri": "https://localhost:8080/"
        },
        "id": "FpL64JnsTZrU",
        "outputId": "5dbd394f-bac3-42ab-d34e-680a5651b1e2"
      },
      "execution_count": null,
      "outputs": [
        {
          "output_type": "stream",
          "name": "stdout",
          "text": [
            "+-----+---------+----------+------------+---------+--------------------+\n",
            "|   id|   budget|popularity|release_date|  revenue|               title|\n",
            "+-----+---------+----------+------------+---------+--------------------+\n",
            "|43000|      0.0|     2.503|  1962-05-23|      0.0|The Elusive Corporal|\n",
            "|43001|      0.0|      5.51|  1962-11-12|      0.0|  Sundays and Cybele|\n",
            "|43002|      0.0|      5.62|  1962-05-24|      0.0|Lonely Are the Brave|\n",
            "|43003|      0.0|     7.159|  1975-03-12|      0.0|          F for Fake|\n",
            "|43004| 500000.0|     3.988|  1962-10-09|      0.0|Long Day's Journe...|\n",
            "|43006|      0.0|     3.194|  1962-03-09|      0.0|           My Geisha|\n",
            "|43007|      0.0|     2.689|  1962-10-31|      0.0|Period of Adjustment|\n",
            "|43008|      0.0|     6.537|  1959-03-13|      0.0|    The Hanging Tree|\n",
            "|43010|      0.0|     4.297|  1962-01-01|      0.0|Sherlock Holmes a...|\n",
            "|43011|      0.0|     4.417|  1962-01-01|      0.0|  Sodom and Gomorrah|\n",
            "|43012|7000000.0|     4.722|  1962-11-21|4000000.0|         Taras Bulba|\n",
            "|43013|      0.0|     2.543|  1962-04-17|      0.0|The Counterfeit T...|\n",
            "|43014|      0.0|     4.303|  1962-10-24|      0.0|     Tower of London|\n",
            "|43015|      0.0|     3.493|  1962-12-07|      0.0|Varan the Unbelie...|\n",
            "|43016|      0.0|     2.851|  1962-01-01|      0.0|Waltz of the Tore...|\n",
            "|43017|      0.0|     4.047|  1961-10-11|      0.0|         Back Street|\n",
            "|43018|      0.0|     2.661|  1961-06-02|      0.0|Gidget Goes Hawaiian|\n",
            "|43019|      0.0|     3.225|  2010-05-28|      0.0|Schuks Tshabalala...|\n",
            "|43020|      0.0|      5.72|  1961-06-15|      0.0|The Colossus of R...|\n",
            "|43021|      0.0|     3.292|  2008-08-22|      0.0|          Sex Galaxy|\n",
            "+-----+---------+----------+------------+---------+--------------------+\n",
            "only showing top 20 rows\n",
            "\n"
          ]
        }
      ]
    },
    {
      "cell_type": "markdown",
      "source": [
        "Kode ini menampilkan records kolom kedua pada dataframe yaitu popularity dengan `df.select(df[2]).show()`."
      ],
      "metadata": {
        "id": "sAfH7zGmzSyp"
      }
    },
    {
      "cell_type": "code",
      "source": [
        "# Menampilkan kolom kedua(popularity) dari data frame\n",
        "df.select(df[2]).show()"
      ],
      "metadata": {
        "colab": {
          "base_uri": "https://localhost:8080/"
        },
        "id": "bICH8DD0TZpC",
        "outputId": "93565b45-f774-4b4b-817e-bdb2e0c3b208"
      },
      "execution_count": 8,
      "outputs": [
        {
          "output_type": "stream",
          "name": "stdout",
          "text": [
            "+------------------+\n",
            "|        popularity|\n",
            "+------------------+\n",
            "|             2.503|\n",
            "|              5.51|\n",
            "|              5.62|\n",
            "|             7.159|\n",
            "|             3.988|\n",
            "|             3.194|\n",
            "|             2.689|\n",
            "|             6.537|\n",
            "|             4.297|\n",
            "|             4.417|\n",
            "|4.7219999999999995|\n",
            "|             2.543|\n",
            "|             4.303|\n",
            "|             3.493|\n",
            "|             2.851|\n",
            "|             4.047|\n",
            "|             2.661|\n",
            "|             3.225|\n",
            "|              5.72|\n",
            "|             3.292|\n",
            "+------------------+\n",
            "only showing top 20 rows\n",
            "\n"
          ]
        }
      ]
    },
    {
      "cell_type": "markdown",
      "source": [
        "Kode `df.show(25, False)` akan menampilkan records dari DataFrame df dengan menggunakan metode show dan menampilkan 25 baris data dengan pengaturan 'False' untuk tidak memotong data."
      ],
      "metadata": {
        "id": "u8J8VkkEz59T"
      }
    },
    {
      "cell_type": "code",
      "source": [
        "# Menampilkan 25 baris pertama dari dataframe\n",
        "df.show(25, False)"
      ],
      "metadata": {
        "colab": {
          "base_uri": "https://localhost:8080/"
        },
        "id": "SvzHHs5ITZmU",
        "outputId": "7fe93f24-b718-45e6-9a02-d2942526a384"
      },
      "execution_count": 9,
      "outputs": [
        {
          "output_type": "stream",
          "name": "stdout",
          "text": [
            "+-----+---------+------------------+------------+---------+--------------------------------------------------------+\n",
            "|id   |budget   |popularity        |release_date|revenue  |title                                                   |\n",
            "+-----+---------+------------------+------------+---------+--------------------------------------------------------+\n",
            "|43000|0.0      |2.503             |1962-05-23  |0.0      |The Elusive Corporal                                    |\n",
            "|43001|0.0      |5.51              |1962-11-12  |0.0      |Sundays and Cybele                                      |\n",
            "|43002|0.0      |5.62              |1962-05-24  |0.0      |Lonely Are the Brave                                    |\n",
            "|43003|0.0      |7.159             |1975-03-12  |0.0      |F for Fake                                              |\n",
            "|43004|500000.0 |3.988             |1962-10-09  |0.0      |Long Day's Journey Into Night                           |\n",
            "|43006|0.0      |3.194             |1962-03-09  |0.0      |My Geisha                                               |\n",
            "|43007|0.0      |2.689             |1962-10-31  |0.0      |Period of Adjustment                                    |\n",
            "|43008|0.0      |6.537             |1959-03-13  |0.0      |The Hanging Tree                                        |\n",
            "|43010|0.0      |4.297             |1962-01-01  |0.0      |Sherlock Holmes and the Deadly Necklace                 |\n",
            "|43011|0.0      |4.417             |1962-01-01  |0.0      |Sodom and Gomorrah                                      |\n",
            "|43012|7000000.0|4.7219999999999995|1962-11-21  |4000000.0|Taras Bulba                                             |\n",
            "|43013|0.0      |2.543             |1962-04-17  |0.0      |The Counterfeit Traitor                                 |\n",
            "|43014|0.0      |4.303             |1962-10-24  |0.0      |Tower of London                                         |\n",
            "|43015|0.0      |3.493             |1962-12-07  |0.0      |Varan the Unbelievable                                  |\n",
            "|43016|0.0      |2.851             |1962-01-01  |0.0      |Waltz of the Toreadors                                  |\n",
            "|43017|0.0      |4.047             |1961-10-11  |0.0      |Back Street                                             |\n",
            "|43018|0.0      |2.661             |1961-06-02  |0.0      |Gidget Goes Hawaiian                                    |\n",
            "|43019|0.0      |3.225             |2010-05-28  |0.0      |Schuks Tshabalala's Survival Guide to South Africa      |\n",
            "|43020|0.0      |5.72              |1961-06-15  |0.0      |The Colossus of Rhodes                                  |\n",
            "|43021|0.0      |3.292             |2008-08-22  |0.0      |Sex Galaxy                                              |\n",
            "|43022|0.0      |1.548             |1961-06-11  |0.0      |King of the Roaring 20's – The Story of Arnold Rothstein|\n",
            "|43023|0.0      |3.559             |1961-01-01  |0.0      |Konga                                                   |\n",
            "|43026|0.0      |3.444             |1961-12-13  |0.0      |Paris Belongs to Us                                     |\n",
            "|43027|0.0      |2.512             |1961-05-05  |0.0      |Teen Kanya                                              |\n",
            "|43028|0.0      |6.234             |1961-08-01  |0.0      |Victim                                                  |\n",
            "+-----+---------+------------------+------------+---------+--------------------------------------------------------+\n",
            "only showing top 25 rows\n",
            "\n"
          ]
        }
      ]
    },
    {
      "cell_type": "markdown",
      "source": [
        "Kode ini melibatkan modul pyspark yaitu isnan, isnull, when dan count. Tujuannya adalah untuk menghitung jumlah nilai null dalam kolom popularity. Hasilnya, jumlah NULL atau missing value pada kolom popularity adalah 0. Hanya saja, nilai dari budget ini kebanyakan nilai 0.00, yang mana nilai itu tidak mungkin untuk membuat sebuat film. Hal ini menjadi anomali dalam dataset ini."
      ],
      "metadata": {
        "id": "gFUoKo0F0HJR"
      }
    },
    {
      "cell_type": "code",
      "source": [
        "# Menghitung jumlah nilai null dalam kolom 'popularity'\n",
        "\n",
        "from pyspark.sql.functions import isnan, isnull, when, count\n",
        "missing_values_count = df.select(count(when(isnull(df['popularity'])|(isnan(df['popularity'])) | (df['popularity'] == ''), df['popularity'])).alias('missing_values')).collect()[0]['missing_values']\n",
        "\n",
        "print(\"Number of missing value in the 'popularity' column:\", missing_values_count)"
      ],
      "metadata": {
        "colab": {
          "base_uri": "https://localhost:8080/"
        },
        "id": "terYezgSXC5e",
        "outputId": "acb66544-252c-4f78-9ff6-c29bdc08108c"
      },
      "execution_count": 10,
      "outputs": [
        {
          "output_type": "stream",
          "name": "stdout",
          "text": [
            "Number of missing value in the 'popularity' column: 0\n"
          ]
        }
      ]
    },
    {
      "cell_type": "markdown",
      "source": [
        "DIlakukan hal yang sama pada kolom budget dengan hasil missing valuenya 0."
      ],
      "metadata": {
        "id": "jR5fQa020mm8"
      }
    },
    {
      "cell_type": "code",
      "source": [
        "# Menghitung jumlah nilai null dalam kolom 'budget'\n",
        "\n",
        "from pyspark.sql.functions import isnan, isnull, when, count\n",
        "missing_values_count = df.select(count(when(isnull(df['revenue'])|(isnan(df['revenue'])) | (df['revenue'] == ''), df['revenue'])).alias('missing_values')).collect()[0]['missing_values']\n",
        "\n",
        "print(\"Number of missing value in the 'revenue' column:\", missing_values_count)"
      ],
      "metadata": {
        "colab": {
          "base_uri": "https://localhost:8080/"
        },
        "id": "zt32nr3zqe9b",
        "outputId": "ef428878-3d9c-46e2-fd59-5bee0f9f89bb"
      },
      "execution_count": 11,
      "outputs": [
        {
          "output_type": "stream",
          "name": "stdout",
          "text": [
            "Number of missing value in the 'revenue' column: 0\n"
          ]
        }
      ]
    },
    {
      "cell_type": "markdown",
      "source": [
        "Pada proses yang menggunakan `.groupBy` akan melakukan pengelompokkan dataframe, disini dilakukan pengelompokkan berdasarkan judul beserta jumlahnya. Lalu ditampilkan 20 judul teratas berserta jumlahnya dengan `.show()`."
      ],
      "metadata": {
        "id": "dleDI0Nn0ttt"
      }
    },
    {
      "cell_type": "code",
      "source": [
        "# Mengelompokkan dataframe berdasarkan judul dan menghitung jumlahnya\n",
        "df.groupBy(df['title']).count().show()"
      ],
      "metadata": {
        "colab": {
          "base_uri": "https://localhost:8080/"
        },
        "id": "ZrxK5ZxIXC2a",
        "outputId": "10f869a3-6453-431b-aaf3-79c00d610f5d"
      },
      "execution_count": 16,
      "outputs": [
        {
          "output_type": "stream",
          "name": "stdout",
          "text": [
            "+--------------------+-----+\n",
            "|               title|count|\n",
            "+--------------------+-----+\n",
            "|   The Corn Is Green|    1|\n",
            "|Meet The Browns -...|    1|\n",
            "|Morenita, El Esca...|    1|\n",
            "| Father Takes a Wife|    1|\n",
            "|The Werewolf of W...|    1|\n",
            "|My Wife Is a Gang...|    1|\n",
            "|Depeche Mode: Tou...|    1|\n",
            "|  A Woman Is a Woman|    1|\n",
            "|History Is Made a...|    1|\n",
            "|      Colombian Love|    1|\n",
            "|        Ace Attorney|    1|\n",
            "|     Not Like Others|    1|\n",
            "|40 Guns to Apache...|    1|\n",
            "|          Middle Men|    1|\n",
            "|         It's a Gift|    1|\n",
            "|    La Vie de Bohème|    1|\n",
            "|Rasputin: The Mad...|    1|\n",
            "|The Ballad of Jac...|    1|\n",
            "|         How to Deal|    1|\n",
            "|             Freaked|    1|\n",
            "+--------------------+-----+\n",
            "only showing top 20 rows\n",
            "\n"
          ]
        }
      ]
    },
    {
      "cell_type": "markdown",
      "source": [
        "Hampir sama dengan kode diatas, namun disini menggunakan modul pyspark untuk mengimport desc. Modul ini akan mengurutkan judul dari yang terbanyak. Namun didapatkan bahwa yang terbanyak adalah NULL sebanyak 304. Judul NULL ini muncul karena di awal,"
      ],
      "metadata": {
        "id": "dSgId9Xd1GfI"
      }
    },
    {
      "cell_type": "code",
      "source": [
        "# Mengelompokkan dataframe berdasarkan judul, menghitung jumlahnya, dan mengurutkannya dari yang terbanyak\n",
        "from pyspark.sql.functions import desc\n",
        "df.groupby(df['title']).count().sort(desc(\"count\")).show(10, False)"
      ],
      "metadata": {
        "colab": {
          "base_uri": "https://localhost:8080/"
        },
        "id": "ty32EJk7XCz_",
        "outputId": "66a59d66-fc38-4176-9fcb-669f3c90dffb"
      },
      "execution_count": 17,
      "outputs": [
        {
          "output_type": "stream",
          "name": "stdout",
          "text": [
            "+--------------------+-----+\n",
            "|title               |count|\n",
            "+--------------------+-----+\n",
            "|NULL                |304  |\n",
            "|Les Misérables      |8    |\n",
            "|The Three Musketeers|8    |\n",
            "|Cinderella          |8    |\n",
            "|A Christmas Carol   |7    |\n",
            "|The Island          |7    |\n",
            "|Dracula             |7    |\n",
            "|Hamlet              |7    |\n",
            "|Frankenstein        |7    |\n",
            "|Cleopatra           |6    |\n",
            "+--------------------+-----+\n",
            "only showing top 10 rows\n",
            "\n"
          ]
        }
      ]
    },
    {
      "cell_type": "markdown",
      "source": [
        "Pada sesi kali ini masih menggunakan modul pyspark yaitu col. Col ini akan mengembalikan nilai kolom berdasarkan nama. Kode dibawah melakukan filtering untuk menghilangkan baris dengan nilai kosong pada kolom title. Hal ini dilakukan karena nilai NULL adalah judul dengan jumlah terbanyak yaitu 304.\n",
        "Setelah difilter, lalu dataframe dikelompokkan berdasarkan judul, jumlah dan menampilkan hasil yang memiliki jumlah lebih dari 4. Didapatkan 20 baris judul dengan Les Misérables sebagai kata paling banyak dipakai, yaitu sejumlah 8."
      ],
      "metadata": {
        "id": "MmoLNzFS1hXK"
      }
    },
    {
      "cell_type": "code",
      "source": [
        "from pyspark.sql.functions import col\n",
        "\n",
        "# Filter dataframe untuk menghilangkan baris dengan nilai kosong atau null pada kolom 'title'\n",
        "df_temp = df.filter((df['title'] !='') & (df['title'].isNotNull()) &\n",
        "  (~isnan(df['title'])))\n",
        "\n",
        "# Mengelompokkan dataframe yang telah difilter berdasarkan judul, menghitung jumlahnya, dan memfilter hasilnya yang memiliki jumlah lebih dari 4\n",
        "df_temp.groupby(df_temp['title']).count().filter(\"`count` > 4\").sort(col(\"count\").desc()).show(10, False)"
      ],
      "metadata": {
        "colab": {
          "base_uri": "https://localhost:8080/"
        },
        "id": "9BMQyjIccS7M",
        "outputId": "9db4a1fd-48de-412c-b52d-87444bbf50af"
      },
      "execution_count": 18,
      "outputs": [
        {
          "output_type": "stream",
          "name": "stdout",
          "text": [
            "+--------------------+-----+\n",
            "|title               |count|\n",
            "+--------------------+-----+\n",
            "|Les Misérables      |8    |\n",
            "|The Three Musketeers|8    |\n",
            "|Cinderella          |8    |\n",
            "|A Christmas Carol   |7    |\n",
            "|The Island          |7    |\n",
            "|Frankenstein        |7    |\n",
            "|Dracula             |7    |\n",
            "|Hamlet              |7    |\n",
            "|Treasure Island     |6    |\n",
            "|The Lost World      |6    |\n",
            "+--------------------+-----+\n",
            "only showing top 10 rows\n",
            "\n"
          ]
        }
      ]
    },
    {
      "cell_type": "markdown",
      "source": [
        "Masih dengan modul pyspark import col, disini menghitung jumlah judul atau kata yang digunakan dalam judul yang muncul lebih dari 4 kali. Hasilnya, ada 111 kata yang diulang sebanyak lebih dari 4 kali."
      ],
      "metadata": {
        "id": "MZbw-9ulSIcz"
      }
    },
    {
      "cell_type": "code",
      "source": [
        "from pyspark.sql.functions import col\n",
        "\n",
        "# Menghitung jumlah judul yang muncul empat kali atau lebih\n",
        "jumlah_judul = df_temp.groupby(df_temp['title']).count().filter(\"`count` >= 4\").count()\n",
        "\n",
        "# Menampilkan jumlah judul yang diulang empat kali atau lebih\n",
        "print(\"Jumlah judul yang diulang empat kali atau lebih:\", jumlah_judul)"
      ],
      "metadata": {
        "colab": {
          "base_uri": "https://localhost:8080/"
        },
        "id": "U3kuvxJDXCvK",
        "outputId": "6ed302b4-80f7-422a-a358-a7704db9c423"
      },
      "execution_count": 19,
      "outputs": [
        {
          "output_type": "stream",
          "name": "stdout",
          "text": [
            "Jumlah judul yang diulang empat kali atau lebih: 111\n"
          ]
        }
      ]
    },
    {
      "cell_type": "markdown",
      "source": [
        "Menghapus dataframe sementara df_temp dengan fungsi `del`"
      ],
      "metadata": {
        "id": "vyBvqURnTG8U"
      }
    },
    {
      "cell_type": "code",
      "source": [
        "del df_temp"
      ],
      "metadata": {
        "id": "4oBTfNflXCs6"
      },
      "execution_count": null,
      "outputs": []
    },
    {
      "cell_type": "markdown",
      "source": [
        "Kita kembali memakai dataset df. Disini kembali di cek tipe data dari tiap kolom terpilih pada dataset."
      ],
      "metadata": {
        "id": "1hy-vDc7TT3-"
      }
    },
    {
      "cell_type": "code",
      "source": [
        "# Menampilkan tipe data kolom dalam dataframe sebelum konversi\n",
        "df.dtypes"
      ],
      "metadata": {
        "colab": {
          "base_uri": "https://localhost:8080/"
        },
        "id": "b_cDjhYGXCqZ",
        "outputId": "911a6cab-9832-40c0-a66a-61e560e3633f"
      },
      "execution_count": null,
      "outputs": [
        {
          "output_type": "execute_result",
          "data": {
            "text/plain": [
              "[('id', 'string'),\n",
              " ('budget', 'double'),\n",
              " ('popularity', 'double'),\n",
              " ('release_date', 'string'),\n",
              " ('revenue', 'double'),\n",
              " ('title', 'string')]"
            ]
          },
          "metadata": {},
          "execution_count": 26
        }
      ]
    },
    {
      "cell_type": "markdown",
      "source": [
        "Selanjutnya, kolom budget yang semula bertipe 'double' akan diubah menjadi bentuk float dengan fungsi `.cast(\"tipe data\")`."
      ],
      "metadata": {
        "id": "qWFILFTXTjWw"
      }
    },
    {
      "cell_type": "code",
      "source": [
        "# Mengonversi kolom 'budget' menjadi tipe data float\n",
        "df = df.withColumn('budget', df['budget'].cast(\"float\"))"
      ],
      "metadata": {
        "id": "Gzh6vIc_XCnq"
      },
      "execution_count": null,
      "outputs": []
    },
    {
      "cell_type": "markdown",
      "source": [
        "Dibawah ini merupakan hasil dari konversi tipe data sebelumnya"
      ],
      "metadata": {
        "id": "Xp5tlkPcT5oM"
      }
    },
    {
      "cell_type": "code",
      "source": [
        "# Menampilkan tipe data kolom dalam dataframe setelah konversi\n",
        "df.dtypes"
      ],
      "metadata": {
        "colab": {
          "base_uri": "https://localhost:8080/"
        },
        "id": "Jyxj8wWAXClv",
        "outputId": "6f3a711d-99c5-4c10-bc5c-79da2ba3960f"
      },
      "execution_count": null,
      "outputs": [
        {
          "output_type": "execute_result",
          "data": {
            "text/plain": [
              "[('id', 'string'),\n",
              " ('budget', 'float'),\n",
              " ('popularity', 'double'),\n",
              " ('release_date', 'string'),\n",
              " ('revenue', 'double'),\n",
              " ('title', 'string')]"
            ]
          },
          "metadata": {},
          "execution_count": 28
        }
      ]
    },
    {
      "cell_type": "markdown",
      "source": [
        "Penyesuaian tipe data tidak hanya dibutuhkan oleh budget, namun beberapa variabel juga harus dikonversi ke bentuk tipe data yang benar. Jika dilakukan satu persatu seperti kode sebelumnya, akan memakan banyak waktu. Maka dari itu, digunakan fungsi looping untuk konversi tipe data.\n",
        "\n",
        "Pertama, akan dikelompokkan kolom-kolom yang termasuk integer, float dan date. Setelah itu dimasukkan ke looping sesuai dengan tipe data. Setelah itu, dicek kembali apakah datanya sudah benar. Setelah dibetulkan, berikut hasilnya :\n",
        " * id : string --> integer\n",
        " * budget: float --> float\n",
        " * popularity: double --> float\n",
        " * release_date: string --> date\n",
        " * revenue: double --> float\n",
        " * title: string --> string"
      ],
      "metadata": {
        "id": "iVpECdU9UO-s"
      }
    },
    {
      "cell_type": "code",
      "source": [
        "# Import library yang dibutuhkan\n",
        "from pyspark.sql.types import *\n",
        "\n",
        "# Menentukan variabel integer, float, dan date\n",
        "int_vars = ['id']\n",
        "float_vars = ['budget', 'popularity', 'revenue']\n",
        "date_vars = ['release_date']\n",
        "\n",
        "# Loop untuk mengonversi tipe data kolom sesuai dengan variabel yang ditentukan\n",
        "for column in int_vars:\n",
        "  df = df.withColumn(column, df[column].cast(IntegerType()))\n",
        "\n",
        "for column in float_vars:\n",
        "  df = df.withColumn(column, df[column].cast(FloatType()))\n",
        "\n",
        "for column in date_vars:\n",
        "  df = df.withColumn(column, df[column].cast(DateType()))\n",
        "\n",
        "# Menampilkan tipe data kolom dalam dataframe setelah pengonversian\n",
        "df.dtypes"
      ],
      "metadata": {
        "colab": {
          "base_uri": "https://localhost:8080/"
        },
        "id": "6BIYGfo4XCjG",
        "outputId": "b51248df-1244-4319-b35e-902208c2465f"
      },
      "execution_count": null,
      "outputs": [
        {
          "output_type": "execute_result",
          "data": {
            "text/plain": [
              "[('id', 'int'),\n",
              " ('budget', 'float'),\n",
              " ('popularity', 'float'),\n",
              " ('release_date', 'date'),\n",
              " ('revenue', 'float'),\n",
              " ('title', 'string')]"
            ]
          },
          "metadata": {},
          "execution_count": 29
        }
      ]
    },
    {
      "cell_type": "markdown",
      "source": [
        "Menampilkan 10 baris pertama dataframe setelah konversi tipe data."
      ],
      "metadata": {
        "id": "XAA0jD3WVZZQ"
      }
    },
    {
      "cell_type": "code",
      "source": [
        "# Menampilkan 10 baris pertama dari dataframe\n",
        "df.show(10, False)"
      ],
      "metadata": {
        "colab": {
          "base_uri": "https://localhost:8080/"
        },
        "id": "_JurhpCUXCgy",
        "outputId": "860e989a-0af6-4ee4-8d38-822bd6439fa3"
      },
      "execution_count": null,
      "outputs": [
        {
          "output_type": "stream",
          "name": "stdout",
          "text": [
            "+-----+--------+----------+------------+-------+---------------------------------------+\n",
            "|id   |budget  |popularity|release_date|revenue|title                                  |\n",
            "+-----+--------+----------+------------+-------+---------------------------------------+\n",
            "|43000|0.0     |2.503     |1962-05-23  |0.0    |The Elusive Corporal                   |\n",
            "|43001|0.0     |5.51      |1962-11-12  |0.0    |Sundays and Cybele                     |\n",
            "|43002|0.0     |5.62      |1962-05-24  |0.0    |Lonely Are the Brave                   |\n",
            "|43003|0.0     |7.159     |1975-03-12  |0.0    |F for Fake                             |\n",
            "|43004|500000.0|3.988     |1962-10-09  |0.0    |Long Day's Journey Into Night          |\n",
            "|43006|0.0     |3.194     |1962-03-09  |0.0    |My Geisha                              |\n",
            "|43007|0.0     |2.689     |1962-10-31  |0.0    |Period of Adjustment                   |\n",
            "|43008|0.0     |6.537     |1959-03-13  |0.0    |The Hanging Tree                       |\n",
            "|43010|0.0     |4.297     |1962-01-01  |0.0    |Sherlock Holmes and the Deadly Necklace|\n",
            "|43011|0.0     |4.417     |1962-01-01  |0.0    |Sodom and Gomorrah                     |\n",
            "+-----+--------+----------+------------+-------+---------------------------------------+\n",
            "only showing top 10 rows\n",
            "\n"
          ]
        }
      ]
    },
    {
      "cell_type": "markdown",
      "source": [
        "Pada sesi ini, digunakan Spark Session untuk melakukan analisis. Proses analisis ini meliputi pembuatan summary/kesimpulan dari dataframe, isinya adalah count(jumlah data), mean(rata-rata data), standar deviasi(nilai/jarak persebaran data), min(nilai terendah) dan max(nilai tertingg). Disini title memiliki summary yang aneh karena title bertipe data non-numerik yaitu string, sehingga tidak dapat memunculkan statistik yang diinginkan."
      ],
      "metadata": {
        "id": "wpz-HP-rVkOB"
      }
    },
    {
      "cell_type": "code",
      "source": [
        "# Import library yang dibutuhkan\n",
        "from pyspark.sql import SparkSession\n",
        "from pyspark.sql.functions import *\n",
        "# Membuat sesi Spark\n",
        "spark = SparkSession.builder \\\n",
        "    .appName(\"Data Analysis\") \\\n",
        "    .getOrCreate()\n",
        "# Membuat summary statistik dari datafram\n",
        "summary_df = df.describe()\n",
        "summary_df.show()"
      ],
      "metadata": {
        "colab": {
          "base_uri": "https://localhost:8080/"
        },
        "id": "LnZqwHkYXCek",
        "outputId": "bb7555a1-e8c2-44ad-e619-3078d73b7d81"
      },
      "execution_count": null,
      "outputs": [
        {
          "output_type": "stream",
          "name": "stdout",
          "text": [
            "+-------+------------------+--------------------+------------------+-------------------+--------------------+\n",
            "|summary|                id|              budget|        popularity|            revenue|               title|\n",
            "+-------+------------------+--------------------+------------------+-------------------+--------------------+\n",
            "|  count|             43784|               43873|             43783|              43783|               43694|\n",
            "|   mean|44502.304312077475|  3736901.8349631676| 5.295444259579189|  9697079.597382545|            Infinity|\n",
            "| stddev|  27189.6465886264|1.5871814952777285E7|6.1680305192082665|5.687938449628816E7|                 NaN|\n",
            "|    min|                 2|                 0.0|               0.6|                0.0|!Women Art Revolu...|\n",
            "|    max|            100988|               3.8E8|             180.0|       2.78796518E9|       시크릿 Secret|\n",
            "+-------+------------------+--------------------+------------------+-------------------+--------------------+\n",
            "\n"
          ]
        }
      ]
    },
    {
      "cell_type": "markdown",
      "source": [
        "Pada sesi ini, sebelum menghitung median kolom 'budget', baris dengan nilai null akan dihapus, sehingga datanya akurat. Didapat median dari kolom 'budget' adalag 5000000."
      ],
      "metadata": {
        "id": "TcsUptPrWR-N"
      }
    },
    {
      "cell_type": "code",
      "source": [
        "# Menghapus baris dengan nilai null atau 0 pada kolom 'budget' dan menghitung median dari kolom 'budget'\n",
        "from pyspark.sql.functions import isnan\n",
        "df_temp = df.filter((df['budget'] != 0) & (df['budget'].isNotNull()) & (~isnan(df['budget'])))\n",
        "median = df_temp.approxQuantile('budget',[0.5], 0.1)\n",
        "print('The median of budget is ' + str(median))"
      ],
      "metadata": {
        "colab": {
          "base_uri": "https://localhost:8080/"
        },
        "id": "uT5iSEuUXCbz",
        "outputId": "2295b51b-f712-428e-cfb5-ee95977ec5a9"
      },
      "execution_count": null,
      "outputs": [
        {
          "output_type": "stream",
          "name": "stdout",
          "text": [
            "The median of budget is [5000000.0]\n"
          ]
        }
      ]
    },
    {
      "cell_type": "markdown",
      "source": [
        "Pada kode dibawah menghitung jumlah judul unik artinya, judul yang memiliki perbedaan dengan judul lainya, termasuk tidak ada kata diulang dan sama. Hasilnya, ada 41138 judul unik."
      ],
      "metadata": {
        "id": "JPfyV0tIWkdg"
      }
    },
    {
      "cell_type": "code",
      "source": [
        "# Menghitung jumlah judul unik dalam datafram\n",
        "df.agg(countDistinct(col(\"title\")).alias(\"count\")).show()"
      ],
      "metadata": {
        "colab": {
          "base_uri": "https://localhost:8080/"
        },
        "id": "eNoOXyWAXCZE",
        "outputId": "b0ef0bf7-2300-4014-e43d-8d279acb7b43"
      },
      "execution_count": null,
      "outputs": [
        {
          "output_type": "stream",
          "name": "stdout",
          "text": [
            "+-----+\n",
            "|count|\n",
            "+-----+\n",
            "|41138|\n",
            "+-----+\n",
            "\n"
          ]
        }
      ]
    },
    {
      "cell_type": "markdown",
      "source": [
        "Dari 41138 judul film yang unik, ditampilkan 10 judul film teratas."
      ],
      "metadata": {
        "id": "qZf4o3zOWydQ"
      }
    },
    {
      "cell_type": "code",
      "source": [
        "# Menampilkan 10 judul film unik\n",
        "df.select('title').distinct().show(10, False)"
      ],
      "metadata": {
        "colab": {
          "base_uri": "https://localhost:8080/"
        },
        "id": "ObtG0Cclf9Fj",
        "outputId": "7694ad6b-c3c8-470e-c389-73168dabef69"
      },
      "execution_count": null,
      "outputs": [
        {
          "output_type": "stream",
          "name": "stdout",
          "text": [
            "+---------------------------------------------+\n",
            "|title                                        |\n",
            "+---------------------------------------------+\n",
            "|The Corn Is Green                            |\n",
            "|Meet The Browns - The Play                   |\n",
            "|Morenita, El Escandalo                       |\n",
            "|Father Takes a Wife                          |\n",
            "|The Werewolf of Washington                   |\n",
            "|My Wife Is a Gangster                        |\n",
            "|Depeche Mode: Touring the Angel Live in Milan|\n",
            "|A Woman Is a Woman                           |\n",
            "|History Is Made at Night                     |\n",
            "|Colombian Love                               |\n",
            "+---------------------------------------------+\n",
            "only showing top 10 rows\n",
            "\n"
          ]
        }
      ]
    },
    {
      "cell_type": "markdown",
      "source": [
        "Dari judul-judul film unik diatas, akan diklasifikasikan berdasarkan tahun rilisnya. Hasilnya, dapat dilihat bahwa tahun 2007 adalah tahun paling banyak menghasilkan judul film unik yaitu sebanyak 1896 judul."
      ],
      "metadata": {
        "id": "DbqAqckZXCyE"
      }
    },
    {
      "cell_type": "code",
      "source": [
        "# Menambahkan kolom 'release_year' yang berisi tahun dari tanggal rilis\n",
        "df_temp=df.withColumn('release_year', year('release_date'))"
      ],
      "metadata": {
        "id": "MdFHkfsKgGQu"
      },
      "execution_count": null,
      "outputs": []
    },
    {
      "cell_type": "code",
      "source": [
        "from pyspark.sql.functions import month,  dayofmonth, count_distinct\n",
        "\n",
        "# Menambahkan kolom 'release month' yang berisi bulan dari tanggal rilis\n",
        "df_temp = df_temp.withColumn('release month', month('release_date'))\n",
        "# Menambahkan kolom 'release day' yang berisi hari dari tanggal rilis\n",
        "df_temp = df_temp.withColumn('release day', dayofmonth('release_date'))\n",
        "# Menambahkan kolom 'release year' yang berisi tahun dari tanggal rilis\n",
        "df_temp = df_temp.withColumn('release year', year('release_date'))\n",
        "# Mengelompokkan berdasarkan tahun rilis dan menghitung jumlah judul unik dalam setiap tahun\n",
        "df_temp.groupBy(\"release_year\").agg(countDistinct(\"title\")).show(10, False)"
      ],
      "metadata": {
        "colab": {
          "base_uri": "https://localhost:8080/"
        },
        "id": "8K9FeuQOXIXc",
        "outputId": "c4683495-aed7-4edb-9ae3-72e7b6c46f01"
      },
      "execution_count": null,
      "outputs": [
        {
          "output_type": "stream",
          "name": "stdout",
          "text": [
            "+------------+---------------------+\n",
            "|release_year|count(DISTINCT title)|\n",
            "+------------+---------------------+\n",
            "|1959        |271                  |\n",
            "|1990        |496                  |\n",
            "|1975        |365                  |\n",
            "|1977        |415                  |\n",
            "|1924        |19                   |\n",
            "|2003        |1199                 |\n",
            "|2007        |1896                 |\n",
            "|2018        |4                    |\n",
            "|1974        |434                  |\n",
            "|2015        |13                   |\n",
            "+------------+---------------------+\n",
            "only showing top 10 rows\n",
            "\n"
          ]
        }
      ]
    },
    {
      "cell_type": "markdown",
      "source": [
        "Disini kembali dilakukan filterisasi untuk menampilkan 10 baris pertama dalam dataframe yang judulnya dimulai dengan kata 'Meet'."
      ],
      "metadata": {
        "id": "qOz4F_e4Xe9W"
      }
    },
    {
      "cell_type": "code",
      "source": [
        "# Menampilkan 10 baris pertama dari dataframe yang judulnya dimulai dengan 'Meet'\n",
        "df.filter(df['title'].like('Meet%')).show(10,False)"
      ],
      "metadata": {
        "colab": {
          "base_uri": "https://localhost:8080/"
        },
        "id": "XfTZHrilXj-6",
        "outputId": "dee15a9f-9a41-44e3-e817-9264293a88b5"
      },
      "execution_count": 20,
      "outputs": [
        {
          "output_type": "stream",
          "name": "stdout",
          "text": [
            "+-----+---------+----------+------------+-----------+--------------------------+\n",
            "|id   |budget   |popularity|release_date|revenue    |title                     |\n",
            "+-----+---------+----------+------------+-----------+--------------------------+\n",
            "|43957|500000.0 |2.649     |2005-06-28  |1000000.0  |Meet The Browns - The Play|\n",
            "|39997|0.0      |3.585     |1989-11-15  |0.0        |Meet the Hollowheads      |\n",
            "|16710|0.0      |11.495    |2008-03-21  |4.1939392E7|Meet the Browns           |\n",
            "|20430|0.0      |3.614     |2004-01-29  |0.0        |Meet Market               |\n",
            "|76435|0.0      |1.775     |2011-03-31  |0.0        |Meet the In-Laws          |\n",
            "|76516|5000000.0|4.05      |1990-11-08  |485772.0   |Meet the Applegates       |\n",
            "|7278 |3.0E7    |11.116    |2008-01-24  |8.4646831E7|Meet the Spartans         |\n",
            "|32574|0.0      |7.42      |1941-03-14  |0.0        |Meet John Doe             |\n",
            "|40506|0.0      |4.814     |1997-01-31  |0.0        |Meet Wally Sparks         |\n",
            "|40688|2.4E7    |6.848     |1998-03-27  |4562146.0  |Meet the Deedles          |\n",
            "+-----+---------+----------+------------+-----------+--------------------------+\n",
            "only showing top 10 rows\n",
            "\n"
          ]
        }
      ]
    },
    {
      "cell_type": "markdown",
      "source": [
        "Dilakukan kembali filtering yaitu memunculkan dataframe yang mengandung kata \"one\" yang berisi huruf dan angka."
      ],
      "metadata": {
        "id": "Cs4-F8O2YRPu"
      }
    },
    {
      "cell_type": "code",
      "source": [
        "df.filter(df['title'].rlike('\\w*one')).show(10,False)"
      ],
      "metadata": {
        "colab": {
          "base_uri": "https://localhost:8080/"
        },
        "id": "En19nyCoY_WS",
        "outputId": "95eb6837-be8c-4448-bb1c-959c057a7efc"
      },
      "execution_count": 23,
      "outputs": [
        {
          "output_type": "stream",
          "name": "stdout",
          "text": [
            "+-----+------+----------+------------+-------+------------------------+\n",
            "|id   |budget|popularity|release_date|revenue|title                   |\n",
            "+-----+------+----------+------------+-------+------------------------+\n",
            "|43002|0.0   |5.62      |1962-05-24  |0.0    |Lonely Are the Brave    |\n",
            "|43036|0.0   |5.438     |1960-08-30  |0.0    |Mill of the Stone Women |\n",
            "|43051|0.0   |4.042     |1959-03-25  |0.0    |Al Capone               |\n",
            "|43114|0.0   |5.703     |1958-08-01  |0.0    |Buchanan Rides Alone    |\n",
            "|43250|0.0   |2.024     |1957-06-21  |0.0    |The Lonely Man          |\n",
            "|43263|0.0   |8.947     |2010-05-09  |0.0    |Jesse Stone: No Remorse |\n",
            "|43296|0.0   |4.123     |2008-03-05  |0.0    |Hormones                |\n",
            "|43315|0.0   |3.455     |1955-10-17  |0.0    |A Man Alone             |\n",
            "|43407|0.0   |3.155     |1965-02-24  |0.0    |None but the Brave      |\n",
            "|43472|0.0   |1.357     |1946-01-01  |0.0    |Colonel Effingham's Raid|\n",
            "+-----+------+----------+------------+-------+------------------------+\n",
            "only showing top 10 rows\n",
            "\n"
          ]
        }
      ]
    },
    {
      "cell_type": "markdown",
      "source": [
        "FIlering kembali dilakukan untuk menampilkan 20 baris data yang judulnya mengandung unsur 'ove' seperti 'rOVEre' dan 'lOVE'."
      ],
      "metadata": {
        "id": "8JfpfG6PYg3D"
      }
    },
    {
      "cell_type": "code",
      "source": [
        "df.filter(df.title.contains('ove')).show()"
      ],
      "metadata": {
        "colab": {
          "base_uri": "https://localhost:8080/"
        },
        "id": "cyA2_T0_Y_Uk",
        "outputId": "b50e6019-f1f6-4c1d-bfba-0550c9564315"
      },
      "execution_count": 24,
      "outputs": [
        {
          "output_type": "stream",
          "name": "stdout",
          "text": [
            "+-----+------+------------------+------------+------------+--------------------+\n",
            "|   id|budget|        popularity|release_date|     revenue|               title|\n",
            "+-----+------+------------------+------------+------------+--------------------+\n",
            "|43100|   0.0|             7.252|  1959-10-07|         0.0|General Della Rovere|\n",
            "|43152|   0.0|             5.126|  2001-06-21|         0.0|      Love on a Diet|\n",
            "|43191|   0.0|             4.921|  1952-08-29|         0.0|   Beware, My Lovely|\n",
            "|43281|   0.0|             2.411|  1989-11-22|         0.0|   Love Without Pity|\n",
            "|43343|   0.0|             3.174|  1953-12-25|         0.0|        Easy to Love|\n",
            "|43347| 3.0E7|            14.863|  2010-11-22|1.02820008E8|  Love & Other Drugs|\n",
            "|43362|   0.0|             1.705|  1952-02-23|         0.0|Love Is Better Th...|\n",
            "|43363|   0.0|              2.02|  1952-05-29|         0.0|   Lovely to Look At|\n",
            "|43395|   0.0|             4.758|  1950-11-10|         0.0| Two Weeks with Love|\n",
            "|43455|   0.0|4.6690000000000005|  1948-08-23|         0.0| The Loves of Carmen|\n",
            "|43483|   0.0|             3.161|  1946-12-25|         0.0|Love Laughs at An...|\n",
            "|43547|   0.0|             7.635|  2009-01-30|         0.0|Between Love & Go...|\n",
            "|43556|   0.0|             2.418|  2006-10-31|         0.0|Joe Satriani - Li...|\n",
            "|43561|   0.0|             8.475|  2004-12-17|         0.0|   Christmas in Love|\n",
            "|43609|   0.0|             5.684|  2010-04-07|         0.0|    My Own Love Song|\n",
            "|43652|   0.0|             3.097|  2009-11-19|         0.0| Beloved Berlin Wall|\n",
            "|43739|   0.0|             4.514|  1939-04-07|         0.0|         Love Affair|\n",
            "|43742| 6.0E7|             3.723|  1994-10-21|         0.0|         Love Affair|\n",
            "|43764|   0.0|              0.73|  2006-01-01|         0.0|The Fish Fall in ...|\n",
            "|43787|   0.0|             5.769|  1942-11-19|         0.0|You Were Never Lo...|\n",
            "+-----+------+------------------+------------+------------+--------------------+\n",
            "only showing top 20 rows\n",
            "\n"
          ]
        }
      ]
    },
    {
      "cell_type": "markdown",
      "source": [
        "Melakukan selecting untuk kolom atau variable yang dimulai dengan 're'. Didapatkan terdapat kolom release_date dan revenue. Output selecting berupa skema."
      ],
      "metadata": {
        "id": "nDGHE3acYzBx"
      }
    },
    {
      "cell_type": "code",
      "source": [
        "# Memilih kolom yang nama kolomnya dimulai dengan 're'\n",
        "df.select(df.colRegex(\"`re\\w*`\")).printSchema()"
      ],
      "metadata": {
        "colab": {
          "base_uri": "https://localhost:8080/"
        },
        "id": "Mfnk6rRiYynI",
        "outputId": "6557c975-8115-403f-9b5e-d12468d53bcc"
      },
      "execution_count": null,
      "outputs": [
        {
          "output_type": "stream",
          "name": "stdout",
          "text": [
            "root\n",
            " |-- release_date: date (nullable = true)\n",
            " |-- revenue: float (nullable = true)\n",
            "\n"
          ]
        }
      ]
    },
    {
      "cell_type": "markdown",
      "source": [
        "Melakukan selecting untuk kolom atau variable mengandung unsur 'e' didalamnya. Didapatkan terdapat kolom release_date, revenue dan title. Output selecting berupa skema."
      ],
      "metadata": {
        "id": "HcW9lISYZBlV"
      }
    },
    {
      "cell_type": "code",
      "source": [
        "# Memilih kolom yang nama kolomnya mengandung huruf 'e'\n",
        "df.select(df.colRegex(\"`\\w*e`\")).printSchema()"
      ],
      "metadata": {
        "colab": {
          "base_uri": "https://localhost:8080/"
        },
        "id": "2LEbSi8yYybs",
        "outputId": "e5900305-d4cb-4d25-a9b5-4bca06fcc1e8"
      },
      "execution_count": null,
      "outputs": [
        {
          "output_type": "stream",
          "name": "stdout",
          "text": [
            "root\n",
            " |-- release_date: date (nullable = true)\n",
            " |-- revenue: float (nullable = true)\n",
            " |-- title: string (nullable = true)\n",
            "\n"
          ]
        }
      ]
    },
    {
      "cell_type": "markdown",
      "source": [
        "## Creating New Columns"
      ],
      "metadata": {
        "id": "T93KL0hvZ9NB"
      }
    },
    {
      "cell_type": "markdown",
      "source": [
        "Pada sesi ini, dibuat kolom baru dengan tujuan untuk memuat informasi baru. Kolom baru pertama adalah kolom 'mean_popularity' atau rata-rata popularitas. Setelah dibuat kolom baru, dihitung varians atau ragam dalam kolom tersebut. Hasilnya, jumlah total variansnya sebanyak 1665668.6984730042 dengan varians populasinya sebesar 37.85782759382254."
      ],
      "metadata": {
        "id": "i8nJJrQ8ZeWl"
      }
    },
    {
      "cell_type": "code",
      "source": [
        "# Menghitung rata-rata popularitas\n",
        "mean_pop=df.agg({'popularity':'mean'}).collect()[0]['avg(popularity)']\n",
        "# Menghitung jumlah observasi dalam dataframe\n",
        "count_obs= df.count()"
      ],
      "metadata": {
        "id": "xuuBAkaPaBtx"
      },
      "execution_count": 25,
      "outputs": []
    },
    {
      "cell_type": "code",
      "source": [
        "# Menambahkan kolom baru 'mean_popularity' dengan nilai rata-rata popularitas\n",
        "df=df.withColumn('mean_popularity',lit(mean_pop))"
      ],
      "metadata": {
        "id": "AViugjHbZXF4"
      },
      "execution_count": null,
      "outputs": []
    },
    {
      "cell_type": "code",
      "source": [
        "from pyspark.sql.functions import pow, mean\n",
        "# Menghitung rata-rata popularitas\n",
        "mean_popularity = df.select(mean(df['popularity'])).collect()[0][0]\n",
        "# Menambahkan kolom baru 'mean_popularity'\n",
        "df = df.withColumn('mean_popularity', lit(mean_popularity))\n",
        "# Menghitung total varians dari kolom 'popularity'\n",
        "variance_sum = df.withColumn('variance', pow((df['popularity'] -\n",
        "  df['mean_popularity']), 2)) \\\n",
        "                .agg({'variance': 'sum'}) \\\n",
        "                .collect()[0]['sum(variance)']\n",
        "# Menampilkan total varians\n",
        "print('Total variance:', variance_sum)"
      ],
      "metadata": {
        "colab": {
          "base_uri": "https://localhost:8080/"
        },
        "id": "ZYhMN3Q2am_v",
        "outputId": "73f3d8e3-2577-43fc-95ff-7ac6b39b2d00"
      },
      "execution_count": null,
      "outputs": [
        {
          "output_type": "stream",
          "name": "stdout",
          "text": [
            "Total variance: 1665668.6984730042\n"
          ]
        }
      ]
    },
    {
      "cell_type": "code",
      "source": [
        "# Menghitung varians populasi\n",
        "variance_population = variance_sum / count_obs\n",
        "# Menampilkan varians populasi\n",
        "print('Variance of population:', variance_population)"
      ],
      "metadata": {
        "colab": {
          "base_uri": "https://localhost:8080/"
        },
        "outputId": "6cd6d97a-0055-4f6e-ee04-397ee85e43e4",
        "id": "IRIzEc2ETVS0"
      },
      "execution_count": null,
      "outputs": [
        {
          "output_type": "stream",
          "name": "stdout",
          "text": [
            "Variance of population: 37.85782759382254\n"
          ]
        }
      ]
    },
    {
      "cell_type": "markdown",
      "source": [
        "Dilakukan proses lebeling bersadarkan kolom budget dan popularity dengan kondisi:\n",
        "\n",
        "1. Lebeling budget \\\n",
        "    a) Jika budget kurang dari 10000000, maka beri lebel dalam kolom budget_cat 'Small' \\\n",
        "    b) Jika budget sama dengan 10000000, maka beri lebel dalam kolom budget_cat 'Medium' \\\n",
        "    c) Jika budget lebih dari 10000000, maka beri lebel dalam kolom budget_cat 'Big'\n",
        "\n",
        "2. Lebeling popularity \\\n",
        "    a) Jika popularity kurang dari 3, maka beri lebel dalam kolom ratings 'Low' \\\n",
        "    b) Jika popularity kurang dari 5, maka beri lebel dalam kolom ratings 'Mid' \\\n",
        "    c) Jika popularity bernilai yang lain (lebih dari 5), maka beri lebel dalam kolom ratings 'High'."
      ],
      "metadata": {
        "id": "g1f0HNCPaPvz"
      }
    },
    {
      "cell_type": "code",
      "source": [
        "from pyspark.sql.functions import udf\n",
        "from pyspark.sql.types import StructType, StructField, StringType\n",
        "\n",
        "# Definisikan fungsi baru\n",
        "def new_cols (budget, popularity):\n",
        "  if budget < 10000000:\n",
        "    budget_cat = \"Small\"\n",
        "  elif budget < 100000000:\n",
        "    budget_cat = \"Medium\"\n",
        "  else:\n",
        "    budget_cat = \"Big\"\n",
        "\n",
        "  if popularity < 3:\n",
        "    ratings = \"Low\"\n",
        "  elif popularity < 5:\n",
        "    ratings = \"Mid\"\n",
        "  else:\n",
        "    ratings = \"High\"\n",
        "\n",
        "  return budget_cat, ratings\n",
        "\n",
        "# Definisikan user-defined function (UDF)\n",
        "def new_cols (budget, popularity):\n",
        "  if budget < 10000000:\n",
        "    budget_cat = \"Small\"\n",
        "  elif budget < 100000000:\n",
        "    budget_cat = \"Medium\"\n",
        "  else:\n",
        "    budget_cat = \"Big\"\n",
        "\n",
        "  if popularity < 3:\n",
        "      ratings = \"Low\"\n",
        "  elif popularity < 5:\n",
        "      ratings = \"Mid\"\n",
        "  else:\n",
        "      ratings = \"High\"\n",
        "  return budget_cat, ratings\n",
        "\n",
        "# Register UDF\n",
        "udfB = udf (new_cols, StructType([\n",
        "    StructField(\"budget_cat\", StringType(), True),\n",
        "    StructField(\"ratings\", StringType(), True)\n",
        "]))\n",
        "\n",
        "# Select columns and apply the UDF\n",
        "temp_df = df.select('id', 'budget', 'popularity').withColumn(\"newcat\",\n",
        "  udfB(\"budget\", \"popularity\"))\n",
        "\n",
        "# Unbundle the struct type columns into individual columns and drop the struct\n",
        "df_with_newcols = temp_df.select('id', 'budget', 'popularity', temp_df.newcat.\n",
        "  getItem('budget_cat').alias('budget_cat'),\n",
        "                                 temp_df.newcat.getItem('ratings').\n",
        "  alias('ratings')).drop('newcat')\n",
        "# Menampilkan DataFrame yang sudah diubah\n",
        "df_with_newcols.show(15, False)"
      ],
      "metadata": {
        "colab": {
          "base_uri": "https://localhost:8080/"
        },
        "id": "t5Qewn8RaCGv",
        "outputId": "2fa177b8-1310-4f0d-9b54-c2a07a50fba4"
      },
      "execution_count": null,
      "outputs": [
        {
          "output_type": "stream",
          "name": "stdout",
          "text": [
            "+-----+---------+----------+----------+-------+\n",
            "|id   |budget   |popularity|budget_cat|ratings|\n",
            "+-----+---------+----------+----------+-------+\n",
            "|43000|0.0      |2.503     |Small     |Low    |\n",
            "|43001|0.0      |5.51      |Small     |High   |\n",
            "|43002|0.0      |5.62      |Small     |High   |\n",
            "|43003|0.0      |7.159     |Small     |High   |\n",
            "|43004|500000.0 |3.988     |Small     |Mid    |\n",
            "|43006|0.0      |3.194     |Small     |Mid    |\n",
            "|43007|0.0      |2.689     |Small     |Low    |\n",
            "|43008|0.0      |6.537     |Small     |High   |\n",
            "|43010|0.0      |4.297     |Small     |Mid    |\n",
            "|43011|0.0      |4.417     |Small     |Mid    |\n",
            "|43012|7000000.0|4.722     |Small     |Mid    |\n",
            "|43013|0.0      |2.543     |Small     |Low    |\n",
            "|43014|0.0      |4.303     |Small     |Mid    |\n",
            "|43015|0.0      |3.493     |Small     |Mid    |\n",
            "|43016|0.0      |2.851     |Small     |Low    |\n",
            "+-----+---------+----------+----------+-------+\n",
            "only showing top 15 rows\n",
            "\n"
          ]
        }
      ]
    },
    {
      "cell_type": "markdown",
      "source": [
        "Disini juga melakukan proses yang sama seperti diatas, hanya saja menggunakan modul yang berbeda yaitu 'when'. Kodenya juga lebih singkat dari kode diatas."
      ],
      "metadata": {
        "id": "X2wC_59SbkI7"
      }
    },
    {
      "cell_type": "code",
      "source": [
        "#recreate the preceding columns using the when function\n",
        "from pyspark.sql.functions import when\n",
        "\n",
        "# Membuat DataFrame baru dengan kolom 'budget_cat' dan 'ratings' menggunakan when() function\n",
        "df_with_newcols = df.select('id', 'budget', 'popularity').\\\n",
        "    withColumn('budget_cat', when (df ['budget'] < 10000000, 'Small').\n",
        "  when (df ['budget'] < 100000000, 'Medium').otherwise('Big')).\\\n",
        "    withColumn('ratings', when (df ['popularity'] < 3, 'Low').\n",
        "  when (df ['popularity'] <5, 'Mid').otherwise('High'))\n",
        "\n",
        "# Menampilkan DataFrame yang sudah diubah\n",
        "df_with_newcols.show(15, False)"
      ],
      "metadata": {
        "colab": {
          "base_uri": "https://localhost:8080/"
        },
        "id": "MnB5HJKFaCEc",
        "outputId": "cc60fbd2-3865-4442-fce0-66a176ea80e7"
      },
      "execution_count": null,
      "outputs": [
        {
          "output_type": "stream",
          "name": "stdout",
          "text": [
            "+-----+---------+----------+----------+-------+\n",
            "|id   |budget   |popularity|budget_cat|ratings|\n",
            "+-----+---------+----------+----------+-------+\n",
            "|43000|0.0      |2.503     |Small     |Low    |\n",
            "|43001|0.0      |5.51      |Small     |High   |\n",
            "|43002|0.0      |5.62      |Small     |High   |\n",
            "|43003|0.0      |7.159     |Small     |High   |\n",
            "|43004|500000.0 |3.988     |Small     |Mid    |\n",
            "|43006|0.0      |3.194     |Small     |Mid    |\n",
            "|43007|0.0      |2.689     |Small     |Low    |\n",
            "|43008|0.0      |6.537     |Small     |High   |\n",
            "|43010|0.0      |4.297     |Small     |Mid    |\n",
            "|43011|0.0      |4.417     |Small     |Mid    |\n",
            "|43012|7000000.0|4.722     |Small     |Mid    |\n",
            "|43013|0.0      |2.543     |Small     |Low    |\n",
            "|43014|0.0      |4.303     |Small     |Mid    |\n",
            "|43015|0.0      |3.493     |Small     |Mid    |\n",
            "|43016|0.0      |2.851     |Small     |Low    |\n",
            "+-----+---------+----------+----------+-------+\n",
            "only showing top 15 rows\n",
            "\n"
          ]
        }
      ]
    },
    {
      "cell_type": "markdown",
      "source": [
        "## Deleting and Renamning Columns"
      ],
      "metadata": {
        "id": "Yb4kjrvBiUfD"
      }
    },
    {
      "cell_type": "markdown",
      "source": [
        "Menghapus kolom budget_cat"
      ],
      "metadata": {
        "id": "nQ7GZIONbuPg"
      }
    },
    {
      "cell_type": "code",
      "source": [
        "columns_to_drop=['budget_cat']\n",
        "df_with_newcols=df_with_newcols.drop(*columns_to_drop)"
      ],
      "metadata": {
        "id": "LON-IJ4MaB12"
      },
      "execution_count": null,
      "outputs": []
    },
    {
      "cell_type": "markdown",
      "source": [
        "Disini dilakukan kembali perubahan. Setelah kolom budget_cat dihapus, tersisa kolom ratings, namun kolom ratings akan diubah namanya menjadi film_ratings dengan fungsi `.withColumnRenamed`."
      ],
      "metadata": {
        "id": "MSvfm68mbzUO"
      }
    },
    {
      "cell_type": "code",
      "source": [
        "# Menggunakan chaining untuk melakukan multiple transformations\n",
        "df_with_newcols = df_with_newcols.withColumnRenamed('id', 'film_id').withColumnRenamed('ratings', 'film_ratings')\n",
        "\n",
        "# Menampilkan DataFrame yang sudah diubah\n",
        "df_with_newcols.show(15, False)"
      ],
      "metadata": {
        "colab": {
          "base_uri": "https://localhost:8080/"
        },
        "id": "kn78hLIxaByf",
        "outputId": "3aaf939b-171c-410f-c6e5-7193990cad7f"
      },
      "execution_count": null,
      "outputs": [
        {
          "output_type": "stream",
          "name": "stdout",
          "text": [
            "+-------+---------+----------+------------+\n",
            "|film_id|budget   |popularity|film_ratings|\n",
            "+-------+---------+----------+------------+\n",
            "|43000  |0.0      |2.503     |Low         |\n",
            "|43001  |0.0      |5.51      |High        |\n",
            "|43002  |0.0      |5.62      |High        |\n",
            "|43003  |0.0      |7.159     |High        |\n",
            "|43004  |500000.0 |3.988     |Mid         |\n",
            "|43006  |0.0      |3.194     |Mid         |\n",
            "|43007  |0.0      |2.689     |Low         |\n",
            "|43008  |0.0      |6.537     |High        |\n",
            "|43010  |0.0      |4.297     |Mid         |\n",
            "|43011  |0.0      |4.417     |Mid         |\n",
            "|43012  |7000000.0|4.722     |Mid         |\n",
            "|43013  |0.0      |2.543     |Low         |\n",
            "|43014  |0.0      |4.303     |Mid         |\n",
            "|43015  |0.0      |3.493     |Mid         |\n",
            "|43016  |0.0      |2.851     |Low         |\n",
            "+-------+---------+----------+------------+\n",
            "only showing top 15 rows\n",
            "\n"
          ]
        }
      ]
    },
    {
      "cell_type": "markdown",
      "source": [
        "Dilakan perubahan kembali dengan fungsi yang sama, yaitu merubah nama kolom popularity menjadi film_popularity."
      ],
      "metadata": {
        "id": "lCWXcETKcDvN"
      }
    },
    {
      "cell_type": "code",
      "source": [
        "# change multiple column names, you try the following command:\n",
        "# Mendefinisikan semua perubahan nama kolom dalam list\n",
        "new_names = [('budget', 'film_budget'), ('popularity', 'film_popularity')]\n",
        "\n",
        "# Mengubah nama kolom menggunakan loop\n",
        "for old_name, new_name in new_names:\n",
        "    df_with_newcols = df_with_newcols.withColumnRenamed(old_name, new_name)\n",
        "# Menampilkan DataFrame yang sudah diubah\n",
        "df_with_newcols.show(15, False)"
      ],
      "metadata": {
        "id": "GXEYxKeniYth",
        "colab": {
          "base_uri": "https://localhost:8080/"
        },
        "outputId": "7b6b10ff-051a-4f8d-a942-30dbfaf31d5b"
      },
      "execution_count": null,
      "outputs": [
        {
          "output_type": "stream",
          "name": "stdout",
          "text": [
            "+-------+-----------+---------------+------------+\n",
            "|film_id|film_budget|film_popularity|film_ratings|\n",
            "+-------+-----------+---------------+------------+\n",
            "|43000  |0.0        |2.503          |Low         |\n",
            "|43001  |0.0        |5.51           |High        |\n",
            "|43002  |0.0        |5.62           |High        |\n",
            "|43003  |0.0        |7.159          |High        |\n",
            "|43004  |500000.0   |3.988          |Mid         |\n",
            "|43006  |0.0        |3.194          |Mid         |\n",
            "|43007  |0.0        |2.689          |Low         |\n",
            "|43008  |0.0        |6.537          |High        |\n",
            "|43010  |0.0        |4.297          |Mid         |\n",
            "|43011  |0.0        |4.417          |Mid         |\n",
            "|43012  |7000000.0  |4.722          |Mid         |\n",
            "|43013  |0.0        |2.543          |Low         |\n",
            "|43014  |0.0        |4.303          |Mid         |\n",
            "|43015  |0.0        |3.493          |Mid         |\n",
            "|43016  |0.0        |2.851          |Low         |\n",
            "+-------+-----------+---------------+------------+\n",
            "only showing top 15 rows\n",
            "\n"
          ]
        }
      ]
    },
    {
      "cell_type": "markdown",
      "source": [
        "### **ANALISIS**"
      ],
      "metadata": {
        "id": "nE93gMGtcMIY"
      }
    },
    {
      "cell_type": "markdown",
      "source": [
        "Dari percobaan ekspolarsi dengan Spark, dapat diambil berapa insight, yaitu:\n",
        "1. Secara dataset, dataset ini terbilang buruk karena mengandung data yang tidak masuk akal. Contohnya ada adalah kolom budget dan revenue yang banyak sekali nilai 0. Contoh lainnya adalah ada film dengan budget 500000.0 namun revenuenya 0. Namun jika data dengan nilai NULL atau 0 dihapus, maka datasetnya akan tersisa sedikit.\n",
        "2. Hasil ekplorasi ini dapat digunakan untuk menentukan strategi produksi. Terkhusus pada proses lebeling, kita dengan mudah mendapat informasi tentang budget dan rating filmnya. Produser film dapat mengambil judul film yang memiliki budget low namun rating high untuk dijadikan acuan strategi produksi hingga pemasaran."
      ],
      "metadata": {
        "id": "sFYOKZYycTAx"
      }
    }
  ]
}