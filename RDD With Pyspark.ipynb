{
  "nbformat": 4,
  "nbformat_minor": 0,
  "metadata": {
    "colab": {
      "provenance": []
    },
    "kernelspec": {
      "name": "python3",
      "display_name": "Python 3"
    },
    "language_info": {
      "name": "python"
    }
  },
  "cells": [
    {
      "cell_type": "markdown",
      "source": [
        "# **PRAKTIKUM ANALISIS BIG DATA**\n",
        "### Nama : Claudhea Angeliani\n",
        "### NIM : 121450124  \n",
        "### Kelas : RB"
      ],
      "metadata": {
        "id": "qiC2F0-RW08I"
      }
    },
    {
      "cell_type": "markdown",
      "source": [
        "## **Tugas Modul**"
      ],
      "metadata": {
        "id": "q3YbaHIGlEUH"
      }
    },
    {
      "cell_type": "code",
      "execution_count": null,
      "metadata": {
        "colab": {
          "base_uri": "https://localhost:8080/"
        },
        "id": "qTRcqHXmPK6Y",
        "outputId": "391bd2d4-7484-44b2-d3fa-6be044b69dd2"
      },
      "outputs": [
        {
          "output_type": "stream",
          "name": "stdout",
          "text": [
            "Collecting pyspark\n",
            "  Downloading pyspark-3.5.1.tar.gz (317.0 MB)\n",
            "\u001b[2K     \u001b[90m━━━━━━━━━━━━━━━━━━━━━━━━━━━━━━━━━━━━━━━━\u001b[0m \u001b[32m317.0/317.0 MB\u001b[0m \u001b[31m4.0 MB/s\u001b[0m eta \u001b[36m0:00:00\u001b[0m\n",
            "\u001b[?25h  Preparing metadata (setup.py) ... \u001b[?25l\u001b[?25hdone\n",
            "Requirement already satisfied: py4j==0.10.9.7 in /usr/local/lib/python3.10/dist-packages (from pyspark) (0.10.9.7)\n",
            "Building wheels for collected packages: pyspark\n",
            "  Building wheel for pyspark (setup.py) ... \u001b[?25l\u001b[?25hdone\n",
            "  Created wheel for pyspark: filename=pyspark-3.5.1-py2.py3-none-any.whl size=317488493 sha256=37bc3843bfabeb281587a20c955390e0da6a5588b00d21fc9d6eb1a6d4be84fc\n",
            "  Stored in directory: /root/.cache/pip/wheels/80/1d/60/2c256ed38dddce2fdd93be545214a63e02fbd8d74fb0b7f3a6\n",
            "Successfully built pyspark\n",
            "Installing collected packages: pyspark\n",
            "Successfully installed pyspark-3.5.1\n"
          ]
        }
      ],
      "source": [
        "!pip install pyspark"
      ]
    },
    {
      "cell_type": "code",
      "source": [
        "!apt-get install openjdk-8-jdk-headless -qq > /dev/null\n",
        "!wget -q http://archive.apache.org/dist/spark/spark-3.3.2/spark-3.3.2-bin-hadoop3.tgz\n",
        "!tar xf spark-3.3.2-bin-hadoop3.tgz\n",
        "!pip install -q findspark"
      ],
      "metadata": {
        "id": "48KMZJrmPf14"
      },
      "execution_count": 1,
      "outputs": []
    },
    {
      "cell_type": "code",
      "source": [
        "import os\n",
        "os.environ[\"JAVA_HOME\"] = \"/usr/lib/jvm/java-8-openjdk-amd64\"\n",
        "os.environ[\"SPARK_HOME\"] = \"/content/spark-3.3.2-bin-hadoop3\"\n",
        "!ls\n",
        "\n",
        "import findspark\n",
        "findspark.init()\n",
        "print('[Done] You can use pyspark now.')"
      ],
      "metadata": {
        "colab": {
          "base_uri": "https://localhost:8080/"
        },
        "id": "0oQfMOApQiSb",
        "outputId": "dc84a9cb-ca8e-41e9-cc5c-a86e5ff836f2"
      },
      "execution_count": 2,
      "outputs": [
        {
          "output_type": "stream",
          "name": "stdout",
          "text": [
            "sample_data  spark-3.3.2-bin-hadoop3  spark-3.3.2-bin-hadoop3.tgz\n",
            "[Done] You can use pyspark now.\n"
          ]
        }
      ]
    },
    {
      "cell_type": "markdown",
      "source": [
        "SPARK CONTEXT"
      ],
      "metadata": {
        "id": "-R07jBUdVf-R"
      }
    },
    {
      "cell_type": "code",
      "source": [
        "import findspark\n",
        "findspark.init()\n",
        "import pyspark\n",
        "sc = pyspark.SparkContext()"
      ],
      "metadata": {
        "id": "bcMZPAw7VfSd"
      },
      "execution_count": null,
      "outputs": []
    },
    {
      "cell_type": "code",
      "source": [
        "sc"
      ],
      "metadata": {
        "colab": {
          "base_uri": "https://localhost:8080/",
          "height": 196
        },
        "id": "pzj1-hQsVrJ5",
        "outputId": "ba63f03b-4049-43b0-8920-fd9088d7b423"
      },
      "execution_count": null,
      "outputs": [
        {
          "output_type": "execute_result",
          "data": {
            "text/plain": [
              "<SparkContext master=local[*] appName=pyspark-shell>"
            ],
            "text/html": [
              "\n",
              "        <div>\n",
              "            <p><b>SparkContext</b></p>\n",
              "\n",
              "            <p><a href=\"http://b4e31117e0f8:4040\">Spark UI</a></p>\n",
              "\n",
              "            <dl>\n",
              "              <dt>Version</dt>\n",
              "                <dd><code>v3.3.2</code></dd>\n",
              "              <dt>Master</dt>\n",
              "                <dd><code>local[*]</code></dd>\n",
              "              <dt>AppName</dt>\n",
              "                <dd><code>pyspark-shell</code></dd>\n",
              "            </dl>\n",
              "        </div>\n",
              "        "
            ]
          },
          "metadata": {},
          "execution_count": 20
        }
      ]
    },
    {
      "cell_type": "code",
      "source": [
        "sc.parallelize([1, 2, 3, 4, 5, 6, 7, 8, 9, 10]).map(lambda x: x**2).sum()"
      ],
      "metadata": {
        "colab": {
          "base_uri": "https://localhost:8080/"
        },
        "id": "Skp5KXLvVsWn",
        "outputId": "74394442-417b-4bb8-ca40-7cb4cc81bf93"
      },
      "execution_count": null,
      "outputs": [
        {
          "output_type": "execute_result",
          "data": {
            "text/plain": [
              "385"
            ]
          },
          "metadata": {},
          "execution_count": 22
        }
      ]
    },
    {
      "cell_type": "markdown",
      "source": [
        "Create A RDD"
      ],
      "metadata": {
        "id": "meOAya5OWLaN"
      }
    },
    {
      "cell_type": "code",
      "source": [
        "wordsList = ['cat', 'elephant', 'rat', 'rat', 'cat']\n",
        "wordsRDD = sc.parallelize(wordsList, 4)\n",
        "# Print out the type of wordsRDD\n",
        "print (type(wordsRDD))"
      ],
      "metadata": {
        "colab": {
          "base_uri": "https://localhost:8080/"
        },
        "id": "yV2ciCbBWMpG",
        "outputId": "18c09d18-72b1-4bd2-9136-0aec2306f6e2"
      },
      "execution_count": null,
      "outputs": [
        {
          "output_type": "stream",
          "name": "stdout",
          "text": [
            "<class 'pyspark.rdd.RDD'>\n"
          ]
        }
      ]
    },
    {
      "cell_type": "markdown",
      "source": [
        "Call collect on an RDD: Lazy Spark"
      ],
      "metadata": {
        "id": "rgrRuxdYWPek"
      }
    },
    {
      "cell_type": "code",
      "source": [
        "wordsRDD.collect()"
      ],
      "metadata": {
        "colab": {
          "base_uri": "https://localhost:8080/"
        },
        "id": "5SxyjUkVWRYM",
        "outputId": "06bc2d29-da82-4904-a706-22d780504710"
      },
      "execution_count": null,
      "outputs": [
        {
          "output_type": "execute_result",
          "data": {
            "text/plain": [
              "['cat', 'elephant', 'rat', 'rat', 'cat']"
            ]
          },
          "metadata": {},
          "execution_count": 24
        }
      ]
    },
    {
      "cell_type": "markdown",
      "source": [
        "Word Examples"
      ],
      "metadata": {
        "id": "Ka5VtRAiWT86"
      }
    },
    {
      "cell_type": "code",
      "source": [
        "def makePlural(word):\n",
        "    return (word + 's')\n",
        "\n",
        "print (makePlural('cat'))"
      ],
      "metadata": {
        "colab": {
          "base_uri": "https://localhost:8080/"
        },
        "id": "CQINJT5hWVTc",
        "outputId": "aabf0d1c-a850-482e-a6c1-557928fc5fb9"
      },
      "execution_count": null,
      "outputs": [
        {
          "output_type": "stream",
          "name": "stdout",
          "text": [
            "cats\n"
          ]
        }
      ]
    },
    {
      "cell_type": "code",
      "source": [
        "#Transform one RDD into another.\n",
        "pluralRDD = wordsRDD.map(makePlural)\n",
        "print (pluralRDD.first())\n",
        "print (pluralRDD.take(2))"
      ],
      "metadata": {
        "colab": {
          "base_uri": "https://localhost:8080/"
        },
        "id": "ZaWPs549WXfa",
        "outputId": "ea980db3-8212-4215-d08d-991f9e1429e0"
      },
      "execution_count": null,
      "outputs": [
        {
          "output_type": "stream",
          "name": "stdout",
          "text": [
            "cats\n",
            "['cats', 'elephants']\n"
          ]
        }
      ]
    },
    {
      "cell_type": "code",
      "source": [
        "pluralRDD.take(1)"
      ],
      "metadata": {
        "colab": {
          "base_uri": "https://localhost:8080/"
        },
        "id": "ogyju0X8WbEc",
        "outputId": "4549ef70-62b4-4710-a973-7ac243da1b31"
      },
      "execution_count": null,
      "outputs": [
        {
          "output_type": "execute_result",
          "data": {
            "text/plain": [
              "['cats']"
            ]
          },
          "metadata": {},
          "execution_count": 27
        }
      ]
    },
    {
      "cell_type": "code",
      "source": [
        "pluralRDD.collect()"
      ],
      "metadata": {
        "colab": {
          "base_uri": "https://localhost:8080/"
        },
        "id": "X3qEIoX2WdJH",
        "outputId": "1536fe81-4090-4641-cf5b-0423ba344933"
      },
      "execution_count": null,
      "outputs": [
        {
          "output_type": "execute_result",
          "data": {
            "text/plain": [
              "['cats', 'elephants', 'rats', 'rats', 'cats']"
            ]
          },
          "metadata": {},
          "execution_count": 28
        }
      ]
    },
    {
      "cell_type": "markdown",
      "source": [
        "Key Value Pairs"
      ],
      "metadata": {
        "id": "ivK9FH8MWejX"
      }
    },
    {
      "cell_type": "code",
      "source": [
        "wordPairs = wordsRDD.map(lambda w: (w, 1))\n",
        "print (wordPairs.collect())"
      ],
      "metadata": {
        "colab": {
          "base_uri": "https://localhost:8080/"
        },
        "id": "5060VeQUWgAS",
        "outputId": "dac28e4a-bf03-4251-d3af-8a8caa0e9510"
      },
      "execution_count": null,
      "outputs": [
        {
          "output_type": "stream",
          "name": "stdout",
          "text": [
            "[('cat', 1), ('elephant', 1), ('rat', 1), ('rat', 1), ('cat', 1)]\n"
          ]
        }
      ]
    },
    {
      "cell_type": "markdown",
      "source": [
        "WORD COUNT!"
      ],
      "metadata": {
        "id": "ihegfLLvWhco"
      }
    },
    {
      "cell_type": "code",
      "source": [
        "wordsList = ['cat', 'elephant', 'rat', 'rat', 'cat']\n",
        "wordsRDD = sc.parallelize(wordsList, 4)\n",
        "wordCountsCollected = (wordsRDD\n",
        "                       .map(lambda w: (w, 1))\n",
        "                       .reduceByKey(lambda x,y: x+y)\n",
        "                       .collect())\n",
        "print (wordCountsCollected)"
      ],
      "metadata": {
        "colab": {
          "base_uri": "https://localhost:8080/"
        },
        "id": "gowmGjMSWi6s",
        "outputId": "e31f9a4c-4c06-43e3-b4a1-25de1e2056a9"
      },
      "execution_count": null,
      "outputs": [
        {
          "output_type": "stream",
          "name": "stdout",
          "text": [
            "[('cat', 2), ('elephant', 1), ('rat', 2)]\n"
          ]
        }
      ]
    },
    {
      "cell_type": "code",
      "source": [
        "print ((wordsRDD\n",
        "    .map(lambda w: (w, 1))\n",
        "    .reduceByKey(lambda x,y: x+y)).toDebugString())"
      ],
      "metadata": {
        "colab": {
          "base_uri": "https://localhost:8080/"
        },
        "id": "7JKzNaKyWlb-",
        "outputId": "f4eff0f7-cf22-44c7-f6ab-31dbf0238bc0"
      },
      "execution_count": null,
      "outputs": [
        {
          "output_type": "stream",
          "name": "stdout",
          "text": [
            "b'(4) PythonRDD[19] at RDD at PythonRDD.scala:53 []\\n |  MapPartitionsRDD[18] at mapPartitions at PythonRDD.scala:145 []\\n |  ShuffledRDD[17] at partitionBy at NativeMethodAccessorImpl.java:0 []\\n +-(4) PairwiseRDD[16] at reduceByKey at <ipython-input-31-734709dee3e9>:3 []\\n    |  PythonRDD[15] at reduceByKey at <ipython-input-31-734709dee3e9>:3 []\\n    |  ParallelCollectionRDD[9] at readRDDFromFile at PythonRDD.scala:274 []'\n"
          ]
        }
      ]
    },
    {
      "cell_type": "markdown",
      "source": [
        "Using Cache"
      ],
      "metadata": {
        "id": "-Eg-EFDdWng1"
      }
    },
    {
      "cell_type": "code",
      "source": [
        "wordsList = ['cat', 'elephant', 'rat', 'rat', 'cat']\n",
        "wordsRDD = sc.parallelize(wordsList, 4)\n",
        "print (wordsRDD)\n",
        "wordsRDD.count()"
      ],
      "metadata": {
        "colab": {
          "base_uri": "https://localhost:8080/"
        },
        "id": "FBWQrRmBWotS",
        "outputId": "6053551d-aaf8-4759-bfd8-cf571f43b804"
      },
      "execution_count": null,
      "outputs": [
        {
          "output_type": "stream",
          "name": "stdout",
          "text": [
            "ParallelCollectionRDD[20] at readRDDFromFile at PythonRDD.scala:274\n"
          ]
        },
        {
          "output_type": "execute_result",
          "data": {
            "text/plain": [
              "5"
            ]
          },
          "metadata": {},
          "execution_count": 32
        }
      ]
    },
    {
      "cell_type": "code",
      "source": [
        "#this is rerun from the start\n",
        "wordsRDD.count()"
      ],
      "metadata": {
        "colab": {
          "base_uri": "https://localhost:8080/"
        },
        "id": "7A9ymZ3fWq0x",
        "outputId": "decdcc42-5bdf-41ab-e4a2-85bef72f7ee0"
      },
      "execution_count": null,
      "outputs": [
        {
          "output_type": "execute_result",
          "data": {
            "text/plain": [
              "5"
            ]
          },
          "metadata": {},
          "execution_count": 33
        }
      ]
    },
    {
      "cell_type": "code",
      "source": [
        "#default storage level (MEMORY_ONLY)\n",
        "wordsRDD.cache()#nothing done this is still lazy"
      ],
      "metadata": {
        "colab": {
          "base_uri": "https://localhost:8080/"
        },
        "id": "GhD-EgGrWsQH",
        "outputId": "4b4c68f7-69f7-47ac-a83d-86c0a4e18439"
      },
      "execution_count": null,
      "outputs": [
        {
          "output_type": "execute_result",
          "data": {
            "text/plain": [
              "ParallelCollectionRDD[20] at readRDDFromFile at PythonRDD.scala:274"
            ]
          },
          "metadata": {},
          "execution_count": 34
        }
      ]
    },
    {
      "cell_type": "code",
      "source": [
        "#parallelize is rerun and cached because we told it to cache\n",
        "wordsRDD.count()"
      ],
      "metadata": {
        "colab": {
          "base_uri": "https://localhost:8080/"
        },
        "id": "WxndZPjNWuH4",
        "outputId": "6288923d-567e-4071-cf83-e1d8dd6670ba"
      },
      "execution_count": null,
      "outputs": [
        {
          "output_type": "execute_result",
          "data": {
            "text/plain": [
              "5"
            ]
          },
          "metadata": {},
          "execution_count": 35
        }
      ]
    },
    {
      "cell_type": "code",
      "source": [
        "#this `sc.parallelize` is not rerun in this case\n",
        "wordsRDD.count()"
      ],
      "metadata": {
        "colab": {
          "base_uri": "https://localhost:8080/"
        },
        "id": "v9zi7OHrWvnM",
        "outputId": "8c23df05-7da7-457e-9148-afcb2cfa0e70"
      },
      "execution_count": null,
      "outputs": [
        {
          "output_type": "execute_result",
          "data": {
            "text/plain": [
              "5"
            ]
          },
          "metadata": {},
          "execution_count": 36
        }
      ]
    },
    {
      "cell_type": "code",
      "source": [
        "birdsList=['heron','owl']\n",
        "animList=wordsList+birdsList\n",
        "animaldict={}\n",
        "for e in wordsList:\n",
        "    animaldict[e]='mammal'\n",
        "for e in birdsList:\n",
        "    animaldict[e]='bird'\n",
        "animaldict"
      ],
      "metadata": {
        "colab": {
          "base_uri": "https://localhost:8080/"
        },
        "id": "0hXMvnxrWxj_",
        "outputId": "95e8934b-00e9-4278-c28e-9d2eaceaba49"
      },
      "execution_count": null,
      "outputs": [
        {
          "output_type": "execute_result",
          "data": {
            "text/plain": [
              "{'cat': 'mammal',\n",
              " 'elephant': 'mammal',\n",
              " 'rat': 'mammal',\n",
              " 'heron': 'bird',\n",
              " 'owl': 'bird'}"
            ]
          },
          "metadata": {},
          "execution_count": 37
        }
      ]
    },
    {
      "cell_type": "code",
      "source": [
        "animsrdd = sc.parallelize(animList, 4)\n",
        "animsrdd.cache()\n",
        "#below runs the whole chain but causes cache to be populated\n",
        "mammalcount=animsrdd.filter(lambda w: animaldict[w]=='mammal').count()\n",
        "#now only the filter is carried out\n",
        "birdcount=animsrdd.filter(lambda w: animaldict[w]=='bird').count()\n",
        "print (mammalcount, birdcount)"
      ],
      "metadata": {
        "colab": {
          "base_uri": "https://localhost:8080/"
        },
        "id": "xhGU4pIRWzUQ",
        "outputId": "6c9f7b98-7b52-435d-fdab-fdede352c14d"
      },
      "execution_count": null,
      "outputs": [
        {
          "output_type": "stream",
          "name": "stdout",
          "text": [
            "5 2\n"
          ]
        }
      ]
    },
    {
      "cell_type": "markdown",
      "source": [
        "## **TUGAS INDIVIDU**"
      ],
      "metadata": {
        "id": "QMKzeqhRXMju"
      }
    },
    {
      "cell_type": "code",
      "source": [
        "pip install pyspark"
      ],
      "metadata": {
        "colab": {
          "base_uri": "https://localhost:8080/"
        },
        "id": "rNSucA_DS-_A",
        "outputId": "40ca1cb2-91e0-4975-b6c7-851ce83ab235"
      },
      "execution_count": null,
      "outputs": [
        {
          "output_type": "stream",
          "name": "stdout",
          "text": [
            "Requirement already satisfied: pyspark in /usr/local/lib/python3.10/dist-packages (3.5.1)\n",
            "Requirement already satisfied: py4j==0.10.9.7 in /usr/local/lib/python3.10/dist-packages (from pyspark) (0.10.9.7)\n"
          ]
        }
      ]
    },
    {
      "cell_type": "code",
      "execution_count": null,
      "metadata": {
        "id": "tY-AfrdOS0Vv"
      },
      "outputs": [],
      "source": [
        "# Mengimport library numpy, pandas, ast(Abstract Syntax Trees)\n",
        "import numpy as np\n",
        "import pandas as pd\n",
        "import ast"
      ]
    },
    {
      "cell_type": "code",
      "source": [
        "# Membaca file CSV\n",
        "movies1 = pd.read_csv('tmdb_5000_movies.csv')\n",
        "credits = pd.read_csv('tmdb_5000_credits.csv')\n",
        "\n",
        "# Menampilkan 5 baris pertama pada data\n",
        "movies1.head(5)"
      ],
      "metadata": {
        "colab": {
          "base_uri": "https://localhost:8080/",
          "height": 730
        },
        "id": "bZxX5XwkTZ-s",
        "outputId": "6e2c4c65-6e0f-489b-cb0b-6da9bcfb88df"
      },
      "execution_count": null,
      "outputs": [
        {
          "output_type": "execute_result",
          "data": {
            "text/plain": [
              "      budget                                             genres  \\\n",
              "0  237000000  [{\"id\": 28, \"name\": \"Action\"}, {\"id\": 12, \"nam...   \n",
              "1  300000000  [{\"id\": 12, \"name\": \"Adventure\"}, {\"id\": 14, \"...   \n",
              "2  245000000  [{\"id\": 28, \"name\": \"Action\"}, {\"id\": 12, \"nam...   \n",
              "3  250000000  [{\"id\": 28, \"name\": \"Action\"}, {\"id\": 80, \"nam...   \n",
              "4  260000000  [{\"id\": 28, \"name\": \"Action\"}, {\"id\": 12, \"nam...   \n",
              "\n",
              "                                       homepage      id  \\\n",
              "0                   http://www.avatarmovie.com/   19995   \n",
              "1  http://disney.go.com/disneypictures/pirates/     285   \n",
              "2   http://www.sonypictures.com/movies/spectre/  206647   \n",
              "3            http://www.thedarkknightrises.com/   49026   \n",
              "4          http://movies.disney.com/john-carter   49529   \n",
              "\n",
              "                                            keywords original_language  \\\n",
              "0  [{\"id\": 1463, \"name\": \"culture clash\"}, {\"id\":...                en   \n",
              "1  [{\"id\": 270, \"name\": \"ocean\"}, {\"id\": 726, \"na...                en   \n",
              "2  [{\"id\": 470, \"name\": \"spy\"}, {\"id\": 818, \"name...                en   \n",
              "3  [{\"id\": 849, \"name\": \"dc comics\"}, {\"id\": 853,...                en   \n",
              "4  [{\"id\": 818, \"name\": \"based on novel\"}, {\"id\":...                en   \n",
              "\n",
              "                             original_title  \\\n",
              "0                                    Avatar   \n",
              "1  Pirates of the Caribbean: At World's End   \n",
              "2                                   Spectre   \n",
              "3                     The Dark Knight Rises   \n",
              "4                               John Carter   \n",
              "\n",
              "                                            overview  popularity  \\\n",
              "0  In the 22nd century, a paraplegic Marine is di...  150.437577   \n",
              "1  Captain Barbossa, long believed to be dead, ha...  139.082615   \n",
              "2  A cryptic message from Bond’s past sends him o...  107.376788   \n",
              "3  Following the death of District Attorney Harve...  112.312950   \n",
              "4  John Carter is a war-weary, former military ca...   43.926995   \n",
              "\n",
              "                                production_companies  \\\n",
              "0  [{\"name\": \"Ingenious Film Partners\", \"id\": 289...   \n",
              "1  [{\"name\": \"Walt Disney Pictures\", \"id\": 2}, {\"...   \n",
              "2  [{\"name\": \"Columbia Pictures\", \"id\": 5}, {\"nam...   \n",
              "3  [{\"name\": \"Legendary Pictures\", \"id\": 923}, {\"...   \n",
              "4        [{\"name\": \"Walt Disney Pictures\", \"id\": 2}]   \n",
              "\n",
              "                                production_countries release_date     revenue  \\\n",
              "0  [{\"iso_3166_1\": \"US\", \"name\": \"United States o...   2009-12-10  2787965087   \n",
              "1  [{\"iso_3166_1\": \"US\", \"name\": \"United States o...   2007-05-19   961000000   \n",
              "2  [{\"iso_3166_1\": \"GB\", \"name\": \"United Kingdom\"...   2015-10-26   880674609   \n",
              "3  [{\"iso_3166_1\": \"US\", \"name\": \"United States o...   2012-07-16  1084939099   \n",
              "4  [{\"iso_3166_1\": \"US\", \"name\": \"United States o...   2012-03-07   284139100   \n",
              "\n",
              "   runtime                                   spoken_languages    status  \\\n",
              "0    162.0  [{\"iso_639_1\": \"en\", \"name\": \"English\"}, {\"iso...  Released   \n",
              "1    169.0           [{\"iso_639_1\": \"en\", \"name\": \"English\"}]  Released   \n",
              "2    148.0  [{\"iso_639_1\": \"fr\", \"name\": \"Fran\\u00e7ais\"},...  Released   \n",
              "3    165.0           [{\"iso_639_1\": \"en\", \"name\": \"English\"}]  Released   \n",
              "4    132.0           [{\"iso_639_1\": \"en\", \"name\": \"English\"}]  Released   \n",
              "\n",
              "                                          tagline  \\\n",
              "0                     Enter the World of Pandora.   \n",
              "1  At the end of the world, the adventure begins.   \n",
              "2                           A Plan No One Escapes   \n",
              "3                                 The Legend Ends   \n",
              "4            Lost in our world, found in another.   \n",
              "\n",
              "                                      title  vote_average  vote_count  \n",
              "0                                    Avatar           7.2       11800  \n",
              "1  Pirates of the Caribbean: At World's End           6.9        4500  \n",
              "2                                   Spectre           6.3        4466  \n",
              "3                     The Dark Knight Rises           7.6        9106  \n",
              "4                               John Carter           6.1        2124  "
            ],
            "text/html": [
              "\n",
              "  <div id=\"df-790eb6e4-d3e6-4260-8fc7-d5f1f32b859a\" class=\"colab-df-container\">\n",
              "    <div>\n",
              "<style scoped>\n",
              "    .dataframe tbody tr th:only-of-type {\n",
              "        vertical-align: middle;\n",
              "    }\n",
              "\n",
              "    .dataframe tbody tr th {\n",
              "        vertical-align: top;\n",
              "    }\n",
              "\n",
              "    .dataframe thead th {\n",
              "        text-align: right;\n",
              "    }\n",
              "</style>\n",
              "<table border=\"1\" class=\"dataframe\">\n",
              "  <thead>\n",
              "    <tr style=\"text-align: right;\">\n",
              "      <th></th>\n",
              "      <th>budget</th>\n",
              "      <th>genres</th>\n",
              "      <th>homepage</th>\n",
              "      <th>id</th>\n",
              "      <th>keywords</th>\n",
              "      <th>original_language</th>\n",
              "      <th>original_title</th>\n",
              "      <th>overview</th>\n",
              "      <th>popularity</th>\n",
              "      <th>production_companies</th>\n",
              "      <th>production_countries</th>\n",
              "      <th>release_date</th>\n",
              "      <th>revenue</th>\n",
              "      <th>runtime</th>\n",
              "      <th>spoken_languages</th>\n",
              "      <th>status</th>\n",
              "      <th>tagline</th>\n",
              "      <th>title</th>\n",
              "      <th>vote_average</th>\n",
              "      <th>vote_count</th>\n",
              "    </tr>\n",
              "  </thead>\n",
              "  <tbody>\n",
              "    <tr>\n",
              "      <th>0</th>\n",
              "      <td>237000000</td>\n",
              "      <td>[{\"id\": 28, \"name\": \"Action\"}, {\"id\": 12, \"nam...</td>\n",
              "      <td>http://www.avatarmovie.com/</td>\n",
              "      <td>19995</td>\n",
              "      <td>[{\"id\": 1463, \"name\": \"culture clash\"}, {\"id\":...</td>\n",
              "      <td>en</td>\n",
              "      <td>Avatar</td>\n",
              "      <td>In the 22nd century, a paraplegic Marine is di...</td>\n",
              "      <td>150.437577</td>\n",
              "      <td>[{\"name\": \"Ingenious Film Partners\", \"id\": 289...</td>\n",
              "      <td>[{\"iso_3166_1\": \"US\", \"name\": \"United States o...</td>\n",
              "      <td>2009-12-10</td>\n",
              "      <td>2787965087</td>\n",
              "      <td>162.0</td>\n",
              "      <td>[{\"iso_639_1\": \"en\", \"name\": \"English\"}, {\"iso...</td>\n",
              "      <td>Released</td>\n",
              "      <td>Enter the World of Pandora.</td>\n",
              "      <td>Avatar</td>\n",
              "      <td>7.2</td>\n",
              "      <td>11800</td>\n",
              "    </tr>\n",
              "    <tr>\n",
              "      <th>1</th>\n",
              "      <td>300000000</td>\n",
              "      <td>[{\"id\": 12, \"name\": \"Adventure\"}, {\"id\": 14, \"...</td>\n",
              "      <td>http://disney.go.com/disneypictures/pirates/</td>\n",
              "      <td>285</td>\n",
              "      <td>[{\"id\": 270, \"name\": \"ocean\"}, {\"id\": 726, \"na...</td>\n",
              "      <td>en</td>\n",
              "      <td>Pirates of the Caribbean: At World's End</td>\n",
              "      <td>Captain Barbossa, long believed to be dead, ha...</td>\n",
              "      <td>139.082615</td>\n",
              "      <td>[{\"name\": \"Walt Disney Pictures\", \"id\": 2}, {\"...</td>\n",
              "      <td>[{\"iso_3166_1\": \"US\", \"name\": \"United States o...</td>\n",
              "      <td>2007-05-19</td>\n",
              "      <td>961000000</td>\n",
              "      <td>169.0</td>\n",
              "      <td>[{\"iso_639_1\": \"en\", \"name\": \"English\"}]</td>\n",
              "      <td>Released</td>\n",
              "      <td>At the end of the world, the adventure begins.</td>\n",
              "      <td>Pirates of the Caribbean: At World's End</td>\n",
              "      <td>6.9</td>\n",
              "      <td>4500</td>\n",
              "    </tr>\n",
              "    <tr>\n",
              "      <th>2</th>\n",
              "      <td>245000000</td>\n",
              "      <td>[{\"id\": 28, \"name\": \"Action\"}, {\"id\": 12, \"nam...</td>\n",
              "      <td>http://www.sonypictures.com/movies/spectre/</td>\n",
              "      <td>206647</td>\n",
              "      <td>[{\"id\": 470, \"name\": \"spy\"}, {\"id\": 818, \"name...</td>\n",
              "      <td>en</td>\n",
              "      <td>Spectre</td>\n",
              "      <td>A cryptic message from Bond’s past sends him o...</td>\n",
              "      <td>107.376788</td>\n",
              "      <td>[{\"name\": \"Columbia Pictures\", \"id\": 5}, {\"nam...</td>\n",
              "      <td>[{\"iso_3166_1\": \"GB\", \"name\": \"United Kingdom\"...</td>\n",
              "      <td>2015-10-26</td>\n",
              "      <td>880674609</td>\n",
              "      <td>148.0</td>\n",
              "      <td>[{\"iso_639_1\": \"fr\", \"name\": \"Fran\\u00e7ais\"},...</td>\n",
              "      <td>Released</td>\n",
              "      <td>A Plan No One Escapes</td>\n",
              "      <td>Spectre</td>\n",
              "      <td>6.3</td>\n",
              "      <td>4466</td>\n",
              "    </tr>\n",
              "    <tr>\n",
              "      <th>3</th>\n",
              "      <td>250000000</td>\n",
              "      <td>[{\"id\": 28, \"name\": \"Action\"}, {\"id\": 80, \"nam...</td>\n",
              "      <td>http://www.thedarkknightrises.com/</td>\n",
              "      <td>49026</td>\n",
              "      <td>[{\"id\": 849, \"name\": \"dc comics\"}, {\"id\": 853,...</td>\n",
              "      <td>en</td>\n",
              "      <td>The Dark Knight Rises</td>\n",
              "      <td>Following the death of District Attorney Harve...</td>\n",
              "      <td>112.312950</td>\n",
              "      <td>[{\"name\": \"Legendary Pictures\", \"id\": 923}, {\"...</td>\n",
              "      <td>[{\"iso_3166_1\": \"US\", \"name\": \"United States o...</td>\n",
              "      <td>2012-07-16</td>\n",
              "      <td>1084939099</td>\n",
              "      <td>165.0</td>\n",
              "      <td>[{\"iso_639_1\": \"en\", \"name\": \"English\"}]</td>\n",
              "      <td>Released</td>\n",
              "      <td>The Legend Ends</td>\n",
              "      <td>The Dark Knight Rises</td>\n",
              "      <td>7.6</td>\n",
              "      <td>9106</td>\n",
              "    </tr>\n",
              "    <tr>\n",
              "      <th>4</th>\n",
              "      <td>260000000</td>\n",
              "      <td>[{\"id\": 28, \"name\": \"Action\"}, {\"id\": 12, \"nam...</td>\n",
              "      <td>http://movies.disney.com/john-carter</td>\n",
              "      <td>49529</td>\n",
              "      <td>[{\"id\": 818, \"name\": \"based on novel\"}, {\"id\":...</td>\n",
              "      <td>en</td>\n",
              "      <td>John Carter</td>\n",
              "      <td>John Carter is a war-weary, former military ca...</td>\n",
              "      <td>43.926995</td>\n",
              "      <td>[{\"name\": \"Walt Disney Pictures\", \"id\": 2}]</td>\n",
              "      <td>[{\"iso_3166_1\": \"US\", \"name\": \"United States o...</td>\n",
              "      <td>2012-03-07</td>\n",
              "      <td>284139100</td>\n",
              "      <td>132.0</td>\n",
              "      <td>[{\"iso_639_1\": \"en\", \"name\": \"English\"}]</td>\n",
              "      <td>Released</td>\n",
              "      <td>Lost in our world, found in another.</td>\n",
              "      <td>John Carter</td>\n",
              "      <td>6.1</td>\n",
              "      <td>2124</td>\n",
              "    </tr>\n",
              "  </tbody>\n",
              "</table>\n",
              "</div>\n",
              "    <div class=\"colab-df-buttons\">\n",
              "\n",
              "  <div class=\"colab-df-container\">\n",
              "    <button class=\"colab-df-convert\" onclick=\"convertToInteractive('df-790eb6e4-d3e6-4260-8fc7-d5f1f32b859a')\"\n",
              "            title=\"Convert this dataframe to an interactive table.\"\n",
              "            style=\"display:none;\">\n",
              "\n",
              "  <svg xmlns=\"http://www.w3.org/2000/svg\" height=\"24px\" viewBox=\"0 -960 960 960\">\n",
              "    <path d=\"M120-120v-720h720v720H120Zm60-500h600v-160H180v160Zm220 220h160v-160H400v160Zm0 220h160v-160H400v160ZM180-400h160v-160H180v160Zm440 0h160v-160H620v160ZM180-180h160v-160H180v160Zm440 0h160v-160H620v160Z\"/>\n",
              "  </svg>\n",
              "    </button>\n",
              "\n",
              "  <style>\n",
              "    .colab-df-container {\n",
              "      display:flex;\n",
              "      gap: 12px;\n",
              "    }\n",
              "\n",
              "    .colab-df-convert {\n",
              "      background-color: #E8F0FE;\n",
              "      border: none;\n",
              "      border-radius: 50%;\n",
              "      cursor: pointer;\n",
              "      display: none;\n",
              "      fill: #1967D2;\n",
              "      height: 32px;\n",
              "      padding: 0 0 0 0;\n",
              "      width: 32px;\n",
              "    }\n",
              "\n",
              "    .colab-df-convert:hover {\n",
              "      background-color: #E2EBFA;\n",
              "      box-shadow: 0px 1px 2px rgba(60, 64, 67, 0.3), 0px 1px 3px 1px rgba(60, 64, 67, 0.15);\n",
              "      fill: #174EA6;\n",
              "    }\n",
              "\n",
              "    .colab-df-buttons div {\n",
              "      margin-bottom: 4px;\n",
              "    }\n",
              "\n",
              "    [theme=dark] .colab-df-convert {\n",
              "      background-color: #3B4455;\n",
              "      fill: #D2E3FC;\n",
              "    }\n",
              "\n",
              "    [theme=dark] .colab-df-convert:hover {\n",
              "      background-color: #434B5C;\n",
              "      box-shadow: 0px 1px 3px 1px rgba(0, 0, 0, 0.15);\n",
              "      filter: drop-shadow(0px 1px 2px rgba(0, 0, 0, 0.3));\n",
              "      fill: #FFFFFF;\n",
              "    }\n",
              "  </style>\n",
              "\n",
              "    <script>\n",
              "      const buttonEl =\n",
              "        document.querySelector('#df-790eb6e4-d3e6-4260-8fc7-d5f1f32b859a button.colab-df-convert');\n",
              "      buttonEl.style.display =\n",
              "        google.colab.kernel.accessAllowed ? 'block' : 'none';\n",
              "\n",
              "      async function convertToInteractive(key) {\n",
              "        const element = document.querySelector('#df-790eb6e4-d3e6-4260-8fc7-d5f1f32b859a');\n",
              "        const dataTable =\n",
              "          await google.colab.kernel.invokeFunction('convertToInteractive',\n",
              "                                                    [key], {});\n",
              "        if (!dataTable) return;\n",
              "\n",
              "        const docLinkHtml = 'Like what you see? Visit the ' +\n",
              "          '<a target=\"_blank\" href=https://colab.research.google.com/notebooks/data_table.ipynb>data table notebook</a>'\n",
              "          + ' to learn more about interactive tables.';\n",
              "        element.innerHTML = '';\n",
              "        dataTable['output_type'] = 'display_data';\n",
              "        await google.colab.output.renderOutput(dataTable, element);\n",
              "        const docLink = document.createElement('div');\n",
              "        docLink.innerHTML = docLinkHtml;\n",
              "        element.appendChild(docLink);\n",
              "      }\n",
              "    </script>\n",
              "  </div>\n",
              "\n",
              "\n",
              "<div id=\"df-345cc6ed-8f4c-4db3-ba83-e50235294314\">\n",
              "  <button class=\"colab-df-quickchart\" onclick=\"quickchart('df-345cc6ed-8f4c-4db3-ba83-e50235294314')\"\n",
              "            title=\"Suggest charts\"\n",
              "            style=\"display:none;\">\n",
              "\n",
              "<svg xmlns=\"http://www.w3.org/2000/svg\" height=\"24px\"viewBox=\"0 0 24 24\"\n",
              "     width=\"24px\">\n",
              "    <g>\n",
              "        <path d=\"M19 3H5c-1.1 0-2 .9-2 2v14c0 1.1.9 2 2 2h14c1.1 0 2-.9 2-2V5c0-1.1-.9-2-2-2zM9 17H7v-7h2v7zm4 0h-2V7h2v10zm4 0h-2v-4h2v4z\"/>\n",
              "    </g>\n",
              "</svg>\n",
              "  </button>\n",
              "\n",
              "<style>\n",
              "  .colab-df-quickchart {\n",
              "      --bg-color: #E8F0FE;\n",
              "      --fill-color: #1967D2;\n",
              "      --hover-bg-color: #E2EBFA;\n",
              "      --hover-fill-color: #174EA6;\n",
              "      --disabled-fill-color: #AAA;\n",
              "      --disabled-bg-color: #DDD;\n",
              "  }\n",
              "\n",
              "  [theme=dark] .colab-df-quickchart {\n",
              "      --bg-color: #3B4455;\n",
              "      --fill-color: #D2E3FC;\n",
              "      --hover-bg-color: #434B5C;\n",
              "      --hover-fill-color: #FFFFFF;\n",
              "      --disabled-bg-color: #3B4455;\n",
              "      --disabled-fill-color: #666;\n",
              "  }\n",
              "\n",
              "  .colab-df-quickchart {\n",
              "    background-color: var(--bg-color);\n",
              "    border: none;\n",
              "    border-radius: 50%;\n",
              "    cursor: pointer;\n",
              "    display: none;\n",
              "    fill: var(--fill-color);\n",
              "    height: 32px;\n",
              "    padding: 0;\n",
              "    width: 32px;\n",
              "  }\n",
              "\n",
              "  .colab-df-quickchart:hover {\n",
              "    background-color: var(--hover-bg-color);\n",
              "    box-shadow: 0 1px 2px rgba(60, 64, 67, 0.3), 0 1px 3px 1px rgba(60, 64, 67, 0.15);\n",
              "    fill: var(--button-hover-fill-color);\n",
              "  }\n",
              "\n",
              "  .colab-df-quickchart-complete:disabled,\n",
              "  .colab-df-quickchart-complete:disabled:hover {\n",
              "    background-color: var(--disabled-bg-color);\n",
              "    fill: var(--disabled-fill-color);\n",
              "    box-shadow: none;\n",
              "  }\n",
              "\n",
              "  .colab-df-spinner {\n",
              "    border: 2px solid var(--fill-color);\n",
              "    border-color: transparent;\n",
              "    border-bottom-color: var(--fill-color);\n",
              "    animation:\n",
              "      spin 1s steps(1) infinite;\n",
              "  }\n",
              "\n",
              "  @keyframes spin {\n",
              "    0% {\n",
              "      border-color: transparent;\n",
              "      border-bottom-color: var(--fill-color);\n",
              "      border-left-color: var(--fill-color);\n",
              "    }\n",
              "    20% {\n",
              "      border-color: transparent;\n",
              "      border-left-color: var(--fill-color);\n",
              "      border-top-color: var(--fill-color);\n",
              "    }\n",
              "    30% {\n",
              "      border-color: transparent;\n",
              "      border-left-color: var(--fill-color);\n",
              "      border-top-color: var(--fill-color);\n",
              "      border-right-color: var(--fill-color);\n",
              "    }\n",
              "    40% {\n",
              "      border-color: transparent;\n",
              "      border-right-color: var(--fill-color);\n",
              "      border-top-color: var(--fill-color);\n",
              "    }\n",
              "    60% {\n",
              "      border-color: transparent;\n",
              "      border-right-color: var(--fill-color);\n",
              "    }\n",
              "    80% {\n",
              "      border-color: transparent;\n",
              "      border-right-color: var(--fill-color);\n",
              "      border-bottom-color: var(--fill-color);\n",
              "    }\n",
              "    90% {\n",
              "      border-color: transparent;\n",
              "      border-bottom-color: var(--fill-color);\n",
              "    }\n",
              "  }\n",
              "</style>\n",
              "\n",
              "  <script>\n",
              "    async function quickchart(key) {\n",
              "      const quickchartButtonEl =\n",
              "        document.querySelector('#' + key + ' button');\n",
              "      quickchartButtonEl.disabled = true;  // To prevent multiple clicks.\n",
              "      quickchartButtonEl.classList.add('colab-df-spinner');\n",
              "      try {\n",
              "        const charts = await google.colab.kernel.invokeFunction(\n",
              "            'suggestCharts', [key], {});\n",
              "      } catch (error) {\n",
              "        console.error('Error during call to suggestCharts:', error);\n",
              "      }\n",
              "      quickchartButtonEl.classList.remove('colab-df-spinner');\n",
              "      quickchartButtonEl.classList.add('colab-df-quickchart-complete');\n",
              "    }\n",
              "    (() => {\n",
              "      let quickchartButtonEl =\n",
              "        document.querySelector('#df-345cc6ed-8f4c-4db3-ba83-e50235294314 button');\n",
              "      quickchartButtonEl.style.display =\n",
              "        google.colab.kernel.accessAllowed ? 'block' : 'none';\n",
              "    })();\n",
              "  </script>\n",
              "</div>\n",
              "    </div>\n",
              "  </div>\n"
            ],
            "application/vnd.google.colaboratory.intrinsic+json": {
              "type": "dataframe",
              "variable_name": "movies1",
              "repr_error": "'str' object has no attribute 'empty'"
            }
          },
          "metadata": {},
          "execution_count": 24
        }
      ]
    },
    {
      "cell_type": "code",
      "source": [
        "# Menggabungkan dua DataFrame yang disebut movies1 dan credits berdasarkan kolom 'title'\n",
        "movies = movies1.merge(credits, on='title')\n",
        "# Menampilkan lima baris pertama dari DataFrame movies yang telah digabungkan\n",
        "movies.head(5)"
      ],
      "metadata": {
        "colab": {
          "base_uri": "https://localhost:8080/",
          "height": 759
        },
        "id": "8XIIZKT3TZ7Q",
        "outputId": "55b851b7-bdf1-406e-a2b3-b30db7ec2bdd"
      },
      "execution_count": null,
      "outputs": [
        {
          "output_type": "execute_result",
          "data": {
            "text/plain": [
              "      budget                                             genres  \\\n",
              "0  237000000  [{\"id\": 28, \"name\": \"Action\"}, {\"id\": 12, \"nam...   \n",
              "1  300000000  [{\"id\": 12, \"name\": \"Adventure\"}, {\"id\": 14, \"...   \n",
              "2  245000000  [{\"id\": 28, \"name\": \"Action\"}, {\"id\": 12, \"nam...   \n",
              "3  250000000  [{\"id\": 28, \"name\": \"Action\"}, {\"id\": 80, \"nam...   \n",
              "4  260000000  [{\"id\": 28, \"name\": \"Action\"}, {\"id\": 12, \"nam...   \n",
              "\n",
              "                                       homepage      id  \\\n",
              "0                   http://www.avatarmovie.com/   19995   \n",
              "1  http://disney.go.com/disneypictures/pirates/     285   \n",
              "2   http://www.sonypictures.com/movies/spectre/  206647   \n",
              "3            http://www.thedarkknightrises.com/   49026   \n",
              "4          http://movies.disney.com/john-carter   49529   \n",
              "\n",
              "                                            keywords original_language  \\\n",
              "0  [{\"id\": 1463, \"name\": \"culture clash\"}, {\"id\":...                en   \n",
              "1  [{\"id\": 270, \"name\": \"ocean\"}, {\"id\": 726, \"na...                en   \n",
              "2  [{\"id\": 470, \"name\": \"spy\"}, {\"id\": 818, \"name...                en   \n",
              "3  [{\"id\": 849, \"name\": \"dc comics\"}, {\"id\": 853,...                en   \n",
              "4  [{\"id\": 818, \"name\": \"based on novel\"}, {\"id\":...                en   \n",
              "\n",
              "                             original_title  \\\n",
              "0                                    Avatar   \n",
              "1  Pirates of the Caribbean: At World's End   \n",
              "2                                   Spectre   \n",
              "3                     The Dark Knight Rises   \n",
              "4                               John Carter   \n",
              "\n",
              "                                            overview  popularity  \\\n",
              "0  In the 22nd century, a paraplegic Marine is di...  150.437577   \n",
              "1  Captain Barbossa, long believed to be dead, ha...  139.082615   \n",
              "2  A cryptic message from Bond’s past sends him o...  107.376788   \n",
              "3  Following the death of District Attorney Harve...  112.312950   \n",
              "4  John Carter is a war-weary, former military ca...   43.926995   \n",
              "\n",
              "                                production_companies  ... runtime  \\\n",
              "0  [{\"name\": \"Ingenious Film Partners\", \"id\": 289...  ...   162.0   \n",
              "1  [{\"name\": \"Walt Disney Pictures\", \"id\": 2}, {\"...  ...   169.0   \n",
              "2  [{\"name\": \"Columbia Pictures\", \"id\": 5}, {\"nam...  ...   148.0   \n",
              "3  [{\"name\": \"Legendary Pictures\", \"id\": 923}, {\"...  ...   165.0   \n",
              "4        [{\"name\": \"Walt Disney Pictures\", \"id\": 2}]  ...   132.0   \n",
              "\n",
              "                                    spoken_languages    status  \\\n",
              "0  [{\"iso_639_1\": \"en\", \"name\": \"English\"}, {\"iso...  Released   \n",
              "1           [{\"iso_639_1\": \"en\", \"name\": \"English\"}]  Released   \n",
              "2  [{\"iso_639_1\": \"fr\", \"name\": \"Fran\\u00e7ais\"},...  Released   \n",
              "3           [{\"iso_639_1\": \"en\", \"name\": \"English\"}]  Released   \n",
              "4           [{\"iso_639_1\": \"en\", \"name\": \"English\"}]  Released   \n",
              "\n",
              "                                          tagline  \\\n",
              "0                     Enter the World of Pandora.   \n",
              "1  At the end of the world, the adventure begins.   \n",
              "2                           A Plan No One Escapes   \n",
              "3                                 The Legend Ends   \n",
              "4            Lost in our world, found in another.   \n",
              "\n",
              "                                      title vote_average vote_count movie_id  \\\n",
              "0                                    Avatar          7.2      11800    19995   \n",
              "1  Pirates of the Caribbean: At World's End          6.9       4500      285   \n",
              "2                                   Spectre          6.3       4466   206647   \n",
              "3                     The Dark Knight Rises          7.6       9106    49026   \n",
              "4                               John Carter          6.1       2124    49529   \n",
              "\n",
              "                                                cast  \\\n",
              "0  [{\"cast_id\": 242, \"character\": \"Jake Sully\", \"...   \n",
              "1  [{\"cast_id\": 4, \"character\": \"Captain Jack Spa...   \n",
              "2  [{\"cast_id\": 1, \"character\": \"James Bond\", \"cr...   \n",
              "3  [{\"cast_id\": 2, \"character\": \"Bruce Wayne / Ba...   \n",
              "4  [{\"cast_id\": 5, \"character\": \"John Carter\", \"c...   \n",
              "\n",
              "                                                crew  \n",
              "0  [{\"credit_id\": \"52fe48009251416c750aca23\", \"de...  \n",
              "1  [{\"credit_id\": \"52fe4232c3a36847f800b579\", \"de...  \n",
              "2  [{\"credit_id\": \"54805967c3a36829b5002c41\", \"de...  \n",
              "3  [{\"credit_id\": \"52fe4781c3a36847f81398c3\", \"de...  \n",
              "4  [{\"credit_id\": \"52fe479ac3a36847f813eaa3\", \"de...  \n",
              "\n",
              "[5 rows x 23 columns]"
            ],
            "text/html": [
              "\n",
              "  <div id=\"df-38ae8e25-6700-49e3-9107-0ef014f5200a\" class=\"colab-df-container\">\n",
              "    <div>\n",
              "<style scoped>\n",
              "    .dataframe tbody tr th:only-of-type {\n",
              "        vertical-align: middle;\n",
              "    }\n",
              "\n",
              "    .dataframe tbody tr th {\n",
              "        vertical-align: top;\n",
              "    }\n",
              "\n",
              "    .dataframe thead th {\n",
              "        text-align: right;\n",
              "    }\n",
              "</style>\n",
              "<table border=\"1\" class=\"dataframe\">\n",
              "  <thead>\n",
              "    <tr style=\"text-align: right;\">\n",
              "      <th></th>\n",
              "      <th>budget</th>\n",
              "      <th>genres</th>\n",
              "      <th>homepage</th>\n",
              "      <th>id</th>\n",
              "      <th>keywords</th>\n",
              "      <th>original_language</th>\n",
              "      <th>original_title</th>\n",
              "      <th>overview</th>\n",
              "      <th>popularity</th>\n",
              "      <th>production_companies</th>\n",
              "      <th>...</th>\n",
              "      <th>runtime</th>\n",
              "      <th>spoken_languages</th>\n",
              "      <th>status</th>\n",
              "      <th>tagline</th>\n",
              "      <th>title</th>\n",
              "      <th>vote_average</th>\n",
              "      <th>vote_count</th>\n",
              "      <th>movie_id</th>\n",
              "      <th>cast</th>\n",
              "      <th>crew</th>\n",
              "    </tr>\n",
              "  </thead>\n",
              "  <tbody>\n",
              "    <tr>\n",
              "      <th>0</th>\n",
              "      <td>237000000</td>\n",
              "      <td>[{\"id\": 28, \"name\": \"Action\"}, {\"id\": 12, \"nam...</td>\n",
              "      <td>http://www.avatarmovie.com/</td>\n",
              "      <td>19995</td>\n",
              "      <td>[{\"id\": 1463, \"name\": \"culture clash\"}, {\"id\":...</td>\n",
              "      <td>en</td>\n",
              "      <td>Avatar</td>\n",
              "      <td>In the 22nd century, a paraplegic Marine is di...</td>\n",
              "      <td>150.437577</td>\n",
              "      <td>[{\"name\": \"Ingenious Film Partners\", \"id\": 289...</td>\n",
              "      <td>...</td>\n",
              "      <td>162.0</td>\n",
              "      <td>[{\"iso_639_1\": \"en\", \"name\": \"English\"}, {\"iso...</td>\n",
              "      <td>Released</td>\n",
              "      <td>Enter the World of Pandora.</td>\n",
              "      <td>Avatar</td>\n",
              "      <td>7.2</td>\n",
              "      <td>11800</td>\n",
              "      <td>19995</td>\n",
              "      <td>[{\"cast_id\": 242, \"character\": \"Jake Sully\", \"...</td>\n",
              "      <td>[{\"credit_id\": \"52fe48009251416c750aca23\", \"de...</td>\n",
              "    </tr>\n",
              "    <tr>\n",
              "      <th>1</th>\n",
              "      <td>300000000</td>\n",
              "      <td>[{\"id\": 12, \"name\": \"Adventure\"}, {\"id\": 14, \"...</td>\n",
              "      <td>http://disney.go.com/disneypictures/pirates/</td>\n",
              "      <td>285</td>\n",
              "      <td>[{\"id\": 270, \"name\": \"ocean\"}, {\"id\": 726, \"na...</td>\n",
              "      <td>en</td>\n",
              "      <td>Pirates of the Caribbean: At World's End</td>\n",
              "      <td>Captain Barbossa, long believed to be dead, ha...</td>\n",
              "      <td>139.082615</td>\n",
              "      <td>[{\"name\": \"Walt Disney Pictures\", \"id\": 2}, {\"...</td>\n",
              "      <td>...</td>\n",
              "      <td>169.0</td>\n",
              "      <td>[{\"iso_639_1\": \"en\", \"name\": \"English\"}]</td>\n",
              "      <td>Released</td>\n",
              "      <td>At the end of the world, the adventure begins.</td>\n",
              "      <td>Pirates of the Caribbean: At World's End</td>\n",
              "      <td>6.9</td>\n",
              "      <td>4500</td>\n",
              "      <td>285</td>\n",
              "      <td>[{\"cast_id\": 4, \"character\": \"Captain Jack Spa...</td>\n",
              "      <td>[{\"credit_id\": \"52fe4232c3a36847f800b579\", \"de...</td>\n",
              "    </tr>\n",
              "    <tr>\n",
              "      <th>2</th>\n",
              "      <td>245000000</td>\n",
              "      <td>[{\"id\": 28, \"name\": \"Action\"}, {\"id\": 12, \"nam...</td>\n",
              "      <td>http://www.sonypictures.com/movies/spectre/</td>\n",
              "      <td>206647</td>\n",
              "      <td>[{\"id\": 470, \"name\": \"spy\"}, {\"id\": 818, \"name...</td>\n",
              "      <td>en</td>\n",
              "      <td>Spectre</td>\n",
              "      <td>A cryptic message from Bond’s past sends him o...</td>\n",
              "      <td>107.376788</td>\n",
              "      <td>[{\"name\": \"Columbia Pictures\", \"id\": 5}, {\"nam...</td>\n",
              "      <td>...</td>\n",
              "      <td>148.0</td>\n",
              "      <td>[{\"iso_639_1\": \"fr\", \"name\": \"Fran\\u00e7ais\"},...</td>\n",
              "      <td>Released</td>\n",
              "      <td>A Plan No One Escapes</td>\n",
              "      <td>Spectre</td>\n",
              "      <td>6.3</td>\n",
              "      <td>4466</td>\n",
              "      <td>206647</td>\n",
              "      <td>[{\"cast_id\": 1, \"character\": \"James Bond\", \"cr...</td>\n",
              "      <td>[{\"credit_id\": \"54805967c3a36829b5002c41\", \"de...</td>\n",
              "    </tr>\n",
              "    <tr>\n",
              "      <th>3</th>\n",
              "      <td>250000000</td>\n",
              "      <td>[{\"id\": 28, \"name\": \"Action\"}, {\"id\": 80, \"nam...</td>\n",
              "      <td>http://www.thedarkknightrises.com/</td>\n",
              "      <td>49026</td>\n",
              "      <td>[{\"id\": 849, \"name\": \"dc comics\"}, {\"id\": 853,...</td>\n",
              "      <td>en</td>\n",
              "      <td>The Dark Knight Rises</td>\n",
              "      <td>Following the death of District Attorney Harve...</td>\n",
              "      <td>112.312950</td>\n",
              "      <td>[{\"name\": \"Legendary Pictures\", \"id\": 923}, {\"...</td>\n",
              "      <td>...</td>\n",
              "      <td>165.0</td>\n",
              "      <td>[{\"iso_639_1\": \"en\", \"name\": \"English\"}]</td>\n",
              "      <td>Released</td>\n",
              "      <td>The Legend Ends</td>\n",
              "      <td>The Dark Knight Rises</td>\n",
              "      <td>7.6</td>\n",
              "      <td>9106</td>\n",
              "      <td>49026</td>\n",
              "      <td>[{\"cast_id\": 2, \"character\": \"Bruce Wayne / Ba...</td>\n",
              "      <td>[{\"credit_id\": \"52fe4781c3a36847f81398c3\", \"de...</td>\n",
              "    </tr>\n",
              "    <tr>\n",
              "      <th>4</th>\n",
              "      <td>260000000</td>\n",
              "      <td>[{\"id\": 28, \"name\": \"Action\"}, {\"id\": 12, \"nam...</td>\n",
              "      <td>http://movies.disney.com/john-carter</td>\n",
              "      <td>49529</td>\n",
              "      <td>[{\"id\": 818, \"name\": \"based on novel\"}, {\"id\":...</td>\n",
              "      <td>en</td>\n",
              "      <td>John Carter</td>\n",
              "      <td>John Carter is a war-weary, former military ca...</td>\n",
              "      <td>43.926995</td>\n",
              "      <td>[{\"name\": \"Walt Disney Pictures\", \"id\": 2}]</td>\n",
              "      <td>...</td>\n",
              "      <td>132.0</td>\n",
              "      <td>[{\"iso_639_1\": \"en\", \"name\": \"English\"}]</td>\n",
              "      <td>Released</td>\n",
              "      <td>Lost in our world, found in another.</td>\n",
              "      <td>John Carter</td>\n",
              "      <td>6.1</td>\n",
              "      <td>2124</td>\n",
              "      <td>49529</td>\n",
              "      <td>[{\"cast_id\": 5, \"character\": \"John Carter\", \"c...</td>\n",
              "      <td>[{\"credit_id\": \"52fe479ac3a36847f813eaa3\", \"de...</td>\n",
              "    </tr>\n",
              "  </tbody>\n",
              "</table>\n",
              "<p>5 rows × 23 columns</p>\n",
              "</div>\n",
              "    <div class=\"colab-df-buttons\">\n",
              "\n",
              "  <div class=\"colab-df-container\">\n",
              "    <button class=\"colab-df-convert\" onclick=\"convertToInteractive('df-38ae8e25-6700-49e3-9107-0ef014f5200a')\"\n",
              "            title=\"Convert this dataframe to an interactive table.\"\n",
              "            style=\"display:none;\">\n",
              "\n",
              "  <svg xmlns=\"http://www.w3.org/2000/svg\" height=\"24px\" viewBox=\"0 -960 960 960\">\n",
              "    <path d=\"M120-120v-720h720v720H120Zm60-500h600v-160H180v160Zm220 220h160v-160H400v160Zm0 220h160v-160H400v160ZM180-400h160v-160H180v160Zm440 0h160v-160H620v160ZM180-180h160v-160H180v160Zm440 0h160v-160H620v160Z\"/>\n",
              "  </svg>\n",
              "    </button>\n",
              "\n",
              "  <style>\n",
              "    .colab-df-container {\n",
              "      display:flex;\n",
              "      gap: 12px;\n",
              "    }\n",
              "\n",
              "    .colab-df-convert {\n",
              "      background-color: #E8F0FE;\n",
              "      border: none;\n",
              "      border-radius: 50%;\n",
              "      cursor: pointer;\n",
              "      display: none;\n",
              "      fill: #1967D2;\n",
              "      height: 32px;\n",
              "      padding: 0 0 0 0;\n",
              "      width: 32px;\n",
              "    }\n",
              "\n",
              "    .colab-df-convert:hover {\n",
              "      background-color: #E2EBFA;\n",
              "      box-shadow: 0px 1px 2px rgba(60, 64, 67, 0.3), 0px 1px 3px 1px rgba(60, 64, 67, 0.15);\n",
              "      fill: #174EA6;\n",
              "    }\n",
              "\n",
              "    .colab-df-buttons div {\n",
              "      margin-bottom: 4px;\n",
              "    }\n",
              "\n",
              "    [theme=dark] .colab-df-convert {\n",
              "      background-color: #3B4455;\n",
              "      fill: #D2E3FC;\n",
              "    }\n",
              "\n",
              "    [theme=dark] .colab-df-convert:hover {\n",
              "      background-color: #434B5C;\n",
              "      box-shadow: 0px 1px 3px 1px rgba(0, 0, 0, 0.15);\n",
              "      filter: drop-shadow(0px 1px 2px rgba(0, 0, 0, 0.3));\n",
              "      fill: #FFFFFF;\n",
              "    }\n",
              "  </style>\n",
              "\n",
              "    <script>\n",
              "      const buttonEl =\n",
              "        document.querySelector('#df-38ae8e25-6700-49e3-9107-0ef014f5200a button.colab-df-convert');\n",
              "      buttonEl.style.display =\n",
              "        google.colab.kernel.accessAllowed ? 'block' : 'none';\n",
              "\n",
              "      async function convertToInteractive(key) {\n",
              "        const element = document.querySelector('#df-38ae8e25-6700-49e3-9107-0ef014f5200a');\n",
              "        const dataTable =\n",
              "          await google.colab.kernel.invokeFunction('convertToInteractive',\n",
              "                                                    [key], {});\n",
              "        if (!dataTable) return;\n",
              "\n",
              "        const docLinkHtml = 'Like what you see? Visit the ' +\n",
              "          '<a target=\"_blank\" href=https://colab.research.google.com/notebooks/data_table.ipynb>data table notebook</a>'\n",
              "          + ' to learn more about interactive tables.';\n",
              "        element.innerHTML = '';\n",
              "        dataTable['output_type'] = 'display_data';\n",
              "        await google.colab.output.renderOutput(dataTable, element);\n",
              "        const docLink = document.createElement('div');\n",
              "        docLink.innerHTML = docLinkHtml;\n",
              "        element.appendChild(docLink);\n",
              "      }\n",
              "    </script>\n",
              "  </div>\n",
              "\n",
              "\n",
              "<div id=\"df-550e8699-0a49-4cfa-be88-40e287b6a5be\">\n",
              "  <button class=\"colab-df-quickchart\" onclick=\"quickchart('df-550e8699-0a49-4cfa-be88-40e287b6a5be')\"\n",
              "            title=\"Suggest charts\"\n",
              "            style=\"display:none;\">\n",
              "\n",
              "<svg xmlns=\"http://www.w3.org/2000/svg\" height=\"24px\"viewBox=\"0 0 24 24\"\n",
              "     width=\"24px\">\n",
              "    <g>\n",
              "        <path d=\"M19 3H5c-1.1 0-2 .9-2 2v14c0 1.1.9 2 2 2h14c1.1 0 2-.9 2-2V5c0-1.1-.9-2-2-2zM9 17H7v-7h2v7zm4 0h-2V7h2v10zm4 0h-2v-4h2v4z\"/>\n",
              "    </g>\n",
              "</svg>\n",
              "  </button>\n",
              "\n",
              "<style>\n",
              "  .colab-df-quickchart {\n",
              "      --bg-color: #E8F0FE;\n",
              "      --fill-color: #1967D2;\n",
              "      --hover-bg-color: #E2EBFA;\n",
              "      --hover-fill-color: #174EA6;\n",
              "      --disabled-fill-color: #AAA;\n",
              "      --disabled-bg-color: #DDD;\n",
              "  }\n",
              "\n",
              "  [theme=dark] .colab-df-quickchart {\n",
              "      --bg-color: #3B4455;\n",
              "      --fill-color: #D2E3FC;\n",
              "      --hover-bg-color: #434B5C;\n",
              "      --hover-fill-color: #FFFFFF;\n",
              "      --disabled-bg-color: #3B4455;\n",
              "      --disabled-fill-color: #666;\n",
              "  }\n",
              "\n",
              "  .colab-df-quickchart {\n",
              "    background-color: var(--bg-color);\n",
              "    border: none;\n",
              "    border-radius: 50%;\n",
              "    cursor: pointer;\n",
              "    display: none;\n",
              "    fill: var(--fill-color);\n",
              "    height: 32px;\n",
              "    padding: 0;\n",
              "    width: 32px;\n",
              "  }\n",
              "\n",
              "  .colab-df-quickchart:hover {\n",
              "    background-color: var(--hover-bg-color);\n",
              "    box-shadow: 0 1px 2px rgba(60, 64, 67, 0.3), 0 1px 3px 1px rgba(60, 64, 67, 0.15);\n",
              "    fill: var(--button-hover-fill-color);\n",
              "  }\n",
              "\n",
              "  .colab-df-quickchart-complete:disabled,\n",
              "  .colab-df-quickchart-complete:disabled:hover {\n",
              "    background-color: var(--disabled-bg-color);\n",
              "    fill: var(--disabled-fill-color);\n",
              "    box-shadow: none;\n",
              "  }\n",
              "\n",
              "  .colab-df-spinner {\n",
              "    border: 2px solid var(--fill-color);\n",
              "    border-color: transparent;\n",
              "    border-bottom-color: var(--fill-color);\n",
              "    animation:\n",
              "      spin 1s steps(1) infinite;\n",
              "  }\n",
              "\n",
              "  @keyframes spin {\n",
              "    0% {\n",
              "      border-color: transparent;\n",
              "      border-bottom-color: var(--fill-color);\n",
              "      border-left-color: var(--fill-color);\n",
              "    }\n",
              "    20% {\n",
              "      border-color: transparent;\n",
              "      border-left-color: var(--fill-color);\n",
              "      border-top-color: var(--fill-color);\n",
              "    }\n",
              "    30% {\n",
              "      border-color: transparent;\n",
              "      border-left-color: var(--fill-color);\n",
              "      border-top-color: var(--fill-color);\n",
              "      border-right-color: var(--fill-color);\n",
              "    }\n",
              "    40% {\n",
              "      border-color: transparent;\n",
              "      border-right-color: var(--fill-color);\n",
              "      border-top-color: var(--fill-color);\n",
              "    }\n",
              "    60% {\n",
              "      border-color: transparent;\n",
              "      border-right-color: var(--fill-color);\n",
              "    }\n",
              "    80% {\n",
              "      border-color: transparent;\n",
              "      border-right-color: var(--fill-color);\n",
              "      border-bottom-color: var(--fill-color);\n",
              "    }\n",
              "    90% {\n",
              "      border-color: transparent;\n",
              "      border-bottom-color: var(--fill-color);\n",
              "    }\n",
              "  }\n",
              "</style>\n",
              "\n",
              "  <script>\n",
              "    async function quickchart(key) {\n",
              "      const quickchartButtonEl =\n",
              "        document.querySelector('#' + key + ' button');\n",
              "      quickchartButtonEl.disabled = true;  // To prevent multiple clicks.\n",
              "      quickchartButtonEl.classList.add('colab-df-spinner');\n",
              "      try {\n",
              "        const charts = await google.colab.kernel.invokeFunction(\n",
              "            'suggestCharts', [key], {});\n",
              "      } catch (error) {\n",
              "        console.error('Error during call to suggestCharts:', error);\n",
              "      }\n",
              "      quickchartButtonEl.classList.remove('colab-df-spinner');\n",
              "      quickchartButtonEl.classList.add('colab-df-quickchart-complete');\n",
              "    }\n",
              "    (() => {\n",
              "      let quickchartButtonEl =\n",
              "        document.querySelector('#df-550e8699-0a49-4cfa-be88-40e287b6a5be button');\n",
              "      quickchartButtonEl.style.display =\n",
              "        google.colab.kernel.accessAllowed ? 'block' : 'none';\n",
              "    })();\n",
              "  </script>\n",
              "</div>\n",
              "    </div>\n",
              "  </div>\n"
            ],
            "application/vnd.google.colaboratory.intrinsic+json": {
              "type": "dataframe",
              "variable_name": "movies"
            }
          },
          "metadata": {},
          "execution_count": 25
        }
      ]
    },
    {
      "cell_type": "markdown",
      "source": [
        "### Start Spark Session"
      ],
      "metadata": {
        "id": "xpF3GWj0mK-6"
      }
    },
    {
      "cell_type": "code",
      "source": [
        "from pyspark.sql import SparkSession\n",
        "\n",
        "# Inisialisasi SparkSession\n",
        "spark = SparkSession.builder \\\n",
        "    .appName(\"Create Spark DataFrame\") \\\n",
        "    .getOrCreate()\n",
        "\n",
        "# Memuat file CSV ke Pandas DataFrames\n",
        "movies1 = pd.read_csv('tmdb_5000_movies.csv')\n",
        "credits = pd.read_csv('tmdb_5000_credits.csv')\n",
        "\n",
        "# Menggabungkan Dataframe pada kolom 'judul'\n",
        "movies = movies1.merge(credits, on='title')\n",
        "\n",
        "# Mengkonversikan Dataframe yang digabungkan menjadi Spark DataFrame\n",
        "df = spark.createDataFrame(movies)\n",
        "\n",
        "# Menampilkan beberapa baris pertama dari Spark DataFrame\n",
        "df.show(20)"
      ],
      "metadata": {
        "colab": {
          "base_uri": "https://localhost:8080/"
        },
        "id": "z7cu3gLJTZ5E",
        "outputId": "3cc9464a-1b6b-467d-c45e-5f2e0250058a"
      },
      "execution_count": null,
      "outputs": [
        {
          "output_type": "stream",
          "name": "stdout",
          "text": [
            "+---------+--------------------+--------------------+------+--------------------+-----------------+--------------------+--------------------+----------+--------------------+--------------------+------------+----------+-------+--------------------+--------+--------------------+--------------------+------------+----------+--------+--------------------+--------------------+\n",
            "|   budget|              genres|            homepage|    id|            keywords|original_language|      original_title|            overview|popularity|production_companies|production_countries|release_date|   revenue|runtime|    spoken_languages|  status|             tagline|               title|vote_average|vote_count|movie_id|                cast|                crew|\n",
            "+---------+--------------------+--------------------+------+--------------------+-----------------+--------------------+--------------------+----------+--------------------+--------------------+------------+----------+-------+--------------------+--------+--------------------+--------------------+------------+----------+--------+--------------------+--------------------+\n",
            "|237000000|[{\"id\": 28, \"name...|http://www.avatar...| 19995|[{\"id\": 1463, \"na...|               en|              Avatar|In the 22nd centu...|150.437577|[{\"name\": \"Ingeni...|[{\"iso_3166_1\": \"...|  2009-12-10|2787965087|  162.0|[{\"iso_639_1\": \"e...|Released|Enter the World o...|              Avatar|         7.2|     11800|   19995|[{\"cast_id\": 242,...|[{\"credit_id\": \"5...|\n",
            "|300000000|[{\"id\": 12, \"name...|http://disney.go....|   285|[{\"id\": 270, \"nam...|               en|Pirates of the Ca...|Captain Barbossa,...|139.082615|[{\"name\": \"Walt D...|[{\"iso_3166_1\": \"...|  2007-05-19| 961000000|  169.0|[{\"iso_639_1\": \"e...|Released|At the end of the...|Pirates of the Ca...|         6.9|      4500|     285|[{\"cast_id\": 4, \"...|[{\"credit_id\": \"5...|\n",
            "|245000000|[{\"id\": 28, \"name...|http://www.sonypi...|206647|[{\"id\": 470, \"nam...|               en|             Spectre|A cryptic message...|107.376788|[{\"name\": \"Columb...|[{\"iso_3166_1\": \"...|  2015-10-26| 880674609|  148.0|[{\"iso_639_1\": \"f...|Released|A Plan No One Esc...|             Spectre|         6.3|      4466|  206647|[{\"cast_id\": 1, \"...|[{\"credit_id\": \"5...|\n",
            "|250000000|[{\"id\": 28, \"name...|http://www.thedar...| 49026|[{\"id\": 849, \"nam...|               en|The Dark Knight R...|Following the dea...| 112.31295|[{\"name\": \"Legend...|[{\"iso_3166_1\": \"...|  2012-07-16|1084939099|  165.0|[{\"iso_639_1\": \"e...|Released|     The Legend Ends|The Dark Knight R...|         7.6|      9106|   49026|[{\"cast_id\": 2, \"...|[{\"credit_id\": \"5...|\n",
            "|260000000|[{\"id\": 28, \"name...|http://movies.dis...| 49529|[{\"id\": 818, \"nam...|               en|         John Carter|John Carter is a ...| 43.926995|[{\"name\": \"Walt D...|[{\"iso_3166_1\": \"...|  2012-03-07| 284139100|  132.0|[{\"iso_639_1\": \"e...|Released|Lost in our world...|         John Carter|         6.1|      2124|   49529|[{\"cast_id\": 5, \"...|[{\"credit_id\": \"5...|\n",
            "|258000000|[{\"id\": 14, \"name...|http://www.sonypi...|   559|[{\"id\": 851, \"nam...|               en|        Spider-Man 3|The seemingly inv...|115.699814|[{\"name\": \"Columb...|[{\"iso_3166_1\": \"...|  2007-05-01| 890871626|  139.0|[{\"iso_639_1\": \"e...|Released|  The battle within.|        Spider-Man 3|         5.9|      3576|     559|[{\"cast_id\": 30, ...|[{\"credit_id\": \"5...|\n",
            "|260000000|[{\"id\": 16, \"name...|http://disney.go....| 38757|[{\"id\": 1562, \"na...|               en|             Tangled|When the kingdom'...| 48.681969|[{\"name\": \"Walt D...|[{\"iso_3166_1\": \"...|  2010-11-24| 591794936|  100.0|[{\"iso_639_1\": \"e...|Released|They're taking ad...|             Tangled|         7.4|      3330|   38757|[{\"cast_id\": 34, ...|[{\"credit_id\": \"5...|\n",
            "|280000000|[{\"id\": 28, \"name...|http://marvel.com...| 99861|[{\"id\": 8828, \"na...|               en|Avengers: Age of ...|When Tony Stark t...|134.279229|[{\"name\": \"Marvel...|[{\"iso_3166_1\": \"...|  2015-04-22|1405403694|  141.0|[{\"iso_639_1\": \"e...|Released| A New Age Has Come.|Avengers: Age of ...|         7.3|      6767|   99861|[{\"cast_id\": 76, ...|[{\"credit_id\": \"5...|\n",
            "|250000000|[{\"id\": 12, \"name...|http://harrypotte...|   767|[{\"id\": 616, \"nam...|               en|Harry Potter and ...|As Harry begins h...| 98.885637|[{\"name\": \"Warner...|[{\"iso_3166_1\": \"...|  2009-07-07| 933959197|  153.0|[{\"iso_639_1\": \"e...|Released|Dark Secrets Reve...|Harry Potter and ...|         7.4|      5293|     767|[{\"cast_id\": 3, \"...|[{\"credit_id\": \"5...|\n",
            "|250000000|[{\"id\": 28, \"name...|http://www.batman...|209112|[{\"id\": 849, \"nam...|               en|Batman v Superman...|Fearing the actio...|155.790452|[{\"name\": \"DC Com...|[{\"iso_3166_1\": \"...|  2016-03-23| 873260194|  151.0|[{\"iso_639_1\": \"e...|Released|  Justice or revenge|Batman v Superman...|         5.7|      7004|  209112|[{\"cast_id\": 18, ...|[{\"credit_id\": \"5...|\n",
            "|270000000|[{\"id\": 12, \"name...|http://www.superm...|  1452|[{\"id\": 83, \"name...|               en|    Superman Returns|Superman returns ...| 57.925623|[{\"name\": \"DC Com...|[{\"iso_3166_1\": \"...|  2006-06-28| 391081192|  154.0|[{\"iso_639_1\": \"e...|Released|                 NaN|    Superman Returns|         5.4|      1400|    1452|[{\"cast_id\": 3, \"...|[{\"credit_id\": \"5...|\n",
            "|200000000|[{\"id\": 12, \"name...|http://www.mgm.co...| 10764|[{\"id\": 627, \"nam...|               en|   Quantum of Solace|Quantum of Solace...|107.928811|[{\"name\": \"Eon Pr...|[{\"iso_3166_1\": \"...|  2008-10-30| 586090727|  106.0|[{\"iso_639_1\": \"e...|Released|For love, for hat...|   Quantum of Solace|         6.1|      2965|   10764|[{\"cast_id\": 1, \"...|[{\"credit_id\": \"5...|\n",
            "|200000000|[{\"id\": 12, \"name...|http://disney.go....|    58|[{\"id\": 616, \"nam...|               en|Pirates of the Ca...|Captain Jack Spar...|145.847379|[{\"name\": \"Walt D...|[{\"iso_3166_1\": \"...|  2006-06-20|1065659812|  151.0|[{\"iso_639_1\": \"e...|Released|       Jack is back!|Pirates of the Ca...|         7.0|      5246|      58|[{\"cast_id\": 37, ...|[{\"credit_id\": \"5...|\n",
            "|255000000|[{\"id\": 28, \"name...|http://disney.go....| 57201|[{\"id\": 1556, \"na...|               en|     The Lone Ranger|The Texas Rangers...| 49.046956|[{\"name\": \"Walt D...|[{\"iso_3166_1\": \"...|  2013-07-03|  89289910|  149.0|[{\"iso_639_1\": \"e...|Released|Never Take Off th...|     The Lone Ranger|         5.9|      2311|   57201|[{\"cast_id\": 4, \"...|[{\"credit_id\": \"5...|\n",
            "|225000000|[{\"id\": 28, \"name...|http://www.manofs...| 49521|[{\"id\": 83, \"name...|               en|        Man of Steel|A young boy learn...| 99.398009|[{\"name\": \"Legend...|[{\"iso_3166_1\": \"...|  2013-06-12| 662845518|  143.0|[{\"iso_639_1\": \"e...|Released|You will believe ...|        Man of Steel|         6.5|      6359|   49521|[{\"cast_id\": 2, \"...|[{\"credit_id\": \"5...|\n",
            "|225000000|[{\"id\": 12, \"name...|                 NaN|  2454|[{\"id\": 818, \"nam...|               en|The Chronicles of...|One year after th...| 53.978602|[{\"name\": \"Walt D...|[{\"iso_3166_1\": \"...|  2008-05-15| 419651413|  150.0|[{\"iso_639_1\": \"e...|Released|Hope has a new face.|The Chronicles of...|         6.3|      1630|    2454|[{\"cast_id\": 1, \"...|[{\"credit_id\": \"5...|\n",
            "|220000000|[{\"id\": 878, \"nam...|http://marvel.com...| 24428|[{\"id\": 242, \"nam...|               en|        The Avengers|When an unexpecte...|144.448633|[{\"name\": \"Paramo...|[{\"iso_3166_1\": \"...|  2012-04-25|1519557910|  143.0|[{\"iso_639_1\": \"e...|Released|Some assembly req...|        The Avengers|         7.4|     11776|   24428|[{\"cast_id\": 46, ...|[{\"credit_id\": \"5...|\n",
            "|380000000|[{\"id\": 12, \"name...|http://disney.go....|  1865|[{\"id\": 658, \"nam...|               en|Pirates of the Ca...|Captain Jack Spar...|135.413856|[{\"name\": \"Walt D...|[{\"iso_3166_1\": \"...|  2011-05-14|1045713802|  136.0|[{\"iso_639_1\": \"e...|Released|Live Forever Or D...|Pirates of the Ca...|         6.4|      4948|    1865|[{\"cast_id\": 15, ...|[{\"credit_id\": \"5...|\n",
            "|225000000|[{\"id\": 28, \"name...|http://www.sonypi...| 41154|[{\"id\": 4379, \"na...|               en|      Men in Black 3|Agents J (Will Sm...| 52.035179|[{\"name\": \"Amblin...|[{\"iso_3166_1\": \"...|  2012-05-23| 624026776|  106.0|[{\"iso_639_1\": \"e...|Released|They are back... ...|      Men in Black 3|         6.2|      4160|   41154|[{\"cast_id\": 4, \"...|[{\"credit_id\": \"5...|\n",
            "|250000000|[{\"id\": 28, \"name...|http://www.thehob...|122917|[{\"id\": 417, \"nam...|               en|The Hobbit: The B...|Immediately after...|120.965743|[{\"name\": \"WingNu...|[{\"iso_3166_1\": \"...|  2014-12-10| 956019788|  144.0|[{\"iso_639_1\": \"e...|Released|Witness the defin...|The Hobbit: The B...|         7.1|      4760|  122917|[{\"cast_id\": 10, ...|[{\"credit_id\": \"5...|\n",
            "+---------+--------------------+--------------------+------+--------------------+-----------------+--------------------+--------------------+----------+--------------------+--------------------+------------+----------+-------+--------------------+--------+--------------------+--------------------+------------+----------+--------+--------------------+--------------------+\n",
            "only showing top 20 rows\n",
            "\n"
          ]
        }
      ]
    },
    {
      "cell_type": "code",
      "source": [
        "# Menampilkan skema dari Data Frame\n",
        "df.printSchema()"
      ],
      "metadata": {
        "colab": {
          "base_uri": "https://localhost:8080/"
        },
        "id": "E-DM5A1gTZ20",
        "outputId": "95fc3399-395e-49d0-8b0d-48443d890b6f"
      },
      "execution_count": null,
      "outputs": [
        {
          "output_type": "stream",
          "name": "stdout",
          "text": [
            "root\n",
            " |-- budget: long (nullable = true)\n",
            " |-- genres: string (nullable = true)\n",
            " |-- homepage: string (nullable = true)\n",
            " |-- id: long (nullable = true)\n",
            " |-- keywords: string (nullable = true)\n",
            " |-- original_language: string (nullable = true)\n",
            " |-- original_title: string (nullable = true)\n",
            " |-- overview: string (nullable = true)\n",
            " |-- popularity: double (nullable = true)\n",
            " |-- production_companies: string (nullable = true)\n",
            " |-- production_countries: string (nullable = true)\n",
            " |-- release_date: string (nullable = true)\n",
            " |-- revenue: long (nullable = true)\n",
            " |-- runtime: double (nullable = true)\n",
            " |-- spoken_languages: string (nullable = true)\n",
            " |-- status: string (nullable = true)\n",
            " |-- tagline: string (nullable = true)\n",
            " |-- title: string (nullable = true)\n",
            " |-- vote_average: double (nullable = true)\n",
            " |-- vote_count: long (nullable = true)\n",
            " |-- movie_id: long (nullable = true)\n",
            " |-- cast: string (nullable = true)\n",
            " |-- crew: string (nullable = true)\n",
            "\n"
          ]
        }
      ]
    },
    {
      "cell_type": "code",
      "source": [
        "# Memeriksa tipe data dari setiap kolom dalam dataframe\n",
        "df.dtypes"
      ],
      "metadata": {
        "colab": {
          "base_uri": "https://localhost:8080/"
        },
        "id": "hJPMpT1rTZ0u",
        "outputId": "561c23a2-eaeb-4f9c-fd4f-a3342c7591ce"
      },
      "execution_count": null,
      "outputs": [
        {
          "output_type": "execute_result",
          "data": {
            "text/plain": [
              "[('budget', 'bigint'),\n",
              " ('genres', 'string'),\n",
              " ('homepage', 'string'),\n",
              " ('id', 'bigint'),\n",
              " ('keywords', 'string'),\n",
              " ('original_language', 'string'),\n",
              " ('original_title', 'string'),\n",
              " ('overview', 'string'),\n",
              " ('popularity', 'double'),\n",
              " ('production_companies', 'string'),\n",
              " ('production_countries', 'string'),\n",
              " ('release_date', 'string'),\n",
              " ('revenue', 'bigint'),\n",
              " ('runtime', 'double'),\n",
              " ('spoken_languages', 'string'),\n",
              " ('status', 'string'),\n",
              " ('tagline', 'string'),\n",
              " ('title', 'string'),\n",
              " ('vote_average', 'double'),\n",
              " ('vote_count', 'bigint'),\n",
              " ('movie_id', 'bigint'),\n",
              " ('cast', 'string'),\n",
              " ('crew', 'string')]"
            ]
          },
          "metadata": {},
          "execution_count": 14
        }
      ]
    },
    {
      "cell_type": "code",
      "source": [
        "# Menghitung jumlah baris yang tidak mengandung nilai null dalam setiap kolom\n",
        "df.count()"
      ],
      "metadata": {
        "colab": {
          "base_uri": "https://localhost:8080/"
        },
        "id": "bMbcqwF8TZyJ",
        "outputId": "07145cdb-750d-49b9-ed69-e162d275fc75"
      },
      "execution_count": null,
      "outputs": [
        {
          "output_type": "execute_result",
          "data": {
            "text/plain": [
              "4809"
            ]
          },
          "metadata": {},
          "execution_count": 15
        }
      ]
    },
    {
      "cell_type": "code",
      "source": [
        "# Menampilkan total jumlah record dalam dataset movie\n",
        "print('The total number of records in the movie dataset is' +str(df.count()))"
      ],
      "metadata": {
        "colab": {
          "base_uri": "https://localhost:8080/"
        },
        "id": "LPWjwM6iTZwD",
        "outputId": "f5b0d0cc-6d3e-45b9-e6d5-69f256a6041d"
      },
      "execution_count": null,
      "outputs": [
        {
          "output_type": "stream",
          "name": "stdout",
          "text": [
            "The total number of records in the movie dataset is4809\n"
          ]
        }
      ]
    },
    {
      "cell_type": "markdown",
      "source": [
        "### Subset Columns and View a Glimpse of Data"
      ],
      "metadata": {
        "id": "WEm4p6xVmUw1"
      }
    },
    {
      "cell_type": "code",
      "source": [
        "# Memilih kolom-kolom yang akan ditampilkan\n",
        "select_columns=['id','budget','popularity','release_date','revenue','title']\n",
        "df=df.select(select_columns)\n",
        "# Menampilkan 20 baris pertama dari dataframe\n",
        "df.show()"
      ],
      "metadata": {
        "colab": {
          "base_uri": "https://localhost:8080/"
        },
        "id": "nZCRV5MdTZt1",
        "outputId": "c2e81c0d-45fa-4393-f147-68c1d850a53c"
      },
      "execution_count": null,
      "outputs": [
        {
          "output_type": "stream",
          "name": "stdout",
          "text": [
            "+------+---------+----------+------------+----------+--------------------+\n",
            "|    id|   budget|popularity|release_date|   revenue|               title|\n",
            "+------+---------+----------+------------+----------+--------------------+\n",
            "| 19995|237000000|150.437577|  2009-12-10|2787965087|              Avatar|\n",
            "|   285|300000000|139.082615|  2007-05-19| 961000000|Pirates of the Ca...|\n",
            "|206647|245000000|107.376788|  2015-10-26| 880674609|             Spectre|\n",
            "| 49026|250000000| 112.31295|  2012-07-16|1084939099|The Dark Knight R...|\n",
            "| 49529|260000000| 43.926995|  2012-03-07| 284139100|         John Carter|\n",
            "|   559|258000000|115.699814|  2007-05-01| 890871626|        Spider-Man 3|\n",
            "| 38757|260000000| 48.681969|  2010-11-24| 591794936|             Tangled|\n",
            "| 99861|280000000|134.279229|  2015-04-22|1405403694|Avengers: Age of ...|\n",
            "|   767|250000000| 98.885637|  2009-07-07| 933959197|Harry Potter and ...|\n",
            "|209112|250000000|155.790452|  2016-03-23| 873260194|Batman v Superman...|\n",
            "|  1452|270000000| 57.925623|  2006-06-28| 391081192|    Superman Returns|\n",
            "| 10764|200000000|107.928811|  2008-10-30| 586090727|   Quantum of Solace|\n",
            "|    58|200000000|145.847379|  2006-06-20|1065659812|Pirates of the Ca...|\n",
            "| 57201|255000000| 49.046956|  2013-07-03|  89289910|     The Lone Ranger|\n",
            "| 49521|225000000| 99.398009|  2013-06-12| 662845518|        Man of Steel|\n",
            "|  2454|225000000| 53.978602|  2008-05-15| 419651413|The Chronicles of...|\n",
            "| 24428|220000000|144.448633|  2012-04-25|1519557910|        The Avengers|\n",
            "|  1865|380000000|135.413856|  2011-05-14|1045713802|Pirates of the Ca...|\n",
            "| 41154|225000000| 52.035179|  2012-05-23| 624026776|      Men in Black 3|\n",
            "|122917|250000000|120.965743|  2014-12-10| 956019788|The Hobbit: The B...|\n",
            "+------+---------+----------+------------+----------+--------------------+\n",
            "only showing top 20 rows\n",
            "\n"
          ]
        }
      ]
    },
    {
      "cell_type": "code",
      "source": [
        "# Menampilkan kolom yang dipilih dari data frame\n",
        "df.select('id','budget','popularity','release_date','revenue','title').show()"
      ],
      "metadata": {
        "colab": {
          "base_uri": "https://localhost:8080/"
        },
        "id": "FpL64JnsTZrU",
        "outputId": "52eb2608-50c8-4e21-f524-1553d810d745"
      },
      "execution_count": null,
      "outputs": [
        {
          "output_type": "stream",
          "name": "stdout",
          "text": [
            "+------+---------+----------+------------+----------+--------------------+\n",
            "|    id|   budget|popularity|release_date|   revenue|               title|\n",
            "+------+---------+----------+------------+----------+--------------------+\n",
            "| 19995|237000000|150.437577|  2009-12-10|2787965087|              Avatar|\n",
            "|   285|300000000|139.082615|  2007-05-19| 961000000|Pirates of the Ca...|\n",
            "|206647|245000000|107.376788|  2015-10-26| 880674609|             Spectre|\n",
            "| 49026|250000000| 112.31295|  2012-07-16|1084939099|The Dark Knight R...|\n",
            "| 49529|260000000| 43.926995|  2012-03-07| 284139100|         John Carter|\n",
            "|   559|258000000|115.699814|  2007-05-01| 890871626|        Spider-Man 3|\n",
            "| 38757|260000000| 48.681969|  2010-11-24| 591794936|             Tangled|\n",
            "| 99861|280000000|134.279229|  2015-04-22|1405403694|Avengers: Age of ...|\n",
            "|   767|250000000| 98.885637|  2009-07-07| 933959197|Harry Potter and ...|\n",
            "|209112|250000000|155.790452|  2016-03-23| 873260194|Batman v Superman...|\n",
            "|  1452|270000000| 57.925623|  2006-06-28| 391081192|    Superman Returns|\n",
            "| 10764|200000000|107.928811|  2008-10-30| 586090727|   Quantum of Solace|\n",
            "|    58|200000000|145.847379|  2006-06-20|1065659812|Pirates of the Ca...|\n",
            "| 57201|255000000| 49.046956|  2013-07-03|  89289910|     The Lone Ranger|\n",
            "| 49521|225000000| 99.398009|  2013-06-12| 662845518|        Man of Steel|\n",
            "|  2454|225000000| 53.978602|  2008-05-15| 419651413|The Chronicles of...|\n",
            "| 24428|220000000|144.448633|  2012-04-25|1519557910|        The Avengers|\n",
            "|  1865|380000000|135.413856|  2011-05-14|1045713802|Pirates of the Ca...|\n",
            "| 41154|225000000| 52.035179|  2012-05-23| 624026776|      Men in Black 3|\n",
            "|122917|250000000|120.965743|  2014-12-10| 956019788|The Hobbit: The B...|\n",
            "+------+---------+----------+------------+----------+--------------------+\n",
            "only showing top 20 rows\n",
            "\n"
          ]
        }
      ]
    },
    {
      "cell_type": "code",
      "source": [
        "# Menampilkan kolom kedua(popularity) dari data frame\n",
        "df.select(df[2]).show()"
      ],
      "metadata": {
        "colab": {
          "base_uri": "https://localhost:8080/"
        },
        "id": "bICH8DD0TZpC",
        "outputId": "1773d66e-050f-4d1d-883a-bb8d2c9a8c7d"
      },
      "execution_count": null,
      "outputs": [
        {
          "output_type": "stream",
          "name": "stdout",
          "text": [
            "+----------+\n",
            "|popularity|\n",
            "+----------+\n",
            "|150.437577|\n",
            "|139.082615|\n",
            "|107.376788|\n",
            "| 112.31295|\n",
            "| 43.926995|\n",
            "|115.699814|\n",
            "| 48.681969|\n",
            "|134.279229|\n",
            "| 98.885637|\n",
            "|155.790452|\n",
            "| 57.925623|\n",
            "|107.928811|\n",
            "|145.847379|\n",
            "| 49.046956|\n",
            "| 99.398009|\n",
            "| 53.978602|\n",
            "|144.448633|\n",
            "|135.413856|\n",
            "| 52.035179|\n",
            "|120.965743|\n",
            "+----------+\n",
            "only showing top 20 rows\n",
            "\n"
          ]
        }
      ]
    },
    {
      "cell_type": "code",
      "source": [
        "# Menampilkan 25 baris pertama dari dataframe\n",
        "df.show(25, False)"
      ],
      "metadata": {
        "colab": {
          "base_uri": "https://localhost:8080/"
        },
        "id": "SvzHHs5ITZmU",
        "outputId": "35d153e2-cbd7-49a3-af20-966812a22f18"
      },
      "execution_count": null,
      "outputs": [
        {
          "output_type": "stream",
          "name": "stdout",
          "text": [
            "+------+---------+----------+------------+----------+-------------------------------------------+\n",
            "|id    |budget   |popularity|release_date|revenue   |title                                      |\n",
            "+------+---------+----------+------------+----------+-------------------------------------------+\n",
            "|19995 |237000000|150.437577|2009-12-10  |2787965087|Avatar                                     |\n",
            "|285   |300000000|139.082615|2007-05-19  |961000000 |Pirates of the Caribbean: At World's End   |\n",
            "|206647|245000000|107.376788|2015-10-26  |880674609 |Spectre                                    |\n",
            "|49026 |250000000|112.31295 |2012-07-16  |1084939099|The Dark Knight Rises                      |\n",
            "|49529 |260000000|43.926995 |2012-03-07  |284139100 |John Carter                                |\n",
            "|559   |258000000|115.699814|2007-05-01  |890871626 |Spider-Man 3                               |\n",
            "|38757 |260000000|48.681969 |2010-11-24  |591794936 |Tangled                                    |\n",
            "|99861 |280000000|134.279229|2015-04-22  |1405403694|Avengers: Age of Ultron                    |\n",
            "|767   |250000000|98.885637 |2009-07-07  |933959197 |Harry Potter and the Half-Blood Prince     |\n",
            "|209112|250000000|155.790452|2016-03-23  |873260194 |Batman v Superman: Dawn of Justice         |\n",
            "|1452  |270000000|57.925623 |2006-06-28  |391081192 |Superman Returns                           |\n",
            "|10764 |200000000|107.928811|2008-10-30  |586090727 |Quantum of Solace                          |\n",
            "|58    |200000000|145.847379|2006-06-20  |1065659812|Pirates of the Caribbean: Dead Man's Chest |\n",
            "|57201 |255000000|49.046956 |2013-07-03  |89289910  |The Lone Ranger                            |\n",
            "|49521 |225000000|99.398009 |2013-06-12  |662845518 |Man of Steel                               |\n",
            "|2454  |225000000|53.978602 |2008-05-15  |419651413 |The Chronicles of Narnia: Prince Caspian   |\n",
            "|24428 |220000000|144.448633|2012-04-25  |1519557910|The Avengers                               |\n",
            "|1865  |380000000|135.413856|2011-05-14  |1045713802|Pirates of the Caribbean: On Stranger Tides|\n",
            "|41154 |225000000|52.035179 |2012-05-23  |624026776 |Men in Black 3                             |\n",
            "|122917|250000000|120.965743|2014-12-10  |956019788 |The Hobbit: The Battle of the Five Armies  |\n",
            "|1930  |215000000|89.866276 |2012-06-27  |752215857 |The Amazing Spider-Man                     |\n",
            "|20662 |200000000|37.668301 |2010-05-12  |310669540 |Robin Hood                                 |\n",
            "|57158 |250000000|94.370564 |2013-12-11  |958400000 |The Hobbit: The Desolation of Smaug        |\n",
            "|2268  |180000000|42.990906 |2007-12-04  |372234864 |The Golden Compass                         |\n",
            "|254   |207000000|61.22601  |2005-12-14  |550000000 |King Kong                                  |\n",
            "+------+---------+----------+------------+----------+-------------------------------------------+\n",
            "only showing top 25 rows\n",
            "\n"
          ]
        }
      ]
    },
    {
      "cell_type": "markdown",
      "source": [
        "### Missing Value"
      ],
      "metadata": {
        "id": "aCt2NnF7mb6L"
      }
    },
    {
      "cell_type": "code",
      "source": [
        "# Menghitung jumlah nilai null dalam kolom 'popularity\n",
        "\n",
        "from pyspark.sql.functions import isnan, isnull, when, count\n",
        "missing_values_count = df.select(count(when(isnull(df['popularity'])|(isnan(df['popularity'])) | (df['popularity'] == ''), df['popularity'])).alias('missing_values')).collect()[0]['missing_values']\n",
        "\n",
        "print(\"Number of missing value in the 'popularity' column:\", missing_values_count)"
      ],
      "metadata": {
        "colab": {
          "base_uri": "https://localhost:8080/"
        },
        "id": "terYezgSXC5e",
        "outputId": "bcb7388c-e8e7-42f9-e81f-46dfcab57212"
      },
      "execution_count": null,
      "outputs": [
        {
          "output_type": "stream",
          "name": "stdout",
          "text": [
            "Number of missing value in the 'popularity' column: 0\n"
          ]
        }
      ]
    },
    {
      "cell_type": "code",
      "source": [
        "# Mengelompokkan dataframe berdasarkan judul dan menghitung jumlahnya\n",
        "df.groupBy(df['title']).count().show()"
      ],
      "metadata": {
        "colab": {
          "base_uri": "https://localhost:8080/"
        },
        "id": "ZrxK5ZxIXC2a",
        "outputId": "1015a9bc-2849-469f-95fc-de628d0f6169"
      },
      "execution_count": null,
      "outputs": [
        {
          "output_type": "stream",
          "name": "stdout",
          "text": [
            "+--------------------+-----+\n",
            "|               title|count|\n",
            "+--------------------+-----+\n",
            "|            Poseidon|    1|\n",
            "|            Warcraft|    1|\n",
            "|  The Last Airbender|    1|\n",
            "|Penguins of Madag...|    1|\n",
            "|   Failure to Launch|    1|\n",
            "|         Deep Rising|    1|\n",
            "|     Isn't She Great|    1|\n",
            "|      Happy Feet Two|    1|\n",
            "|         The Tourist|    1|\n",
            "|    Now You See Me 2|    1|\n",
            "|     Mission to Mars|    1|\n",
            "|            Semi-Pro|    1|\n",
            "|             The Fan|    1|\n",
            "|        Daddy's Home|    1|\n",
            "|            Child 44|    1|\n",
            "|       Sausage Party|    1|\n",
            "|The NeverEnding S...|    1|\n",
            "|    The Untouchables|    1|\n",
            "|Harry Potter and ...|    1|\n",
            "|          Hollow Man|    1|\n",
            "+--------------------+-----+\n",
            "only showing top 20 rows\n",
            "\n"
          ]
        }
      ]
    },
    {
      "cell_type": "code",
      "source": [
        "# Mengelompokkan dataframe berdasarkan judul, menghitung jumlahnya, dan mengurutkannya dari yang terbanyak\n",
        "from pyspark.sql.functions import desc\n",
        "df.groupby(df['title']).count().sort(desc(\"count\")).show(10, False)"
      ],
      "metadata": {
        "colab": {
          "base_uri": "https://localhost:8080/"
        },
        "id": "ty32EJk7XCz_",
        "outputId": "18b19591-038e-4baa-c2dd-145f86762136"
      },
      "execution_count": null,
      "outputs": [
        {
          "output_type": "stream",
          "name": "stdout",
          "text": [
            "+----------------------+-----+\n",
            "|title                 |count|\n",
            "+----------------------+-----+\n",
            "|Batman                |4    |\n",
            "|The Host              |4    |\n",
            "|Out of the Blue       |4    |\n",
            "|Poseidon              |1    |\n",
            "|Warcraft              |1    |\n",
            "|The Last Airbender    |1    |\n",
            "|Penguins of Madagascar|1    |\n",
            "|Failure to Launch     |1    |\n",
            "|Deep Rising           |1    |\n",
            "|Isn't She Great       |1    |\n",
            "+----------------------+-----+\n",
            "only showing top 10 rows\n",
            "\n"
          ]
        }
      ]
    },
    {
      "cell_type": "code",
      "source": [
        "from pyspark.sql.functions import col\n",
        "\n",
        "# Filter dataframe untuk menghilangkan baris dengan nilai kosong atau null pada kolom 'title'\n",
        "df_temp = df.filter((df['title'] !='') & (df['title'].isNotNull()) &\n",
        "  (~isnan(df['title'])))\n",
        "\n",
        "# Mengelompokkan dataframe yang telah difilter berdasarkan judul, menghitung jumlahnya, dan memfilter hasilnya yang memiliki jumlah lebih dari 4\n",
        "df_temp.groupby(df_temp['title']).count().filter(\"`count` > 4\").sort(col(\"count\").desc()).show(10, False)"
      ],
      "metadata": {
        "colab": {
          "base_uri": "https://localhost:8080/"
        },
        "id": "9BMQyjIccS7M",
        "outputId": "77c578c2-a942-48fa-b99e-3b4edc4570ac"
      },
      "execution_count": null,
      "outputs": [
        {
          "output_type": "stream",
          "name": "stdout",
          "text": [
            "+-----+-----+\n",
            "|title|count|\n",
            "+-----+-----+\n",
            "+-----+-----+\n",
            "\n"
          ]
        }
      ]
    },
    {
      "cell_type": "code",
      "source": [
        "from pyspark.sql.functions import col\n",
        "\n",
        "# Menghitung jumlah judul yang muncul empat kali atau lebih\n",
        "jumlah_judul = df_temp.groupby(df_temp['title']).count().filter(\"`count` >= 4\").count()\n",
        "\n",
        "# Menampilkan jumlah judul yang diulang empat kali atau lebih\n",
        "print(\"Jumlah judul yang diulang empat kakli atua lebih:\", jumlah_judul)"
      ],
      "metadata": {
        "colab": {
          "base_uri": "https://localhost:8080/"
        },
        "id": "U3kuvxJDXCvK",
        "outputId": "31423749-fe37-4827-fcdd-43cc7c30a6ff"
      },
      "execution_count": null,
      "outputs": [
        {
          "output_type": "stream",
          "name": "stdout",
          "text": [
            "Jumlah judul yang diulang empat kakli atua lebih: 3\n"
          ]
        }
      ]
    },
    {
      "cell_type": "code",
      "source": [
        "# Menghapus dataframe sementara df_tem\n",
        "del df_temp"
      ],
      "metadata": {
        "id": "4oBTfNflXCs6"
      },
      "execution_count": null,
      "outputs": []
    },
    {
      "cell_type": "code",
      "source": [
        "# Menampilkan tipe data kolom dalam dataframe sebelum konversi\n",
        "df.dtypes"
      ],
      "metadata": {
        "colab": {
          "base_uri": "https://localhost:8080/"
        },
        "id": "b_cDjhYGXCqZ",
        "outputId": "3835b01b-a8cc-4309-aa19-f59d92d8f1d7"
      },
      "execution_count": null,
      "outputs": [
        {
          "output_type": "execute_result",
          "data": {
            "text/plain": [
              "[('id', 'bigint'),\n",
              " ('budget', 'bigint'),\n",
              " ('popularity', 'double'),\n",
              " ('release_date', 'string'),\n",
              " ('revenue', 'bigint'),\n",
              " ('title', 'string')]"
            ]
          },
          "metadata": {},
          "execution_count": 46
        }
      ]
    },
    {
      "cell_type": "code",
      "source": [
        "# Mengonversi kolom 'budget' menjadi tipe data float\n",
        "df = df.withColumn('budget', df['budget'].cast(\"float\"))"
      ],
      "metadata": {
        "id": "Gzh6vIc_XCnq"
      },
      "execution_count": null,
      "outputs": []
    },
    {
      "cell_type": "code",
      "source": [
        "# Menampilkan tipe data kolom dalam dataframe setelah konversi\n",
        "df.dtypes"
      ],
      "metadata": {
        "colab": {
          "base_uri": "https://localhost:8080/"
        },
        "id": "Jyxj8wWAXClv",
        "outputId": "86370a96-333e-422c-8210-6b66b11a77eb"
      },
      "execution_count": null,
      "outputs": [
        {
          "output_type": "execute_result",
          "data": {
            "text/plain": [
              "[('id', 'bigint'),\n",
              " ('budget', 'float'),\n",
              " ('popularity', 'double'),\n",
              " ('release_date', 'string'),\n",
              " ('revenue', 'bigint'),\n",
              " ('title', 'string')]"
            ]
          },
          "metadata": {},
          "execution_count": 48
        }
      ]
    },
    {
      "cell_type": "code",
      "source": [
        "# Import library yang dibutuhkan\n",
        "from pyspark.sql.types import *\n",
        "\n",
        "# Menentukan variabel integer, float, dan date\n",
        "int_vars = ['id']\n",
        "float_vars = ['budget', 'popularity', 'revenue']\n",
        "date_vars = ['release_date']\n",
        "\n",
        "# Loop untuk mengonversi tipe data kolom sesuai dengan variabel yang ditentukan\n",
        "for column in int_vars:\n",
        "  df = df.withColumn(column, df[column].cast(IntegerType()))\n",
        "\n",
        "for column in float_vars:\n",
        "  df = df.withColumn(column, df[column].cast(FloatType()))\n",
        "\n",
        "for column in date_vars:\n",
        "  df = df.withColumn(column, df[column].cast(DateType()))\n",
        "\n",
        "# Menampilkan tipe data kolom dalam dataframe setelah pengonversian\n",
        "df.dtypes"
      ],
      "metadata": {
        "colab": {
          "base_uri": "https://localhost:8080/"
        },
        "id": "6BIYGfo4XCjG",
        "outputId": "dc8879e4-58e3-45dd-fec5-7dfa3faf9c59"
      },
      "execution_count": null,
      "outputs": [
        {
          "output_type": "execute_result",
          "data": {
            "text/plain": [
              "[('id', 'int'),\n",
              " ('budget', 'float'),\n",
              " ('popularity', 'float'),\n",
              " ('release_date', 'date'),\n",
              " ('revenue', 'float'),\n",
              " ('title', 'string')]"
            ]
          },
          "metadata": {},
          "execution_count": 55
        }
      ]
    },
    {
      "cell_type": "code",
      "source": [
        "# Menampilkan 10 baris pertama dari datafram\n",
        "df.show(10, False)"
      ],
      "metadata": {
        "colab": {
          "base_uri": "https://localhost:8080/"
        },
        "id": "_JurhpCUXCgy",
        "outputId": "5fe74084-42ea-41f3-c64f-cd2ae5081fc4"
      },
      "execution_count": null,
      "outputs": [
        {
          "output_type": "stream",
          "name": "stdout",
          "text": [
            "+------+------+----------+------------+------------+----------------------------------------+\n",
            "|id    |budget|popularity|release_date|revenue     |title                                   |\n",
            "+------+------+----------+------------+------------+----------------------------------------+\n",
            "|19995 |2.37E8|150.43758 |2009-12-10  |2.78796518E9|Avatar                                  |\n",
            "|285   |3.0E8 |139.08261 |2007-05-19  |9.61E8      |Pirates of the Caribbean: At World's End|\n",
            "|206647|2.45E8|107.376785|2015-10-26  |8.8067462E8 |Spectre                                 |\n",
            "|49026 |2.5E8 |112.31295 |2012-07-16  |1.08493914E9|The Dark Knight Rises                   |\n",
            "|49529 |2.6E8 |43.926994 |2012-03-07  |2.84139104E8|John Carter                             |\n",
            "|559   |2.58E8|115.699814|2007-05-01  |8.9087162E8 |Spider-Man 3                            |\n",
            "|38757 |2.6E8 |48.68197  |2010-11-24  |5.9179494E8 |Tangled                                 |\n",
            "|99861 |2.8E8 |134.27924 |2015-04-22  |1.40540365E9|Avengers: Age of Ultron                 |\n",
            "|767   |2.5E8 |98.885635 |2009-07-07  |9.3395917E8 |Harry Potter and the Half-Blood Prince  |\n",
            "|209112|2.5E8 |155.79045 |2016-03-23  |8.7326022E8 |Batman v Superman: Dawn of Justice      |\n",
            "+------+------+----------+------------+------------+----------------------------------------+\n",
            "only showing top 10 rows\n",
            "\n"
          ]
        }
      ]
    },
    {
      "cell_type": "markdown",
      "source": [
        "### Descriptive Statistics"
      ],
      "metadata": {
        "id": "U1DTQLA1mjaf"
      }
    },
    {
      "cell_type": "code",
      "source": [
        "# Import library yang dibutuhkan\n",
        "from pyspark.sql import SparkSession\n",
        "from pyspark.sql.functions import *\n",
        "# Membuat sesi Spark\n",
        "spark = SparkSession.builder \\\n",
        "    .appName(\"Data Analysis\") \\\n",
        "    .getOrCreate()\n",
        "# Membuat summary statistik dari datafram\n",
        "summary_df = df.describe()\n",
        "summary_df.show()"
      ],
      "metadata": {
        "colab": {
          "base_uri": "https://localhost:8080/"
        },
        "id": "LnZqwHkYXCek",
        "outputId": "1faf43da-04fc-46b0-ebe0-da48d4cf74d2"
      },
      "execution_count": null,
      "outputs": [
        {
          "output_type": "stream",
          "name": "stdout",
          "text": [
            "+-------+-----------------+-------------------+------------------+--------------------+------------------+\n",
            "|summary|               id|             budget|        popularity|             revenue|             title|\n",
            "+-------+-----------------+-------------------+------------------+--------------------+------------------+\n",
            "|  count|             4809|               4809|              4809|                4809|              4809|\n",
            "|   mean|57120.57142857143|2.902780293657725E7|21.491664287965204| 8.227511197671033E7|1125.1666666666667|\n",
            "| stddev|88653.36984850948|4.070473138846018E7|31.803366351256095|1.6283785491992632E8| 935.2601809446428|\n",
            "|    min|                5|                0.0|               0.0|                 0.0|           #Horror|\n",
            "|    max|           459488|              3.8E8|          875.5813|        2.78796518E9|          Æon Flux|\n",
            "+-------+-----------------+-------------------+------------------+--------------------+------------------+\n",
            "\n"
          ]
        }
      ]
    },
    {
      "cell_type": "code",
      "source": [
        "# Menghapus baris dengan nilai null atau 0 pada kolom 'budget' dan menghitung median dari kolom 'budget'\n",
        "from pyspark.sql.functions import isnan\n",
        "df_temp = df.filter((df['budget'] != 0) & (df['budget'].isNotNull()) & (~isnan(df['budget'])))\n",
        "median = df_temp.approxQuantile('budget',[0.5], 0.1)\n",
        "print('The median of budget is' + str(median))"
      ],
      "metadata": {
        "colab": {
          "base_uri": "https://localhost:8080/"
        },
        "id": "uT5iSEuUXCbz",
        "outputId": "53a2d741-b86d-4325-cc6e-7b601d1db94c"
      },
      "execution_count": null,
      "outputs": [
        {
          "output_type": "stream",
          "name": "stdout",
          "text": [
            "The median of budget is[26000000.0]\n"
          ]
        }
      ]
    },
    {
      "cell_type": "code",
      "source": [
        "# Menghitung jumlah judul unik dalam datafram\n",
        "df.agg(countDistinct(col(\"title\")).alias(\"count\")).show()"
      ],
      "metadata": {
        "colab": {
          "base_uri": "https://localhost:8080/"
        },
        "id": "eNoOXyWAXCZE",
        "outputId": "8a1e1582-adef-4467-f047-ca740199a763"
      },
      "execution_count": null,
      "outputs": [
        {
          "output_type": "stream",
          "name": "stdout",
          "text": [
            "+-----+\n",
            "|count|\n",
            "+-----+\n",
            "| 4800|\n",
            "+-----+\n",
            "\n"
          ]
        }
      ]
    },
    {
      "cell_type": "code",
      "source": [
        "# Menampilkan 10 judul film unik\n",
        "df.select('title').distinct().show(10, False)"
      ],
      "metadata": {
        "colab": {
          "base_uri": "https://localhost:8080/"
        },
        "id": "ObtG0Cclf9Fj",
        "outputId": "b03f45b1-0587-4db7-abe0-d909c586150e"
      },
      "execution_count": null,
      "outputs": [
        {
          "output_type": "stream",
          "name": "stdout",
          "text": [
            "+----------------------+\n",
            "|title                 |\n",
            "+----------------------+\n",
            "|Poseidon              |\n",
            "|Warcraft              |\n",
            "|The Last Airbender    |\n",
            "|Penguins of Madagascar|\n",
            "|Failure to Launch     |\n",
            "|Deep Rising           |\n",
            "|Isn't She Great       |\n",
            "|Happy Feet Two        |\n",
            "|The Tourist           |\n",
            "|Now You See Me 2      |\n",
            "+----------------------+\n",
            "only showing top 10 rows\n",
            "\n"
          ]
        }
      ]
    },
    {
      "cell_type": "code",
      "source": [
        "# Menambahkan kolom 'release_year' yang berisi tahun dari tanggal rilis\n",
        "df_temp=df.withColumn('release_year', year('release_date'))"
      ],
      "metadata": {
        "id": "MdFHkfsKgGQu"
      },
      "execution_count": null,
      "outputs": []
    },
    {
      "cell_type": "code",
      "source": [
        "from pyspark.sql.functions import month,  dayofmonth, count_distinct\n",
        "\n",
        "# Menambahkan kolom 'release month' yang berisi bulan dari tanggal rilis\n",
        "df_temp = df_temp.withColumn('release month', month('release_date'))\n",
        "# Menambahkan kolom 'release day' yang berisi hari dari tanggal rilis\n",
        "df_temp = df_temp.withColumn('release day', dayofmonth('release_date'))\n",
        "# Menambahkan kolom 'release year' yang berisi tahun dari tanggal rilis\n",
        "df_temp = df_temp.withColumn('release year', year('release_date'))\n",
        "# Mengelompokkan berdasarkan tahun rilis dan menghitung jumlah judul unik dalam setiap tahun\n",
        "df_temp.groupBy(\"release_year\").agg(countDistinct(\"title\")).show(10, False)"
      ],
      "metadata": {
        "colab": {
          "base_uri": "https://localhost:8080/"
        },
        "id": "8K9FeuQOXIXc",
        "outputId": "23113184-9858-40ed-b75c-413fcf35b4b5"
      },
      "execution_count": null,
      "outputs": [
        {
          "output_type": "stream",
          "name": "stdout",
          "text": [
            "+------------+---------------------+\n",
            "|release_year|count(DISTINCT title)|\n",
            "+------------+---------------------+\n",
            "|1959        |3                    |\n",
            "|1990        |29                   |\n",
            "|1975        |6                    |\n",
            "|1977        |16                   |\n",
            "|2003        |169                  |\n",
            "|2007        |195                  |\n",
            "|1974        |8                    |\n",
            "|2015        |216                  |\n",
            "|1927        |1                    |\n",
            "|1955        |2                    |\n",
            "+------------+---------------------+\n",
            "only showing top 10 rows\n",
            "\n"
          ]
        }
      ]
    },
    {
      "cell_type": "markdown",
      "source": [
        "### Filtering"
      ],
      "metadata": {
        "id": "ivETg42RmqYL"
      }
    },
    {
      "cell_type": "code",
      "source": [
        "# Menampilkan 10 baris pertama dari dataframe yang judulnya dimulai dengan 'Meet'\n",
        "df.filter(df['title'].like('Meet%')).show(10,False)"
      ],
      "metadata": {
        "colab": {
          "base_uri": "https://localhost:8080/"
        },
        "id": "XfTZHrilXj-6",
        "outputId": "aaa818ae-3fde-47b3-d378-e728c38cc1f8"
      },
      "execution_count": null,
      "outputs": [
        {
          "output_type": "stream",
          "name": "stdout",
          "text": [
            "+-----+------+----------+------------+------------+-----------------+\n",
            "|id   |budget|popularity|release_date|revenue     |title            |\n",
            "+-----+------+----------+------------+------------+-----------------+\n",
            "|297  |9.0E7 |36.06961  |1998-11-12  |1.42940096E8|Meet Joe Black   |\n",
            "|693  |8.0E7 |32.829536 |2004-12-22  |5.16642944E8|Meet the Fockers |\n",
            "|11260|6.0E7 |18.67629  |2008-07-08  |5.065008E7  |Meet Dave        |\n",
            "|1597 |5.5E7 |29.97224  |2000-10-06  |3.30444032E8|Meet the Parents |\n",
            "|7278 |3.0E7 |10.608998 |2008-01-24  |8.4646832E7 |Meet the Spartans|\n",
            "|40688|2.4E7 |2.353441  |1998-03-27  |4562146.0   |Meet the Deedles |\n",
            "+-----+------+----------+------------+------------+-----------------+\n",
            "\n"
          ]
        }
      ]
    },
    {
      "cell_type": "code",
      "source": [
        "\n",
        "df.filter(~df['title'].like('%s')).show(10,False)"
      ],
      "metadata": {
        "colab": {
          "base_uri": "https://localhost:8080/"
        },
        "id": "sBox2KI-Y_Zq",
        "outputId": "abdf2fed-d66c-449a-c29b-4c04a550ad64"
      },
      "execution_count": null,
      "outputs": [
        {
          "output_type": "stream",
          "name": "stdout",
          "text": [
            "+------+------+----------+------------+------------+----------------------------------------+\n",
            "|id    |budget|popularity|release_date|revenue     |title                                   |\n",
            "+------+------+----------+------------+------------+----------------------------------------+\n",
            "|19995 |2.37E8|150.43758 |2009-12-10  |2.78796518E9|Avatar                                  |\n",
            "|285   |3.0E8 |139.08261 |2007-05-19  |9.61E8      |Pirates of the Caribbean: At World's End|\n",
            "|206647|2.45E8|107.376785|2015-10-26  |8.8067462E8 |Spectre                                 |\n",
            "|49529 |2.6E8 |43.926994 |2012-03-07  |2.84139104E8|John Carter                             |\n",
            "|559   |2.58E8|115.699814|2007-05-01  |8.9087162E8 |Spider-Man 3                            |\n",
            "|38757 |2.6E8 |48.68197  |2010-11-24  |5.9179494E8 |Tangled                                 |\n",
            "|99861 |2.8E8 |134.27924 |2015-04-22  |1.40540365E9|Avengers: Age of Ultron                 |\n",
            "|767   |2.5E8 |98.885635 |2009-07-07  |9.3395917E8 |Harry Potter and the Half-Blood Prince  |\n",
            "|209112|2.5E8 |155.79045 |2016-03-23  |8.7326022E8 |Batman v Superman: Dawn of Justice      |\n",
            "|10764 |2.0E8 |107.92881 |2008-10-30  |5.8609075E8 |Quantum of Solace                       |\n",
            "+------+------+----------+------------+------------+----------------------------------------+\n",
            "only showing top 10 rows\n",
            "\n"
          ]
        }
      ]
    },
    {
      "cell_type": "code",
      "source": [
        "df.filter(df['title'].rlike('\\w*one')).show(10,False)"
      ],
      "metadata": {
        "colab": {
          "base_uri": "https://localhost:8080/"
        },
        "id": "En19nyCoY_WS",
        "outputId": "9f25d398-1152-4444-b87f-f227e5b17fc0"
      },
      "execution_count": null,
      "outputs": [
        {
          "output_type": "stream",
          "name": "stdout",
          "text": [
            "+-----+------+----------+------------+------------+--------------------------------------------------+\n",
            "|id   |budget|popularity|release_date|revenue     |title                                             |\n",
            "+-----+------+----------+------------+------------+--------------------------------------------------+\n",
            "|57201|2.55E8|49.046955 |2013-07-03  |8.9289912E7 |The Lone Ranger                                   |\n",
            "|217  |1.85E8|75.67446  |2008-05-21  |7.8663603E8 |Indiana Jones and the Kingdom of the Crystal Skull|\n",
            "|673  |1.3E8 |79.6796   |2004-05-31  |7.8980454E8 |Harry Potter and the Prisoner of Azkaban          |\n",
            "|671  |1.25E8|109.98435 |2001-11-16  |9.7647552E8 |Harry Potter and the Philosopher's Stone          |\n",
            "|1894 |1.2E8 |43.98706  |2002-05-15  |6.4939834E8 |Star Wars: Episode II - Attack of the Clones      |\n",
            "|9679 |9.0E7 |52.99563  |2000-06-09  |2.37202304E8|Gone in Sixty Seconds                             |\n",
            "|22972|1.0E8 |30.25402  |2010-03-11  |9.4882888E7 |Green Zone                                        |\n",
            "|29193|1.0E7 |3.091077  |1997-09-08  |1.383513E7  |The Spanish Prisoner                              |\n",
            "|7980 |6.5E7 |29.257137 |2009-12-26  |9.3525584E7 |The Lovely Bones                                  |\n",
            "|10715|8.0E7 |16.715631 |2003-11-14  |6.8514848E7 |Looney Tunes: Back in Action                      |\n",
            "+-----+------+----------+------------+------------+--------------------------------------------------+\n",
            "only showing top 10 rows\n",
            "\n"
          ]
        }
      ]
    },
    {
      "cell_type": "code",
      "source": [
        "df.filter(df.title.contains('ove')).show()"
      ],
      "metadata": {
        "colab": {
          "base_uri": "https://localhost:8080/"
        },
        "id": "cyA2_T0_Y_Uk",
        "outputId": "c4d2baa0-13b6-4428-e6dd-d5b4252ed89e"
      },
      "execution_count": null,
      "outputs": [
        {
          "output_type": "stream",
          "name": "stdout",
          "text": [
            "+-----+------+----------+------------+------------+--------------------+\n",
            "|   id|budget|popularity|release_date|     revenue|               title|\n",
            "+-----+------+----------+------------+------------+--------------------+\n",
            "|79698| 2.7E7|  2.418535|  2015-02-13|         0.0|          The Lovers|\n",
            "|11688| 1.0E8| 51.113716|  2000-12-09| 1.6932768E8|The Emperor's New...|\n",
            "| 7980| 6.5E7| 29.257137|  2009-12-26| 9.3525584E7|    The Lovely Bones|\n",
            "|45243| 8.0E7|  58.04015|  2011-05-25|2.54455984E8|The Hangover Part II|\n",
            "|12177| 6.2E7| 13.218008|  2008-06-20| 4.1819064E7|       The Love Guru|\n",
            "|38167| 6.0E7| 28.800112|  2010-08-12|2.04594016E8|       Eat Pray Love|\n",
            "|39437|   0.0|  1.453765|  1998-10-16|         0.0|             Beloved|\n",
            "|26389| 5.2E7| 27.916285|  2010-02-05| 5.2826592E7|From Paris with Love|\n",
            "|50646| 5.0E7| 37.990704|  2011-07-29|  1.428512E8|Crazy, Stupid, Love.|\n",
            "|10390| 5.0E7|  9.622345|  1999-09-17|         0.0|For Love of the Game|\n",
            "|  508| 4.0E7| 37.073128|  2003-09-07| 2.4493176E8|       Love Actually|\n",
            "| 6639| 4.5E7|  5.361699|  2007-10-04|   4607608.0|Love in the Time ...|\n",
            "|16538| 4.1E7|   25.3919|  2009-03-20| 9.1636984E7|     I Love You, Man|\n",
            "| 1921| 4.0E7| 19.372805|  2001-02-16| 6.5754228E7|      Sweet November|\n",
            "|18785| 3.5E7|  82.21166|  2009-06-05|4.59270624E8|        The Hangover|\n",
            "|11648| 3.0E7| 11.120167|  2005-07-21| 5.8405312E7|      Must Love Dogs|\n",
            "| 6023| 3.0E7| 29.489273|  2007-11-15|1.56835344E8|     P.S. I Love You|\n",
            "|43347| 3.0E7| 20.236952|  2010-11-22|1.02820008E8|  Love & Other Drugs|\n",
            "|  174| 2.7E7| 16.188572|  1991-12-05|      9.69E7|Star Trek VI: The...|\n",
            "| 1934| 2.5E7| 31.792965|  1998-12-11|2.89317792E8| Shakespeare in Love|\n",
            "+-----+------+----------+------------+------------+--------------------+\n",
            "only showing top 20 rows\n",
            "\n"
          ]
        }
      ]
    },
    {
      "cell_type": "code",
      "source": [
        "# Memilih kolom yang nama kolomnya dimulai dengan 're'\n",
        "df.select(df.colRegex(\"`re\\w*`\")).printSchema()"
      ],
      "metadata": {
        "colab": {
          "base_uri": "https://localhost:8080/"
        },
        "id": "Mfnk6rRiYynI",
        "outputId": "cc1e5a4f-4e6b-49b8-dcdf-eba42c160555"
      },
      "execution_count": null,
      "outputs": [
        {
          "output_type": "stream",
          "name": "stdout",
          "text": [
            "root\n",
            " |-- release_date: date (nullable = true)\n",
            " |-- revenue: float (nullable = true)\n",
            "\n"
          ]
        }
      ]
    },
    {
      "cell_type": "code",
      "source": [
        "# Memilih kolom yang nama kolomnya mengandung huruf 'e'\n",
        "df.select(df.colRegex(\"`\\w*e`\")).printSchema()"
      ],
      "metadata": {
        "colab": {
          "base_uri": "https://localhost:8080/"
        },
        "id": "2LEbSi8yYybs",
        "outputId": "ca59d42b-08a8-4ef0-9c5b-401854c233a8"
      },
      "execution_count": null,
      "outputs": [
        {
          "output_type": "stream",
          "name": "stdout",
          "text": [
            "root\n",
            " |-- release_date: date (nullable = true)\n",
            " |-- revenue: float (nullable = true)\n",
            " |-- title: string (nullable = true)\n",
            "\n"
          ]
        }
      ]
    },
    {
      "cell_type": "markdown",
      "source": [
        "## Creating New Columns"
      ],
      "metadata": {
        "id": "T93KL0hvZ9NB"
      }
    },
    {
      "cell_type": "code",
      "source": [
        "# Menghitung rata-rata popularitas\n",
        "mean_pop=df.agg({'popularity':'mean'}).collect()[0]['avg(popularity)']\n",
        "# Menghitung jumlah observasi dalam dataframe\n",
        "count_obs= df.count()"
      ],
      "metadata": {
        "id": "xuuBAkaPaBtx"
      },
      "execution_count": null,
      "outputs": []
    },
    {
      "cell_type": "code",
      "source": [
        "# Menambahkan kolom baru 'mean_popularity' dengan nilai rata-rata popularitas\n",
        "df=df.withColumn('mean_popularity',lit(mean_pop))"
      ],
      "metadata": {
        "id": "ibNTgpSLaCMV"
      },
      "execution_count": null,
      "outputs": []
    },
    {
      "cell_type": "code",
      "source": [
        "from pyspark.sql.functions import pow, mean\n",
        "# Menghitung rata-rata popularitas\n",
        "mean_popularity = df.select(mean(df['popularity'])).collect()[0][0]\n",
        "# Menambahkan kolom baru 'mean_popularity'\n",
        "df = df.withColumn('mean_popularity', lit(mean_popularity))\n",
        "# Menghitung total varians dari kolom 'popularity'\n",
        "variance_sum = df.withColumn('variance', pow((df['popularity'] -\n",
        "  df['mean_popularity']), 2)) \\\n",
        "                .agg({'variance': 'sum'}) \\\n",
        "                .collect()[0]['sum(variance)']\n",
        "# Menampilkan total varians\n",
        "print('Total variance:', variance_sum)"
      ],
      "metadata": {
        "colab": {
          "base_uri": "https://localhost:8080/"
        },
        "id": "ZYhMN3Q2am_v",
        "outputId": "41c7616a-67c8-4073-93c5-ce9e1eac6052"
      },
      "execution_count": null,
      "outputs": [
        {
          "output_type": "stream",
          "name": "stdout",
          "text": [
            "Total variance: 4863071.366996781\n"
          ]
        }
      ]
    },
    {
      "cell_type": "code",
      "source": [
        "# Menghitung varians populasi\n",
        "variance_population = variance_sum / count_obs\n",
        "# Menampilkan varians populasi\n",
        "print('Variance of population:', variance_population)"
      ],
      "metadata": {
        "colab": {
          "base_uri": "https://localhost:8080/"
        },
        "outputId": "5b77c5ac-efc2-4ec8-e6b2-67a789bdc55f",
        "id": "IRIzEc2ETVS0"
      },
      "execution_count": null,
      "outputs": [
        {
          "output_type": "stream",
          "name": "stdout",
          "text": [
            "Variance of population: 1011.2437860255314\n"
          ]
        }
      ]
    },
    {
      "cell_type": "code",
      "source": [
        "from pyspark.sql.functions import udf\n",
        "from pyspark.sql.types import StructType, StructField, StringType\n",
        "\n",
        "# Definisikan fungsi baru\n",
        "def new_cols (budget, popularity):\n",
        "  if budget < 10000000:\n",
        "    budget_cat = \"Small\"\n",
        "  elif budget < 100000000:\n",
        "    budget_cat = \"Medium\"\n",
        "  else:\n",
        "    budget_cat = \"Big\"\n",
        "\n",
        "  if popularity < 3:\n",
        "    ratings = \"Low\"\n",
        "  elif popularity < 5:\n",
        "    ratings = \"Mid\"\n",
        "  else:\n",
        "    ratings = \"High\"\n",
        "\n",
        "  return budget_cat, ratings\n",
        "\n",
        "# Definisikan user-defined function (UDF)\n",
        "def new_cols (budget, popularity):\n",
        "  if budget < 10000000:\n",
        "    budget_cat = \"Small\"\n",
        "  elif budget < 100000000:\n",
        "    budget_cat = \"Medium\"\n",
        "  else:\n",
        "    budget_cat = \"Big\"\n",
        "\n",
        "  if popularity < 3:\n",
        "      ratings = \"Low\"\n",
        "  elif popularity < 5:\n",
        "      ratings = \"Mid\"\n",
        "  else:\n",
        "      ratings = \"High\"\n",
        "  return budget_cat, ratings\n",
        "\n",
        "# Register UDF\n",
        "udfB = udf (new_cols, StructType([\n",
        "    StructField(\"budget_cat\", StringType(), True),\n",
        "    StructField(\"ratings\", StringType(), True)\n",
        "]))\n",
        "\n",
        "# Select columns and apply the UDF\n",
        "temp_df = df.select('id', 'budget', 'popularity').withColumn(\"newcat\",\n",
        "  udfB(\"budget\", \"popularity\"))\n",
        "\n",
        "# Unbundle the struct type columns into individual columns and drop the struct\n",
        "df_with_newcols = temp_df.select('id', 'budget', 'popularity', temp_df.newcat.\n",
        "  getItem('budget_cat').alias('budget_cat'),\n",
        "                                 temp_df.newcat.getItem('ratings').\n",
        "  alias('ratings')).drop('newcat')\n",
        "# Menampilkan DataFrame yang sudah diubah\n",
        "df_with_newcols.show(15, False)"
      ],
      "metadata": {
        "colab": {
          "base_uri": "https://localhost:8080/"
        },
        "id": "t5Qewn8RaCGv",
        "outputId": "d55faf50-2eed-4cca-d591-19a8ee44e29f"
      },
      "execution_count": null,
      "outputs": [
        {
          "output_type": "stream",
          "name": "stdout",
          "text": [
            "+------+------+----------+----------+-------+\n",
            "|id    |budget|popularity|budget_cat|ratings|\n",
            "+------+------+----------+----------+-------+\n",
            "|19995 |2.37E8|150.43758 |Big       |High   |\n",
            "|285   |3.0E8 |139.08261 |Big       |High   |\n",
            "|206647|2.45E8|107.376785|Big       |High   |\n",
            "|49026 |2.5E8 |112.31295 |Big       |High   |\n",
            "|49529 |2.6E8 |43.926994 |Big       |High   |\n",
            "|559   |2.58E8|115.699814|Big       |High   |\n",
            "|38757 |2.6E8 |48.68197  |Big       |High   |\n",
            "|99861 |2.8E8 |134.27924 |Big       |High   |\n",
            "|767   |2.5E8 |98.885635 |Big       |High   |\n",
            "|209112|2.5E8 |155.79045 |Big       |High   |\n",
            "|1452  |2.7E8 |57.925625 |Big       |High   |\n",
            "|10764 |2.0E8 |107.92881 |Big       |High   |\n",
            "|58    |2.0E8 |145.84738 |Big       |High   |\n",
            "|57201 |2.55E8|49.046955 |Big       |High   |\n",
            "|49521 |2.25E8|99.39801  |Big       |High   |\n",
            "+------+------+----------+----------+-------+\n",
            "only showing top 15 rows\n",
            "\n"
          ]
        }
      ]
    },
    {
      "cell_type": "code",
      "source": [
        "#recreate the preceding columns using the when function\n",
        "from pyspark.sql.functions import when\n",
        "\n",
        "# Membuat DataFrame baru dengan kolom 'budget_cat' dan 'ratings' menggunakan when() function\n",
        "df_with_newcols = df.select('id', 'budget', 'popularity').\\\n",
        "    withColumn('budget_cat', when (df ['budget'] < 10000000, 'Small').\n",
        "  when (df ['budget'] < 100000000, 'Medium').otherwise('Big')).\\\n",
        "    withColumn('ratings', when (df ['popularity'] < 3, 'Low').\n",
        "  when (df ['popularity'] <5, 'Mid').otherwise('High'))\n",
        "\n",
        "# Menampilkan DataFrame yang sudah diubah\n",
        "df_with_newcols.show(15, False)"
      ],
      "metadata": {
        "colab": {
          "base_uri": "https://localhost:8080/"
        },
        "id": "MnB5HJKFaCEc",
        "outputId": "1d5bd6c6-0f4f-4a91-b45a-972b4cd5dd53"
      },
      "execution_count": null,
      "outputs": [
        {
          "output_type": "stream",
          "name": "stdout",
          "text": [
            "+------+------+----------+----------+-------+\n",
            "|id    |budget|popularity|budget_cat|ratings|\n",
            "+------+------+----------+----------+-------+\n",
            "|19995 |2.37E8|150.43758 |Big       |High   |\n",
            "|285   |3.0E8 |139.08261 |Big       |High   |\n",
            "|206647|2.45E8|107.376785|Big       |High   |\n",
            "|49026 |2.5E8 |112.31295 |Big       |High   |\n",
            "|49529 |2.6E8 |43.926994 |Big       |High   |\n",
            "|559   |2.58E8|115.699814|Big       |High   |\n",
            "|38757 |2.6E8 |48.68197  |Big       |High   |\n",
            "|99861 |2.8E8 |134.27924 |Big       |High   |\n",
            "|767   |2.5E8 |98.885635 |Big       |High   |\n",
            "|209112|2.5E8 |155.79045 |Big       |High   |\n",
            "|1452  |2.7E8 |57.925625 |Big       |High   |\n",
            "|10764 |2.0E8 |107.92881 |Big       |High   |\n",
            "|58    |2.0E8 |145.84738 |Big       |High   |\n",
            "|57201 |2.55E8|49.046955 |Big       |High   |\n",
            "|49521 |2.25E8|99.39801  |Big       |High   |\n",
            "+------+------+----------+----------+-------+\n",
            "only showing top 15 rows\n",
            "\n"
          ]
        }
      ]
    },
    {
      "cell_type": "markdown",
      "source": [
        "### Deleting and Renamning Columns"
      ],
      "metadata": {
        "id": "Yb4kjrvBiUfD"
      }
    },
    {
      "cell_type": "code",
      "source": [
        "columns_to_drop=['budget_cat']\n",
        "df_with_newcols=df_with_newcols.drop(*columns_to_drop)"
      ],
      "metadata": {
        "id": "LON-IJ4MaB12"
      },
      "execution_count": null,
      "outputs": []
    },
    {
      "cell_type": "code",
      "source": [
        "# Menggunakan chaining untuk melakukan multiple transformations\n",
        "df_with_newcols = df_with_newcols.withColumnRenamed('id', 'film_id').withColumnRenamed('ratings', 'film_ratings')\n",
        "\n",
        "# Menampilkan DataFrame yang sudah diubah\n",
        "df_with_newcols.show(15, False)"
      ],
      "metadata": {
        "colab": {
          "base_uri": "https://localhost:8080/"
        },
        "id": "kn78hLIxaByf",
        "outputId": "e93761f6-52d9-48a8-eac4-522682023abc"
      },
      "execution_count": null,
      "outputs": [
        {
          "output_type": "stream",
          "name": "stdout",
          "text": [
            "+-------+------+----------+------------+\n",
            "|film_id|budget|popularity|film_ratings|\n",
            "+-------+------+----------+------------+\n",
            "|19995  |2.37E8|150.43758 |High        |\n",
            "|285    |3.0E8 |139.08261 |High        |\n",
            "|206647 |2.45E8|107.376785|High        |\n",
            "|49026  |2.5E8 |112.31295 |High        |\n",
            "|49529  |2.6E8 |43.926994 |High        |\n",
            "|559    |2.58E8|115.699814|High        |\n",
            "|38757  |2.6E8 |48.68197  |High        |\n",
            "|99861  |2.8E8 |134.27924 |High        |\n",
            "|767    |2.5E8 |98.885635 |High        |\n",
            "|209112 |2.5E8 |155.79045 |High        |\n",
            "|1452   |2.7E8 |57.925625 |High        |\n",
            "|10764  |2.0E8 |107.92881 |High        |\n",
            "|58     |2.0E8 |145.84738 |High        |\n",
            "|57201  |2.55E8|49.046955 |High        |\n",
            "|49521  |2.25E8|99.39801  |High        |\n",
            "+-------+------+----------+------------+\n",
            "only showing top 15 rows\n",
            "\n"
          ]
        }
      ]
    },
    {
      "cell_type": "code",
      "source": [
        "# change multiple column names, you try the following command:\n",
        "# Mendefinisikan semua perubahan nama kolom dalam list\n",
        "new_names = [('budget', 'film_budget'), ('popularity', 'film_popularity')]\n",
        "\n",
        "# Mengubah nama kolom menggunakan loop\n",
        "for old_name, new_name in new_names:\n",
        "    df_with_newcols = df_with_newcols.withColumnRenamed(old_name, new_name)\n",
        "# Menampilkan DataFrame yang sudah diubah\n",
        "df_with_newcols.show(15, False)"
      ],
      "metadata": {
        "id": "GXEYxKeniYth",
        "colab": {
          "base_uri": "https://localhost:8080/"
        },
        "outputId": "12115497-31b5-4857-999b-547a2d6165ff"
      },
      "execution_count": null,
      "outputs": [
        {
          "output_type": "stream",
          "name": "stdout",
          "text": [
            "+-------+-----------+---------------+------------+\n",
            "|film_id|film_budget|film_popularity|film_ratings|\n",
            "+-------+-----------+---------------+------------+\n",
            "|19995  |2.37E8     |150.43758      |High        |\n",
            "|285    |3.0E8      |139.08261      |High        |\n",
            "|206647 |2.45E8     |107.376785     |High        |\n",
            "|49026  |2.5E8      |112.31295      |High        |\n",
            "|49529  |2.6E8      |43.926994      |High        |\n",
            "|559    |2.58E8     |115.699814     |High        |\n",
            "|38757  |2.6E8      |48.68197       |High        |\n",
            "|99861  |2.8E8      |134.27924      |High        |\n",
            "|767    |2.5E8      |98.885635      |High        |\n",
            "|209112 |2.5E8      |155.79045      |High        |\n",
            "|1452   |2.7E8      |57.925625      |High        |\n",
            "|10764  |2.0E8      |107.92881      |High        |\n",
            "|58     |2.0E8      |145.84738      |High        |\n",
            "|57201  |2.55E8     |49.046955      |High        |\n",
            "|49521  |2.25E8     |99.39801       |High        |\n",
            "+-------+-----------+---------------+------------+\n",
            "only showing top 15 rows\n",
            "\n"
          ]
        }
      ]
    }
  ]
}